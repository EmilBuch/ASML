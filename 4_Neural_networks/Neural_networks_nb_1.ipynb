{
 "cells": [
  {
   "cell_type": "code",
   "execution_count": null,
   "metadata": {},
   "outputs": [],
   "source": [
    "import torch\n",
    "%matplotlib inline\n",
    "\n",
    "import matplotlib\n",
    "import numpy as np\n",
    "import matplotlib.pyplot as plt\n",
    "from mpl_toolkits.mplot3d.axes3d import Axes3D\n",
    "from matplotlib import cm\n",
    "from tqdm import tqdm"
   ]
  },
  {
   "cell_type": "markdown",
   "metadata": {},
   "source": [
    "# Part 1"
   ]
  },
  {
   "cell_type": "markdown",
   "metadata": {},
   "source": [
    "Define a simple NN model corresponding to a logistic regression model"
   ]
  },
  {
   "cell_type": "code",
   "execution_count": null,
   "metadata": {},
   "outputs": [],
   "source": [
    "def simple_nn(w1, w2, x1, x2):\n",
    "    return 1./(1.+np.exp(-x1*w1 - x2*w2))"
   ]
  },
  {
   "cell_type": "markdown",
   "metadata": {},
   "source": [
    "Generate data"
   ]
  },
  {
   "cell_type": "code",
   "execution_count": null,
   "metadata": {},
   "outputs": [],
   "source": [
    "#np.random.seed(42)\n",
    "w_true = np.array([-1, 3])\n",
    "X_data = 5 * np.random.rand(100, 2) - 2.5\n",
    "y_prob = simple_nn(*w_true, X_data[:, 0], X_data[:, 1])\n",
    "y_data = np.random.binomial(1, y_prob)"
   ]
  },
  {
   "cell_type": "markdown",
   "metadata": {},
   "source": [
    "Data shapes"
   ]
  },
  {
   "cell_type": "code",
   "execution_count": null,
   "metadata": {},
   "outputs": [],
   "source": [
    "print(f'X_data shape {X_data.shape}')\n",
    "print(f'y_data shape {y_data.shape}')"
   ]
  },
  {
   "cell_type": "code",
   "execution_count": null,
   "metadata": {},
   "outputs": [],
   "source": [
    "display(X_data[:10])"
   ]
  },
  {
   "cell_type": "code",
   "execution_count": null,
   "metadata": {},
   "outputs": [],
   "source": [
    "display(y_data[:10])"
   ]
  },
  {
   "cell_type": "markdown",
   "metadata": {},
   "source": [
    "Use the negative log-likelihood as loss function"
   ]
  },
  {
   "cell_type": "code",
   "execution_count": null,
   "metadata": {},
   "outputs": [],
   "source": [
    "@np.vectorize\n",
    "def negloglik(w1, w2):\n",
    "    return -1/y_data.shape[0] * (np.sum(np.log(simple_nn(w1, w2, X_data[y_data == 1, 0], X_data[y_data == 1, 1])))\n",
    "                                 + np.sum(np.log(1.0 - simple_nn(w1, w2, X_data[y_data == 0, 0], X_data[y_data == 0, 1]))))"
   ]
  },
  {
   "cell_type": "markdown",
   "metadata": {},
   "source": [
    "Do a bit of plotting of the error landscape"
   ]
  },
  {
   "cell_type": "code",
   "execution_count": null,
   "metadata": {
    "tags": []
   },
   "outputs": [],
   "source": [
    "delta = 0.1\n",
    "x1 = np.arange(-10.0, 10.0, delta)\n",
    "x2 = np.arange(-10.0, 10.0, delta)\n",
    "# x1 = np.arange(0.5, 1.5, delta)\n",
    "# x2 = np.arange(0.5, 1.5, delta)\n",
    "\n",
    "X1, X2 = np.meshgrid(x1, x2)\n",
    "Z = negloglik(X1, X2)\n",
    "\n",
    "fig = plt.figure(figsize=(14, 6))\n",
    "\n",
    "# `ax` is a 3D-aware axis instance, because of the projection='3d' keyword argument to add_subplot\n",
    "ax = fig.add_subplot(1, 2, 1, projection='3d')\n",
    "ax.plot_surface(X1, X2, Z, cmap=cm.coolwarm,\n",
    "                linewidth=0, antialiased=False)\n",
    "\n",
    "ax = fig.add_subplot(1, 2, 2)\n",
    "ax.contourf(X1, X2, Z, cmap=cm.coolwarm, levels=100)\n",
    "\n",
    "plt.show()\n",
    "\n",
    "print(f'Negative log-lik for the true weights: {negloglik(*w_true)}')"
   ]
  },
  {
   "cell_type": "markdown",
   "metadata": {},
   "source": [
    "## Exercise\n",
    "1. Derive the gradient of the error function\n",
    "2. Implement the gradient in the function below\n",
    "3. Implement the gradient descent updating procedure. Experiment by changing the number of iterations, learning rate, amnd initialization point."
   ]
  },
  {
   "cell_type": "code",
   "execution_count": null,
   "metadata": {},
   "outputs": [],
   "source": [
    "def gradient(w, X_train=X_data, y_train = y_data):\n",
    "    return -1/y_train.shape[0] * np.array([np.sum((y_train - simple_nn(*w, X_train[:, 0], X_train[:, 1])) * X_train[:, 0]),\n",
    "                                             np.sum((y_train - simple_nn(*w, X_train[:, 0], X_train[:, 1])) * X_train[:, 1])])"
   ]
  },
  {
   "cell_type": "code",
   "execution_count": null,
   "metadata": {},
   "outputs": [],
   "source": [
    "def gradient_descent(lr=0.1, epochs=100, init=np.array([0,0])):\n",
    "    fig = plt.figure(figsize=(14, 6))\n",
    "    ax = fig.add_subplot(1, 2, 1)\n",
    "    ax.contourf(X1, X2, Z, cmap=cm.coolwarm, levels=100)\n",
    "    print(f'True weights: {w_true}')\n",
    "    w = init\n",
    "    pbar = tqdm(range(epochs))\n",
    "    for _ in pbar:\n",
    "        w = w - lr * gradient(w)\n",
    "        ax.scatter(*w, c='g')\n",
    "\n",
    "    plt.show()\n",
    "    return w"
   ]
  },
  {
   "cell_type": "code",
   "execution_count": null,
   "metadata": {},
   "outputs": [],
   "source": [
    "w = gradient_descent(lr=0.1, init=np.array([7.5,-2.5]))\n",
    "print(f'Found weights: {w}')\n",
    "print(f'NLL: {negloglik(*w)}')"
   ]
  },
  {
   "cell_type": "markdown",
   "metadata": {},
   "source": [
    "# Part 2"
   ]
  },
  {
   "cell_type": "markdown",
   "metadata": {},
   "source": [
    "Let's check the gradient calculations using PyTorch. For an introduction, see https://pytorch.org/tutorials/beginner/basics/intro.html. "
   ]
  },
  {
   "cell_type": "code",
   "execution_count": null,
   "metadata": {},
   "outputs": [],
   "source": [
    "sigmoid = torch.nn.Sigmoid()\n",
    "relu = torch.nn.ReLU()\n",
    "\n",
    "x1 = torch.tensor(1.0, requires_grad=True)\n",
    "w1 = torch.tensor(2.0, requires_grad=True)\n",
    "\n",
    "x2 = torch.tensor(3.0, requires_grad=True)\n",
    "w2 = torch.tensor(0.5, requires_grad=True)\n",
    "\n",
    "y1 = x1*w1\n",
    "y1.register_hook(lambda grad: print(\"Grad y1 = {}\".format(grad)))\n",
    "\n",
    "y2 = x2*w2\n",
    "y2.register_hook(lambda grad: print(\"Grad y2 = {}\".format(grad)))\n",
    "\n",
    "y3 = y1+y2\n",
    "y3.register_hook(lambda grad: print(\"Grad y3 = {}\".format(grad)))\n",
    "\n",
    "y4 = sigmoid(y3)\n",
    "y4.register_hook(lambda grad: print(\"Grad y4 = {}\".format(grad)))\n",
    "\n",
    "y5 = relu(y3)\n",
    "y5.register_hook(lambda grad: print(\"Grad y5 = {}\".format(grad)))\n",
    "\n",
    "y6 = y4 * y5\n",
    "y6.register_hook(lambda grad: print(\"Grad y6 = {}\".format(grad)))\n",
    "\n",
    "e = (1.0 - y6)**2\n",
    "\n",
    "e.backward()\n",
    "\n",
    "print(\"Grad x1 = {}\".format(x1.grad))\n",
    "print(\"Grad x2 = {}\".format(x2.grad))\n",
    "print(\"Grad w1 = {}\".format(w1.grad))\n",
    "print(\"Grad w2 = {}\".format(w2.grad))\n",
    "\n",
    "print(\"Done\")"
   ]
  },
  {
   "cell_type": "markdown",
   "metadata": {
    "tags": []
   },
   "source": [
    "# Part 3"
   ]
  },
  {
   "cell_type": "markdown",
   "metadata": {},
   "source": [
    "Implement the following neural network with PyTorch (as above), where the hidden units and the output unit have a sigmoid activation function:\n",
    "\n",
    "Let the loss function be $loss = (Y − O)^2$ and assume that we have the training example $(X = 1, O = 1)$.\n",
    "1. Using your implementation, find the partial derivatives for each of the weights in the network.\n",
    "2. How do the derivatives compare? Can you see a general pattern and what are the implications for gradient descent?\n",
    "3. Can you argue for why you see this particular pattern? Hint: Consider the local contributions to the gradient from the sigmoid functions (what is the maximum value of the local gradient?)."
   ]
  },
  {
   "cell_type": "code",
   "execution_count": null,
   "metadata": {},
   "outputs": [],
   "source": [
    "sigmoid = torch.nn.Sigmoid()\n",
    "\n",
    "x1 = torch.tensor(1.0, requires_grad=True)\n",
    "w1 = torch.tensor(1.0, requires_grad=True)\n",
    "w2 = torch.tensor(2.0, requires_grad=True)\n",
    "w3 = torch.tensor(3.0, requires_grad=True)\n",
    "w4 = torch.tensor(4.0, requires_grad=True)\n",
    "w5 = torch.tensor(5.0, requires_grad=True)\n",
    "\n",
    "y1 = x1*w1\n",
    "y1.register_hook(lambda grad: print(\"Grad y1 = {}\".format(grad)))\n",
    "\n",
    "y2 = sigmoid(y1*w2)\n",
    "y2.register_hook(lambda grad: print(\"Grad y2 = {}\".format(grad)))\n",
    "\n",
    "y3 = sigmoid(y2+w3)\n",
    "y3.register_hook(lambda grad: print(\"Grad y3 = {}\".format(grad)))\n",
    "\n",
    "y4 = sigmoid(y3*w4)\n",
    "y4.register_hook(lambda grad: print(\"Grad y4 = {}\".format(grad)))\n",
    "\n",
    "y5 = sigmoid(y4*w5)\n",
    "y5.register_hook(lambda grad: print(\"Grad y5 = {}\".format(grad)))\n",
    "\n",
    "e = (1.0 - y5)**2\n",
    "\n",
    "e.backward()\n",
    "\n",
    "print(\"Grad x1 = {}\".format(x1.grad))\n",
    "print(\"Grad w1 = {}\".format(w1.grad))\n",
    "print(\"Grad w2 = {}\".format(w2.grad))\n",
    "print(\"Grad w3 = {}\".format(w3.grad))\n",
    "print(\"Grad w4 = {}\".format(w4.grad))\n",
    "print(\"Grad w5 = {}\".format(w5.grad))\n",
    "\n",
    "print(\"Done\")\n"
   ]
  },
  {
   "cell_type": "markdown",
   "metadata": {
    "tags": []
   },
   "source": [
    "# Part 4\n",
    "\n",
    "## Exercise\n",
    "1. Extend your implementation from Exercise 1 with momentum\n",
    "2. Experiment by changing the number of iterations, learning rate, initialization point."
   ]
  },
  {
   "cell_type": "markdown",
   "metadata": {},
   "source": [
    "## Solution"
   ]
  },
  {
   "cell_type": "code",
   "execution_count": null,
   "metadata": {},
   "outputs": [],
   "source": [
    "def gradient_descent(lr=0.1, epochs=100, init=np.array([0,0]), momentum=0.9):\n",
    "    fig = plt.figure(figsize=(14, 6))\n",
    "    ax = fig.add_subplot(1, 2, 1)\n",
    "    ax.contourf(X1, X2, Z, cmap=cm.coolwarm, levels=100)\n",
    "    print(f'True weights: {w_true}')\n",
    "    w = init\n",
    "    v = np.zeros_like(w)\n",
    "    pbar = tqdm(range(epochs))\n",
    "    for _ in pbar:\n",
    "        v = momentum * v - lr * gradient(w)\n",
    "        w = w + v\n",
    "        pbar.set_description(f'w = {w}')\n",
    "        ax.scatter(*w, c='g')\n",
    " \n",
    "    plt.show()\n",
    "    return w"
   ]
  },
  {
   "cell_type": "code",
   "execution_count": null,
   "metadata": {},
   "outputs": [],
   "source": [
    "w = gradient_descent(lr=0.1, init=np.array([7.5,-2.5]))\n",
    "print(f'Found weights: {w}')\n",
    "print(f'NLL: {negloglik(*w)}')"
   ]
  },
  {
   "cell_type": "markdown",
   "metadata": {},
   "source": [
    "# Part 5\n",
    "\n",
    "## Exercise\n",
    "1. Implement stochastic gradient descent for the model in Exercise 1.\n",
    "2. Experiment by changing the number of iterations, learning rate, initialization point, mini batch size."
   ]
  },
  {
   "cell_type": "code",
   "execution_count": null,
   "metadata": {},
   "outputs": [],
   "source": [
    "def stochastic_gradient_descent(lr=0.1, epochs=100, init=np.array([0,0]), batch_size=20):\n",
    "    fig = plt.figure(figsize=(14, 6))\n",
    "    ax = fig.add_subplot(1, 2, 1)\n",
    "    ax.contourf(X1, X2, Z, cmap=cm.coolwarm, levels=100)\n",
    "    print(f'True weights: {w_true}')\n",
    "    w = init\n",
    "    idx = np.arange(X_data.shape[0])\n",
    "    n_batches = len(idx) // batch_size\n",
    "    pbar = tqdm(range(epochs))\n",
    "    for _ in pbar:\n",
    "        np.random.shuffle(idx)\n",
    "        for b in range(n_batches):\n",
    "            batch_idx = idx[b * batch_size:(b + 1) * batch_size]\n",
    "            w = w - lr * gradient(w, X_data[batch_idx], y_data[batch_idx])\n",
    "            pbar.set_description(f'w = {w}')\n",
    "            ax.scatter(*w, c='g')\n",
    "    plt.show()\n",
    "    return w"
   ]
  },
  {
   "cell_type": "code",
   "execution_count": null,
   "metadata": {},
   "outputs": [],
   "source": [
    "w = stochastic_gradient_descent(lr=0.1, init=np.array([7.5,-2.5]))\n",
    "print(f'Found weights: {w}')\n",
    "print(f'NLL: {negloglik(*w)}')"
   ]
  },
  {
   "cell_type": "markdown",
   "metadata": {},
   "source": [
    "\n",
    "# Self study 1\n",
    "\n",
    "In this self study you should work on the code examples below together with the associated questions. The notebook illustrates a basic neural network implementation, where we implement most of the relevant functions from scratch, except for the calculation of the gradients, for which we rely on the functionality provided by <a urel=\"https://pytorch.org\">PyTorch</a>. \n",
    "\n",
    "Since we rely on PyTorch functionality, we will also be using PyTorch's tensor data structure. This data structure operates in much the same way as numpy's ndarrays. You can find a brief introduction to PyTorch's tensors <a href=\"https://pytorch.org/tutorials/beginner/basics/tensorqs_tutorial.html\">here</a>.  \n",
    "\n",
    "\n",
    "\n",
    "The code illustrates the key concepts involved in the learning neural network. Go carefully through the code before starting to answer the questions at the end."
   ]
  },
  {
   "cell_type": "markdown",
   "metadata": {},
   "source": [
    "First we import the modules used in this selfstudy"
   ]
  },
  {
   "cell_type": "code",
   "execution_count": 1,
   "metadata": {},
   "outputs": [],
   "source": [
    "import torch\n",
    "from torchvision import datasets, transforms\n",
    "from matplotlib import pyplot\n",
    "import matplotlib.pyplot as plt\n",
    "import numpy as np"
   ]
  },
  {
   "cell_type": "markdown",
   "metadata": {},
   "source": [
    "Through torch load the MNIST data set, which we will use in this self study. The MNIST database consists of grey scale images of handwritten digits. Each image is of size $28\\times 28$; see figure below for an illustration. The data set is divided into a training set consisting of $60000$ images and a test set with $10000$ images; in both\n",
    "data sets the images are labeled with the correct digits. If interested, you can find more information about the MNIST data set at http://yann.lecun.com/exdb/mnist/, including accuracy results for various machine learning methods.\n",
    "\n",
    "![MNIST DATA](MNIST-dataset.png)"
   ]
  },
  {
   "cell_type": "markdown",
   "metadata": {},
   "source": [
    "Using the data loader provided by torch we have an easy way of loading in data in batches (here of size 64). We can also make various other transformation of the data, such as normalization. The details for loading the data are not really that important, but if yiu are curious, you can find a quick introduction <a href=\"https://pytorch.org/tutorials/beginner/basics/quickstart_tutorial.html\">here</a>."
   ]
  },
  {
   "cell_type": "code",
   "execution_count": 21,
   "metadata": {},
   "outputs": [],
   "source": [
    "def dataload(data_batch_size):\n",
    "    dest_path = '/Users/hecter/OneDrive/7_semester/Advanced Statistical Machine Learning/Exercises/0_Data'\n",
    "    train_loader = torch.utils.data.DataLoader(\n",
    "            datasets.MNIST(dest_path, train=True, download=True,\n",
    "                        transform=transforms.Compose([\n",
    "                            transforms.ToTensor(),\n",
    "                            transforms.Normalize((0.1307,), (0.3081,))\n",
    "                        ])),\n",
    "            batch_size=data_batch_size, shuffle=True)\n",
    "    test_loader = torch.utils.data.DataLoader(\n",
    "            datasets.MNIST(dest_path, train=False, transform=transforms.Compose([\n",
    "                transforms.ToTensor(),\n",
    "                transforms.Normalize((0.1307,), (0.3081,))\n",
    "            ])),\n",
    "            batch_size=data_batch_size, shuffle=True)\n",
    "    \n",
    "    return train_loader, test_loader"
   ]
  },
  {
   "cell_type": "code",
   "execution_count": 22,
   "metadata": {},
   "outputs": [],
   "source": [
    "train_loader, test_loader = dataload(data_batch_size=64)"
   ]
  },
  {
   "cell_type": "markdown",
   "metadata": {},
   "source": [
    "In the cell above, we are loading data in batches, which is subsequently used during optimization. We didn't discuss batch based learning during the last lecture, but please take a look at Slides 24 and 25 to get the gist of the approach. We will cover it in more detail during the next lecture.   \n",
    "\n",
    "Each batch is a list of two elements. The first element encodes the digit and has dimensions [64,1,28,28] (the figures are greyscale with no rbg channel, hence the '1'), and the second element contains the class/label information. "
   ]
  },
  {
   "cell_type": "code",
   "execution_count": 23,
   "metadata": {},
   "outputs": [
    {
     "name": "stdout",
     "output_type": "stream",
     "text": [
      "Batch dimension (digit): torch.Size([64, 1, 28, 28])\n",
      "Batch dimension (target): torch.Size([64])\n",
      "Target: 2 with shape torch.Size([])\n"
     ]
    },
    {
     "data": {
      "image/png": "[encoded data removed]",
      "text/plain": [
       "<Figure size 640x480 with 1 Axes>"
      ]
     },
     "metadata": {},
     "output_type": "display_data"
    }
   ],
   "source": [
    "batch = next(iter(train_loader))\n",
    "print(f\"Batch dimension (digit): {batch[0].shape}\")\n",
    "print(f\"Batch dimension (target): {batch[1].shape}\")\n",
    "digit_batch = batch[0]\n",
    "img = digit_batch[0,:]\n",
    "pyplot.imshow(img.reshape((28, 28)), cmap=\"gray\")\n",
    "print(f\"Target: {batch[1][0]} with shape {batch[1][0].shape}\")"
   ]
  },
  {
   "cell_type": "markdown",
   "metadata": {},
   "source": [
    "With PyTorch we can specify that the tensors require gradients. This will make PyTorch record all operations performed on the tensors, so that we can afterwards calculate the gradients automatically using back propagation. See also the code example from the last lecture."
   ]
  },
  {
   "cell_type": "markdown",
   "metadata": {},
   "source": [
    "For the first part of this self study we will specify a neural network, which will encode a softmax function (see, e.g., Page 180 in <a href=\"https://www.deeplearningbook.org/contents/mlp.html\">The Deep Learning book</a>). For this we need a (randomly initialized) weight matrix and a bias, and for both of them we need their gradients wrt. our error function (yet to be defined) in order to perform learning. Note that to facilitate matrix multiplication we will flatten our image from $28\\times 28$ to $784$. "
   ]
  },
  {
   "cell_type": "markdown",
   "metadata": {},
   "source": [
    "Out model specification"
   ]
  },
  {
   "cell_type": "code",
   "execution_count": 4,
   "metadata": {},
   "outputs": [],
   "source": [
    "def softmax(x):\n",
    "    return x.exp() / x.exp().sum(-1).unsqueeze(-1)\n",
    "\n",
    "def model(xb, weights, bias):\n",
    "    return softmax(xb @ weights + bias)"
   ]
  },
  {
   "cell_type": "markdown",
   "metadata": {},
   "source": [
    "Let's test our model (with our randomly initialized weights)"
   ]
  },
  {
   "cell_type": "code",
   "execution_count": 25,
   "metadata": {},
   "outputs": [
    {
     "name": "stdout",
     "output_type": "stream",
     "text": [
      "Batch shape: torch.Size([64, 784])\n",
      "Prediction on first image tensor([0.0124, 0.0225, 0.0227, 0.1876, 0.0623, 0.1390, 0.0710, 0.0438, 0.2470,\n",
      "        0.1917], grad_fn=<SelectBackward0>)\n",
      "Corresponding classification: 8\n"
     ]
    }
   ],
   "source": [
    "weights_test = torch.randn(784, 10) / np.sqrt(784)\n",
    "weights_test.requires_grad_()\n",
    "bias_test = torch.zeros(10, requires_grad=True)\n",
    "\n",
    "# We flatten the digit representation so that it is consistent with the weight matrix\n",
    "xb = digit_batch.flatten(start_dim=1)\n",
    "print(f\"Batch shape: {xb.shape}\")\n",
    "preds = model(xb, weights_test, bias_test)\n",
    "print(f\"Prediction on first image {preds[0]}\")\n",
    "print(f\"Corresponding classification: {preds[0].argmax()}\")"
   ]
  },
  {
   "cell_type": "markdown",
   "metadata": {},
   "source": [
    "Next we define our loss function, in this case the log-loss (or negative log-likelihood):"
   ]
  },
  {
   "cell_type": "code",
   "execution_count": 116,
   "metadata": {},
   "outputs": [
    {
     "name": "stdout",
     "output_type": "stream",
     "text": [
      "tensor(2.8003, grad_fn=<MeanBackward0>)\n"
     ]
    }
   ],
   "source": [
    "def nll(input, target):\n",
    "    return (-input[range(target.shape[0]), target].log()).mean() \n",
    "loss_func = nll\n",
    "\n",
    "# Make a test calculation\n",
    "yb = batch[1]\n",
    "print(loss_func(preds,yb))"
   ]
  },
  {
   "cell_type": "markdown",
   "metadata": {},
   "source": [
    "In the end, we are interested in the accuracy of our model"
   ]
  },
  {
   "cell_type": "code",
   "execution_count": 7,
   "metadata": {},
   "outputs": [],
   "source": [
    "def accuracy(out, yb):\n",
    "    preds = torch.argmax(out, dim=1)\n",
    "    return (preds == yb).float().mean()"
   ]
  },
  {
   "cell_type": "code",
   "execution_count": 8,
   "metadata": {},
   "outputs": [
    {
     "name": "stdout",
     "output_type": "stream",
     "text": [
      "Accuracy of model on batch (with random weights): 0.078125\n"
     ]
    }
   ],
   "source": [
    "print(f\"Accuracy of model on batch (with random weights): {accuracy(preds, yb)}\")"
   ]
  },
  {
   "cell_type": "markdown",
   "metadata": {},
   "source": [
    "Now we are ready to combine it all and perform learning"
   ]
  },
  {
   "cell_type": "code",
   "execution_count": 125,
   "metadata": {},
   "outputs": [],
   "source": [
    "def model_trainer(epochs, lr, inc_momentum, train_loader, test_loader, momentum=0.9):\n",
    "    train_losses = []\n",
    "    weights = torch.randn(784, 10) / np.sqrt(784)\n",
    "    weights.requires_grad_()\n",
    "    bias = torch.zeros(10, requires_grad=True)\n",
    "    v_weights = torch.zeros_like(weights)\n",
    "    v_bias = torch.zeros_like(bias)\n",
    "    \n",
    "    for epoch in range(epochs):\n",
    "\n",
    "        for batch_idx, (xb, yb) in enumerate(train_loader):\n",
    "            # We flatten the digit representation so that it is consistent with the weight matrix\n",
    "            xb = xb.squeeze().flatten(start_dim=1)\n",
    "            \n",
    "            # Predictions\n",
    "            pred = model(xb, weights, bias)\n",
    "            \n",
    "            # We specify the loss\n",
    "            loss = loss_func(pred, yb)\n",
    "            \n",
    "            # Add l2 regularization\n",
    "            #l2_norm = torch.sum(weights**2)\n",
    "            #loss += l2_lambda * l2_norm\n",
    "            #weights *= 1 - lr * l2_lambda\n",
    "            \n",
    "            # Perform backpropagation      \n",
    "            loss.backward()\n",
    "            \n",
    "            with torch.no_grad():\n",
    "                if inc_momentum:\n",
    "                    # Update velocity and weights\n",
    "                    v_weights = (momentum * v_weights) - (lr * weights.grad)\n",
    "                    v_bias = (momentum * v_bias) - (lr * bias.grad)\n",
    "                    weights += v_weights\n",
    "                    bias += v_bias\n",
    "                else:\n",
    "                    weights -= weights.grad * lr\n",
    "                    bias -= bias.grad * lr\n",
    "                \n",
    "                # After updating we set the gradients to zero so that we ar eready for the next round\n",
    "                weights.grad.zero_()\n",
    "                bias.grad.zero_()\n",
    "                        \n",
    "                if batch_idx % 50 == 0:\n",
    "                    with torch.no_grad():\n",
    "                        train_loss = np.mean([loss_func(model(txb.squeeze().flatten(start_dim=1), weights, bias), tyb).item() for txb, tyb in train_loader])\n",
    "                        print(f\"Epoch: {epoch}, B-idx: {batch_idx}, Training loss: {train_loss}\")\n",
    "                        train_losses.append(train_loss)\n",
    "                        \n",
    "    return train_losses"
   ]
  },
  {
   "cell_type": "code",
   "execution_count": 52,
   "metadata": {},
   "outputs": [
    {
     "name": "stdout",
     "output_type": "stream",
     "text": [
      "Epoch: 0, B-idx: 0, Training loss: 2.646603862868189\n",
      "Epoch: 0, B-idx: 50, Training loss: 0.8279358659471784\n",
      "Epoch: 0, B-idx: 100, Training loss: 0.6248431940322746\n",
      "Epoch: 0, B-idx: 150, Training loss: 0.5419386199860177\n",
      "Epoch: 0, B-idx: 200, Training loss: 0.4953531011589555\n",
      "Epoch: 0, B-idx: 250, Training loss: 0.46307043680377097\n",
      "Epoch: 0, B-idx: 300, Training loss: 0.4418998386051609\n",
      "Epoch: 0, B-idx: 350, Training loss: 0.42775356582105795\n",
      "Epoch: 0, B-idx: 400, Training loss: 0.41416370765423216\n",
      "Epoch: 0, B-idx: 450, Training loss: 0.40328247530628114\n",
      "Epoch: 0, B-idx: 500, Training loss: 0.3955039853798047\n",
      "Epoch: 0, B-idx: 550, Training loss: 0.38956991737204066\n",
      "Epoch: 0, B-idx: 600, Training loss: 0.381375965374365\n",
      "Epoch: 0, B-idx: 650, Training loss: 0.37719972520621853\n",
      "Epoch: 0, B-idx: 700, Training loss: 0.3706734607786512\n",
      "Epoch: 0, B-idx: 750, Training loss: 0.3669587801387315\n",
      "Epoch: 0, B-idx: 800, Training loss: 0.3613342908717422\n",
      "Epoch: 0, B-idx: 850, Training loss: 0.3573363550118546\n",
      "Epoch: 0, B-idx: 900, Training loss: 0.3539283700319114\n"
     ]
    }
   ],
   "source": [
    "base_model_results = model_trainer(\n",
    "                        epochs=1, \n",
    "                        lr=0.01,\n",
    "                        inc_momentum=False,\n",
    "                        train_loader=train_loader,\n",
    "                        test_loader=test_loader\n",
    "                    )"
   ]
  },
  {
   "cell_type": "markdown",
   "metadata": {},
   "source": [
    "Plot the evolution of the training loss"
   ]
  },
  {
   "cell_type": "code",
   "execution_count": 53,
   "metadata": {
    "scrolled": true
   },
   "outputs": [
    {
     "data": {
      "text/plain": [
       "Text(0.5, 0, 'Batch # (every 50th)')"
      ]
     },
     "execution_count": 53,
     "metadata": {},
     "output_type": "execute_result"
    },
    {
     "data": {
      "image/png": "[encoded data removed]",
      "text/plain": [
       "<Figure size 640x480 with 1 Axes>"
      ]
     },
     "metadata": {},
     "output_type": "display_data"
    }
   ],
   "source": [
    "plt.plot(range(len(base_model_results)), base_model_results)\n",
    "plt.ylim(0, 2.5)\n",
    "plt.ylabel('Loss')\n",
    "plt.xlabel('Batch # (every 50th)')"
   ]
  },
  {
   "cell_type": "markdown",
   "metadata": {},
   "source": [
    "# Exercise: \n",
    "1. Experiment with different variations of the gradient descent implementation; try varying the learning rate and the batch size. Assuming that you have a fixed time budget (say 2 minutes for learning), what can we then say about the effect of changing the parameters?\n",
    "2. Implement momentum in the learning algorithm. How does it affect the results?\n",
    "3. Try with different initialization schemes for the parameters (e.g. allowing for larger values). How does it affect the behavior of the algorithm?\n",
    "4. Analyze the behavior of the algorithm on the test set and implement a method for evaluating the accuracy over the entire training/test set.\n",
    "5. If you feel adventorous, you are welcome to try to specify and experiment with other more advanced model architectures."
   ]
  },
  {
   "cell_type": "markdown",
   "metadata": {},
   "source": [
    "### 1. Experiment with different variations of the gradient descent implementation; try varying the learning rate and the batch size. Assuming that you have a fixed time budget (say 2 minutes for learning), what can we then say about the effect of changing the parameters?\n",
    "\n",
    "* Learning rate: converges faster towards local minimum. As with higher learning rates, training can lead to divergent behavior, where the model fails to converge or even starts to diverge after initially converging. Clear from the plot below that shows multiple fluctuations.\n",
    "\n",
    "* Batch size: increasing batch size dimishes uncertainty in derived gradients. While each iteration is more informative, it takes more iterations to adequately converge which might not be possible under a fixed time budget."
   ]
  },
  {
   "cell_type": "code",
   "execution_count": null,
   "metadata": {},
   "outputs": [],
   "source": [
    "def model_trainer(epochs, lr, inc_momentum, train_loader, test_loader, momentum=0.9):\n",
    "    train_losses = []\n",
    "    weights = torch.randn(784, 10) / np.sqrt(784)\n",
    "    weights.requires_grad_()\n",
    "    bias = torch.zeros(10, requires_grad=True)\n",
    "    v_weights = torch.zeros_like(weights)\n",
    "    v_bias = torch.zeros_like(bias)\n",
    "    \n",
    "    for epoch in range(epochs):\n",
    "\n",
    "        for batch_idx, (xb, yb) in enumerate(train_loader):\n",
    "            # We flatten the digit representation so that it is consistent with the weight matrix\n",
    "            xb = xb.squeeze().flatten(start_dim=1)\n",
    "            \n",
    "            # Predictions\n",
    "            pred = model(xb, weights, bias)\n",
    "            \n",
    "            # We specify the loss\n",
    "            loss = loss_func(pred, yb)\n",
    "            \n",
    "            # Add l2 regularization\n",
    "            #l2_norm = torch.sum(weights**2)\n",
    "            #loss += l2_lambda * l2_norm\n",
    "            #weights *= 1 - lr * l2_lambda\n",
    "            \n",
    "            # Perform backpropagation      \n",
    "            loss.backward()\n",
    "            \n",
    "            with torch.no_grad():\n",
    "                if inc_momentum:\n",
    "                    # Update velocity and weights\n",
    "                    v_weights = (momentum * v_weights) - (lr * weights.grad)\n",
    "                    v_bias = (momentum * v_bias) - (lr * bias.grad)\n",
    "                    weights += v_weights\n",
    "                    bias += v_bias\n",
    "                else:\n",
    "                    weights -= weights.grad * lr\n",
    "                    bias -= bias.grad * lr\n",
    "                \n",
    "                # After updating we set the gradients to zero so that we ar eready for the next round\n",
    "                weights.grad.zero_()\n",
    "                bias.grad.zero_()\n",
    "                        \n",
    "                if batch_idx % 50 == 0:\n",
    "                    with torch.no_grad():\n",
    "                        train_loss = np.mean([loss_func(model(txb.squeeze().flatten(start_dim=1), weights, bias), tyb).item() for txb, tyb in train_loader])\n",
    "                        print(f\"Epoch: {epoch}, B-idx: {batch_idx}, Training loss: {train_loss}\")\n",
    "                        train_losses.append(train_loss)\n",
    "                        \n",
    "    return train_losses"
   ]
  },
  {
   "cell_type": "code",
   "execution_count": 51,
   "metadata": {},
   "outputs": [
    {
     "name": "stdout",
     "output_type": "stream",
     "text": [
      "Epoch: 0, B-idx: 0, Training loss: 6.166435327865422\n",
      "Epoch: 0, B-idx: 50, Training loss: 0.8539476075025001\n",
      "Epoch: 0, B-idx: 100, Training loss: 0.6102552871539522\n",
      "Epoch: 0, B-idx: 150, Training loss: 0.7073394255931063\n",
      "Epoch: 0, B-idx: 200, Training loss: 0.6440162765128272\n",
      "Epoch: 0, B-idx: 250, Training loss: 0.6740613688172689\n",
      "Epoch: 0, B-idx: 300, Training loss: 0.4735567915056751\n",
      "Epoch: 0, B-idx: 350, Training loss: 0.5649682346787026\n",
      "Epoch: 0, B-idx: 400, Training loss: 0.49357198685137577\n",
      "Epoch: 0, B-idx: 450, Training loss: 0.6112128592201514\n",
      "Epoch: 0, B-idx: 500, Training loss: 0.5348083071077048\n",
      "Epoch: 0, B-idx: 550, Training loss: 0.5036125217340013\n",
      "Epoch: 0, B-idx: 600, Training loss: 0.6384223333712834\n",
      "Epoch: 0, B-idx: 650, Training loss: 0.7911732188547089\n",
      "Epoch: 0, B-idx: 700, Training loss: 1.3409066529416327\n",
      "Epoch: 0, B-idx: 750, Training loss: 0.543507597574007\n",
      "Epoch: 0, B-idx: 800, Training loss: 0.5906414583976716\n",
      "Epoch: 0, B-idx: 850, Training loss: 0.5340098845663228\n",
      "Epoch: 0, B-idx: 900, Training loss: 0.46986272383822814\n"
     ]
    }
   ],
   "source": [
    "higher_lr_model = model_trainer(\n",
    "                        epochs=1, \n",
    "                        lr=0.3,\n",
    "                        inc_momentum=False,\n",
    "                        train_loader=train_loader,\n",
    "                        test_loader=test_loader\n",
    "                    )"
   ]
  },
  {
   "cell_type": "code",
   "execution_count": 56,
   "metadata": {},
   "outputs": [
    {
     "name": "stdout",
     "output_type": "stream",
     "text": [
      "Epoch: 0, B-idx: 0, Training loss: 2.519285108489014\n",
      "Epoch: 0, B-idx: 50, Training loss: 0.8240414264359708\n",
      "Epoch: 0, B-idx: 100, Training loss: 0.6230876302159926\n",
      "Epoch: 0, B-idx: 150, Training loss: 0.5417026034169106\n",
      "Epoch: 0, B-idx: 200, Training loss: 0.4959262252362298\n",
      "Epoch: 0, B-idx: 250, Training loss: 0.4664929453879277\n",
      "Epoch: 0, B-idx: 300, Training loss: 0.4447292926341994\n",
      "Epoch: 0, B-idx: 350, Training loss: 0.4289404504588926\n",
      "Epoch: 0, B-idx: 400, Training loss: 0.4161285557218198\n",
      "Epoch: 0, B-idx: 450, Training loss: 0.40515041421217196\n"
     ]
    }
   ],
   "source": [
    "train_loader_128b, test_loader_128b = dataload(data_batch_size=128)\n",
    "\n",
    "higher_batch_size_model = model_trainer(\n",
    "                        epochs=1, \n",
    "                        lr=0.01,\n",
    "                        inc_momentum=False,\n",
    "                        train_loader=train_loader_128b,\n",
    "                        test_loader=test_loader_128b\n",
    "                    )"
   ]
  },
  {
   "cell_type": "code",
   "execution_count": 57,
   "metadata": {},
   "outputs": [
    {
     "data": {
      "image/png": "[encoded data removed]",
      "text/plain": [
       "<Figure size 1200x400 with 3 Axes>"
      ]
     },
     "metadata": {},
     "output_type": "display_data"
    }
   ],
   "source": [
    "fig, axs = plt.subplots(1, 3, figsize=(12, 4))\n",
    "\n",
    "# Plot for model_1_results\n",
    "axs[0].plot(range(len(base_model_results)), base_model_results)\n",
    "axs[0].set_ylim(0, 2.5)\n",
    "axs[0].set_ylabel('Loss')\n",
    "axs[0].set_xlabel('Batch # (every 50th)')\n",
    "axs[0].set_title('0.01 LR - 64 Batch Size')\n",
    "\n",
    "# Plot for higher_lr_model\n",
    "axs[1].plot(range(len(higher_lr_model)), higher_lr_model)\n",
    "axs[1].set_ylim(0, 2.5)\n",
    "axs[1].set_ylabel('Loss')\n",
    "axs[1].set_xlabel('Batch # (every 50th)')\n",
    "axs[1].set_title('0.3 LR - 64 Batch Size')\n",
    "\n",
    "# Plot for higher_batch_size_model\n",
    "axs[2].plot(range(len(higher_batch_size_model)), higher_batch_size_model)\n",
    "axs[2].set_ylim(0, 2.5)\n",
    "axs[2].set_ylabel('Loss')\n",
    "axs[2].set_xlabel('Batch # (every 50th)')\n",
    "axs[2].set_title('0.01 LR - 128 Batch Size')\n",
    "\n",
    "plt.tight_layout()\n",
    "plt.show()"
   ]
  },
  {
   "cell_type": "markdown",
   "metadata": {},
   "source": [
    "### 2. Implement momentum in the learning algorithm. How does it affect the results?"
   ]
  },
  {
   "cell_type": "markdown",
   "metadata": {},
   "source": [
    "Faster convergence compared to baseline model with no momentum. "
   ]
  },
  {
   "cell_type": "code",
   "execution_count": 123,
   "metadata": {},
   "outputs": [
    {
     "name": "stdout",
     "output_type": "stream",
     "text": [
      "Epoch: 0, B-idx: 0, Training loss: 2.6597213574818204\n",
      "Epoch: 0, B-idx: 50, Training loss: 0.437203117453658\n",
      "Epoch: 0, B-idx: 100, Training loss: 0.42968800036447136\n",
      "Epoch: 0, B-idx: 150, Training loss: 0.3652673529377624\n",
      "Epoch: 0, B-idx: 200, Training loss: 0.3460232117362241\n",
      "Epoch: 0, B-idx: 250, Training loss: 0.34116539426608633\n",
      "Epoch: 0, B-idx: 300, Training loss: 0.3247787926369893\n",
      "Epoch: 0, B-idx: 350, Training loss: 0.3703536878326046\n",
      "Epoch: 0, B-idx: 400, Training loss: 0.3201073647133196\n",
      "Epoch: 0, B-idx: 450, Training loss: 0.3256520086180554\n",
      "Epoch: 0, B-idx: 500, Training loss: 0.3181519151242303\n",
      "Epoch: 0, B-idx: 550, Training loss: 0.3225955292900234\n",
      "Epoch: 0, B-idx: 600, Training loss: 0.30991756140804494\n",
      "Epoch: 0, B-idx: 650, Training loss: 0.30347796085515\n",
      "Epoch: 0, B-idx: 700, Training loss: 0.30737274466578896\n",
      "Epoch: 0, B-idx: 750, Training loss: 0.3124645612975046\n",
      "Epoch: 0, B-idx: 800, Training loss: 0.3020373299114231\n",
      "Epoch: 0, B-idx: 850, Training loss: 0.29999931653473044\n",
      "Epoch: 0, B-idx: 900, Training loss: 0.30485684589059875\n"
     ]
    }
   ],
   "source": [
    "momentum_model = model_trainer(\n",
    "                        epochs=1, \n",
    "                        lr=0.01,\n",
    "                        inc_momentum=True,\n",
    "                        train_loader=train_loader,\n",
    "                        test_loader=test_loader\n",
    "                    )"
   ]
  },
  {
   "cell_type": "code",
   "execution_count": 124,
   "metadata": {},
   "outputs": [
    {
     "data": {
      "image/png": "[encoded data removed]",
      "text/plain": [
       "<Figure size 640x480 with 1 Axes>"
      ]
     },
     "metadata": {},
     "output_type": "display_data"
    }
   ],
   "source": [
    "# Plot for higher_batch_size_model\n",
    "plt.plot(range(len(momentum_model)), momentum_model)\n",
    "plt.ylim(0, 2.5)\n",
    "plt.ylabel('Loss')\n",
    "plt.xlabel('Batch # (every 50th)')\n",
    "plt.title('Momentun - 0.01 LR - 64 Batch Size')\n",
    "plt.show()"
   ]
  },
  {
   "cell_type": "markdown",
   "metadata": {},
   "source": [
    "### 3. Try with different initialization schemes for the parameters (e.g. allowing for larger values). How does it affect the behavior of the algorithm?"
   ]
  },
  {
   "cell_type": "markdown",
   "metadata": {},
   "source": [
    "Keep getting \"Nan\" values for train losses."
   ]
  },
  {
   "cell_type": "markdown",
   "metadata": {},
   "source": [
    "### 4. Analyze the behavior of the algorithm on the test set and implement a method for evaluating the accuracy over the entire training/test set."
   ]
  },
  {
   "cell_type": "code",
   "execution_count": 138,
   "metadata": {},
   "outputs": [],
   "source": [
    "def evaluate_model(weights, bias, data_loader):\n",
    "    correct = 0\n",
    "    total = 0\n",
    "    \n",
    "    with torch.no_grad():\n",
    "        for images, labels in data_loader:\n",
    "            images = images.squeeze().flatten(start_dim=1)\n",
    "            outputs = model(images, weights, bias)\n",
    "            _, predicted = torch.max(outputs.data, 1)\n",
    "            total += labels.size(0)\n",
    "            correct += (predicted == labels).sum().item()\n",
    "    \n",
    "    accuracy = correct / total\n",
    "    \n",
    "    return accuracy\n",
    "    "
   ]
  },
  {
   "cell_type": "code",
   "execution_count": 143,
   "metadata": {},
   "outputs": [],
   "source": [
    "def model_trainer(epochs, lr, inc_momentum, train_loader, test_loader, momentum=0.9):\n",
    "    train_losses = []\n",
    "    weights = torch.randn(784, 10) / np.sqrt(784)\n",
    "    weights.requires_grad_()\n",
    "    bias = torch.zeros(10, requires_grad=True)\n",
    "    v_weights = torch.zeros_like(weights)\n",
    "    v_bias = torch.zeros_like(bias)\n",
    "    \n",
    "    for epoch in range(epochs):\n",
    "\n",
    "        for batch_idx, (xb, yb) in enumerate(train_loader):\n",
    "            # We flatten the digit representation so that it is consistent with the weight matrix\n",
    "            xb = xb.squeeze().flatten(start_dim=1)\n",
    "            \n",
    "            # Predictions\n",
    "            pred = model(xb, weights, bias)\n",
    "            \n",
    "            # We specify the loss\n",
    "            loss = loss_func(pred, yb)\n",
    "            \n",
    "            # Add l2 regularization\n",
    "            #l2_norm = torch.sum(weights**2)\n",
    "            #loss += l2_lambda * l2_norm\n",
    "            #weights *= 1 - lr * l2_lambda\n",
    "            \n",
    "            # Perform backpropagation      \n",
    "            loss.backward()\n",
    "            \n",
    "            with torch.no_grad():\n",
    "                if inc_momentum:\n",
    "                    # Update velocity and weights\n",
    "                    v_weights = (momentum * v_weights) - (lr * weights.grad)\n",
    "                    v_bias = (momentum * v_bias) - (lr * bias.grad)\n",
    "                    weights += v_weights\n",
    "                    bias += v_bias\n",
    "                else:\n",
    "                    weights -= weights.grad * lr\n",
    "                    bias -= bias.grad * lr\n",
    "                \n",
    "                # After updating we set the gradients to zero so that we ar eready for the next round\n",
    "                weights.grad.zero_()\n",
    "                bias.grad.zero_()\n",
    "                        \n",
    "                if batch_idx % 50 == 0:\n",
    "                    with torch.no_grad():\n",
    "                        train_loss = np.mean([loss_func(model(txb.squeeze().flatten(start_dim=1), weights, bias), tyb).item() for txb, tyb in train_loader])\n",
    "                        print(f\"Epoch: {epoch}, B-idx: {batch_idx}, Training loss: {train_loss}\")\n",
    "                        train_losses.append(train_loss)\n",
    "    \n",
    "    # Model evaluation\n",
    "    train_accuracy = evaluate_model(weights, bias, train_loader)\n",
    "    test_accuracy = evaluate_model(weights, bias, test_loader)\n",
    "                        \n",
    "    return train_losses, train_accuracy, test_accuracy"
   ]
  },
  {
   "cell_type": "code",
   "execution_count": 144,
   "metadata": {},
   "outputs": [
    {
     "name": "stdout",
     "output_type": "stream",
     "text": [
      "Epoch: 0, B-idx: 0, Training loss: 2.535852252293243\n",
      "Epoch: 0, B-idx: 50, Training loss: 0.4275012305264534\n",
      "Epoch: 0, B-idx: 100, Training loss: 0.3944615719875674\n",
      "Epoch: 0, B-idx: 150, Training loss: 0.3842074264214237\n",
      "Epoch: 0, B-idx: 200, Training loss: 0.35765665187351486\n",
      "Epoch: 0, B-idx: 250, Training loss: 0.34033947567473344\n",
      "Epoch: 0, B-idx: 300, Training loss: 0.3321808479202073\n",
      "Epoch: 0, B-idx: 350, Training loss: 0.32860002188540216\n",
      "Epoch: 0, B-idx: 400, Training loss: 0.33143126217128116\n",
      "Epoch: 0, B-idx: 450, Training loss: 0.3142879173588524\n",
      "Epoch: 0, B-idx: 500, Training loss: 0.32175831688937345\n",
      "Epoch: 0, B-idx: 550, Training loss: 0.31451802299633974\n",
      "Epoch: 0, B-idx: 600, Training loss: 0.31153762348488706\n",
      "Epoch: 0, B-idx: 650, Training loss: 0.307600862459778\n",
      "Epoch: 0, B-idx: 700, Training loss: 0.3002422606385847\n",
      "Epoch: 0, B-idx: 750, Training loss: 0.3002451470634068\n",
      "Epoch: 0, B-idx: 800, Training loss: 0.3084440001927968\n",
      "Epoch: 0, B-idx: 850, Training loss: 0.3051768599638044\n",
      "Epoch: 0, B-idx: 900, Training loss: 0.3030002629563117\n",
      "Train accuracy: 0.9188833333333334\n",
      " Test accuracy: 0.916\n"
     ]
    }
   ],
   "source": [
    "_, train_acc, test_acc = model_trainer(\n",
    "                        epochs=1, \n",
    "                        lr=0.01,\n",
    "                        inc_momentum=True,\n",
    "                        train_loader=train_loader,\n",
    "                        test_loader=test_loader\n",
    "                    )\n",
    "\n",
    "print(\"Train accuracy: {}\\n\".format(train_acc), \"Test accuracy: {}\".format(test_acc))"
   ]
  }
 ],
 "metadata": {
  "kernelspec": {
   "display_name": "jupyter_kernel",
   "language": "python",
   "name": "jupyter_kernel"
  },
  "language_info": {
   "codemirror_mode": {
    "name": "ipython",
    "version": 3
   },
   "file_extension": ".py",
   "mimetype": "text/x-python",
   "name": "python",
   "nbconvert_exporter": "python",
   "pygments_lexer": "ipython3",
   "version": "3.11.4"
  }
 },
 "nbformat": 4,
 "nbformat_minor": 4
}
