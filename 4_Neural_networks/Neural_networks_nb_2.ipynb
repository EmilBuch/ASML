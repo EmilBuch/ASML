{
 "cells": [
  {
   "cell_type": "markdown",
   "id": "7ab51a06-4ee6-4819-a45f-e19e1c6989b8",
   "metadata": {},
   "source": [
    "# Part 1"
   ]
  },
  {
   "cell_type": "markdown",
   "id": "9f7fab82-b5fd-4ec3-ad00-58cd60cdf435",
   "metadata": {},
   "source": [
    "Revisit the Jupyter notebook from the previous self study session; there we implemented a simple neural network using functionality from numpy and PyTorch. \n",
    "\n",
    "### Exercise: \n",
    "* Modify the code by introducing regularization (L1 and/or L2). \n",
    "* How does the regularization affect the neural network results and the weights being learned? Try also experimenting with different weights for the regularization term."
   ]
  },
  {
   "cell_type": "markdown",
   "id": "4e7768dd-a1e5-4fd2-a9e3-c19801e0ffaa",
   "metadata": {},
   "source": [
    "# Part 2"
   ]
  },
  {
   "cell_type": "markdown",
   "id": "478031b5-5f9c-4070-80be-ca6c629bb8f6",
   "metadata": {
    "tags": []
   },
   "source": [
    "## Exercise\n",
    "\n",
    "In this exercise, the intention is to get a bit more handson experience with the convolution operator"
   ]
  },
  {
   "cell_type": "code",
   "execution_count": 8,
   "id": "32ce2dd4-be5d-4d73-8a01-0f6b58ec72b4",
   "metadata": {},
   "outputs": [],
   "source": [
    "import torch\n",
    "from pathlib import Path\n",
    "import requests\n",
    "from matplotlib import pyplot\n",
    "import matplotlib.pyplot as plt\n",
    "import numpy as np\n",
    "import pickle\n",
    "import gzip\n",
    "from scipy import signal\n",
    "from torchvision import datasets, transforms"
   ]
  },
  {
   "cell_type": "markdown",
   "id": "b714a973-0b07-480c-a551-7119b6cda60a",
   "metadata": {},
   "source": [
    "The MNIST database consists of grey scale images of handwritten digits. Each image is of size $28\\times 28$; see figure below for an illustration. The data set is divided into a training set, validation set, and test set consisting of $50000$, $10000$, and $10000$ images, respectively; in all data sets the images are labeled with the correct digits. If interested, you can find more information about the MNIST data set at http://yann.lecun.com/exdb/mnist/, including accuracy results for various machine learning methods."
   ]
  },
  {
   "cell_type": "markdown",
   "id": "9cb8faa3-2a97-40b4-be4a-733fa8f1cfc8",
   "metadata": {},
   "source": [
    "First we download the dataset and unpackage it."
   ]
  },
  {
   "cell_type": "code",
   "execution_count": 5,
   "id": "6881a6cf-ba30-4018-8335-57af1172b77c",
   "metadata": {},
   "outputs": [],
   "source": [
    "DATA_PATH = Path(\"data\")\n",
    "PATH = DATA_PATH / \"mnist\"\n",
    "\n",
    "PATH.mkdir(parents=True, exist_ok=True)\n",
    "\n",
    "URL = \"https://github.com/pytorch/tutorials/raw/master/_static/\"\n",
    "#URL = \"http://deeplearning.net/data/mnist/\"\n",
    "FILENAME = \"mnist.pkl.gz\"\n",
    "\n",
    "if not (PATH / FILENAME).exists():\n",
    "        content = requests.get(URL + FILENAME).content\n",
    "        (PATH / FILENAME).open(\"wb\").write(content)"
   ]
  },
  {
   "cell_type": "markdown",
   "id": "9127ce8f-06b9-4423-be70-6ae788fc4ccc",
   "metadata": {},
   "source": [
    "We then extract the data and store it numpy arrays: x_train, y_train, x_valid, y_valid, x_test, y_test "
   ]
  },
  {
   "cell_type": "code",
   "execution_count": 9,
   "id": "7b2f724a",
   "metadata": {},
   "outputs": [],
   "source": [
    "batch_size = 20\n",
    "train_loader = torch.utils.data.DataLoader(\n",
    "        datasets.MNIST('../data', train=True, download=True,\n",
    "                       transform=transforms.Compose([\n",
    "                           transforms.ToTensor(),\n",
    "                           transforms.Normalize((0.1307,), (0.3081,))\n",
    "                       ])),\n",
    "        batch_size=batch_size, shuffle=True)"
   ]
  },
  {
   "cell_type": "code",
   "execution_count": 10,
   "id": "bb215b29",
   "metadata": {},
   "outputs": [
    {
     "name": "stdout",
     "output_type": "stream",
     "text": [
      "Batch dimension (digit): torch.Size([20, 1, 28, 28])\n",
      "Batch dimension (target): torch.Size([20])\n",
      "Target: 7 with shape torch.Size([])\n"
     ]
    },
    {
     "data": {
      "image/png": "[encoded data removed]",
      "text/plain": [
       "<Figure size 640x480 with 1 Axes>"
      ]
     },
     "metadata": {},
     "output_type": "display_data"
    }
   ],
   "source": [
    "batch = next(iter(train_loader))\n",
    "print(f\"Batch dimension (digit): {batch[0].shape}\")\n",
    "print(f\"Batch dimension (target): {batch[1].shape}\")\n",
    "digit_batch = batch[0]\n",
    "img = digit_batch[0,:]\n",
    "pyplot.imshow(img.reshape((28, 28)), cmap=\"gray\")\n",
    "print(f\"Target: {batch[1][0]} with shape {batch[1][0].shape}\")"
   ]
  },
  {
   "cell_type": "markdown",
   "id": "a504f9e9-ed17-441b-bdf6-713525bea0a5",
   "metadata": {},
   "source": [
    "Check the shape of the x_valid holding the validation data"
   ]
  },
  {
   "cell_type": "markdown",
   "id": "87f50004-4593-4a37-a9c4-3592573b7dd8",
   "metadata": {},
   "source": [
    "The images are stored in rows of length $784$, hence to display the images we need to reshape them to $28\\times 28$."
   ]
  },
  {
   "cell_type": "code",
   "execution_count": 13,
   "id": "ce92d745-28ca-4657-8ea8-52e55f4c1771",
   "metadata": {
    "scrolled": true
   },
   "outputs": [
    {
     "name": "stdout",
     "output_type": "stream",
     "text": [
      "torch.Size([20, 1, 28, 28])\n"
     ]
    },
    {
     "data": {
      "image/png": "[encoded data removed]",
      "text/plain": [
       "<Figure size 640x480 with 1 Axes>"
      ]
     },
     "metadata": {},
     "output_type": "display_data"
    }
   ],
   "source": [
    "pyplot.imshow(batch[0][3,:].reshape((28, 28)), cmap=\"gray\")\n",
    "print(batch[0].shape)"
   ]
  },
  {
   "cell_type": "markdown",
   "id": "3832adbe-4018-443b-bcaf-d81906b9d0ac",
   "metadata": {},
   "source": [
    "We can also convert the image into black and white"
   ]
  },
  {
   "cell_type": "code",
   "execution_count": 14,
   "id": "3b6edfd4-3541-4864-b385-4b46ae9c4c70",
   "metadata": {},
   "outputs": [
    {
     "name": "stdout",
     "output_type": "stream",
     "text": [
      "torch.Size([1, 28, 28])\n"
     ]
    },
    {
     "data": {
      "image/png": "[encoded data removed]",
      "text/plain": [
       "<Figure size 640x480 with 1 Axes>"
      ]
     },
     "metadata": {},
     "output_type": "display_data"
    }
   ],
   "source": [
    "bw = np.array(batch[0][0,:]>0, dtype=int)\n",
    "pyplot.imshow(bw.reshape((28, 28)), cmap=\"gray\")\n",
    "print(batch[0][0,:].shape)"
   ]
  },
  {
   "cell_type": "markdown",
   "id": "22d51575-96d3-4c75-ba72-ce7da96123cd",
   "metadata": {},
   "source": [
    "We can do 2D convolutions using the function convolve2d from scipy.signal. Below is an example, where we apply the convolution operator from Slide 29 to the image above."
   ]
  },
  {
   "cell_type": "code",
   "execution_count": 6,
   "id": "0b717ce8-55bb-4dbf-9365-e9aebeee489c",
   "metadata": {},
   "outputs": [
    {
     "data": {
      "text/plain": [
       "<matplotlib.image.AxesImage at 0x7fe249e3a5e0>"
      ]
     },
     "execution_count": 6,
     "metadata": {},
     "output_type": "execute_result"
    },
    {
     "data": {
      "image/png": "[encoded data removed]",
      "text/plain": [
       "<Figure size 432x288 with 1 Axes>"
      ]
     },
     "metadata": {
      "needs_background": "light"
     },
     "output_type": "display_data"
    }
   ],
   "source": [
    "kernel = np.array([[1,-1]])\n",
    "res = signal.convolve2d(bw.reshape((28, 28)),kernel, 'same')\n",
    "pyplot.imshow(res.reshape((28, 28)), cmap=\"gray\")"
   ]
  },
  {
   "cell_type": "markdown",
   "id": "d0106801-11fb-4619-b026-7afe8a139fa2",
   "metadata": {},
   "source": [
    "## Exercise:\n",
    "\n",
    "* Experiment with different kernels to get an impression of the convolution operator. You may find some inspiration for kernels [here](https://en.wikipedia.org/wiki/Kernel_(image_processing)). If you feel adventuruous, you are most welcome to play around with other images. \n",
    "* Try also taking a closer look at the numerical values being produced to verify your understanding."
   ]
  },
  {
   "cell_type": "markdown",
   "id": "7e2099ce-40d0-46e9-ba5b-6341b845ba12",
   "metadata": {},
   "source": [
    "# Part 3"
   ]
  },
  {
   "cell_type": "markdown",
   "id": "1accb0a1-f013-4594-8fde-f7a272142924",
   "metadata": {},
   "source": [
    "During the last self study session we only made limited use of PyTorch’s functionality for constructing neural networks (basically only using it for calculating gradients). In the self study session below, we will take advantage of much more of its functionality. Specifically, we will start experimenting with convolutional neural networks.\n",
    "\n",
    "The convolution constructs in PyTorch rely on the torch.nn module provided by PyTorch. A short introduction to this module and how to define neural networks in PyTorch can be found at:\n",
    "* https://pytorch.org/tutorials/beginner/blitz/neural_networks_tutorial.html#sphx-glr-beginner-blitz-neural-networks-tutorial-py\n",
    "* https://pytorch.org/tutorials/beginner/nn_tutorial.html\n",
    "\n",
    "If you have finished with the previous exercises, you can start preparing for the self study session by going through these tutorials. The former tutorial is part of a general tutorial package to PyTorch, which can be found at:\n",
    "* https://pytorch.org/tutorials/beginner/deep_learning_60min_blitz.html\n",
    "this also includes a nice introduction to tensors in PyTorch."
   ]
  },
  {
   "cell_type": "markdown",
   "id": "983e1a68-8a1d-4565-96c6-d7eacfcbfe2c",
   "metadata": {},
   "source": [
    "# Self study 2"
   ]
  },
  {
   "cell_type": "code",
   "execution_count": 1,
   "id": "12b8f01c-4d1f-43cf-a6fc-70368a9ea529",
   "metadata": {},
   "outputs": [],
   "source": [
    "import torch\n",
    "import torch.nn as nn\n",
    "import torch.nn.functional as F\n",
    "from torchvision import datasets, transforms\n",
    "from torch.utils.data.sampler import SubsetRandomSampler\n",
    "from matplotlib import pyplot\n",
    "import numpy as np"
   ]
  },
  {
   "cell_type": "markdown",
   "id": "34055977-f579-4312-84c5-8e82c3ff62c4",
   "metadata": {},
   "source": [
    "## Loading the data"
   ]
  },
  {
   "cell_type": "markdown",
   "id": "1291c368-5e82-4354-b8f8-badd7adaaf95",
   "metadata": {},
   "source": [
    "As last time we will be working with the MNIST data set: The MNIST database consists of grey scale images of handwritten digits. Each image is of size $28\\times 28$; see figure below for an illustration. The data set is divided into a training set consisting of $60000$ images and a test set with $10000$ images; in both\n",
    "data sets the images are labeled with the correct digits. If interested you can find more information about the MNIST data set at http://yann.lecun.com/exdb/mnist/, including accuracy results for various machine learning methods.\n",
    "\n",
    "![MNIST DATA](MNIST-dataset.png)"
   ]
  },
  {
   "cell_type": "markdown",
   "id": "0b530d97-218a-4c6b-8c4f-fa48f7c369d2",
   "metadata": {},
   "source": [
    "For this self study, we will be a bit more careful with our data. Specifically, we will divide the data into a training, validation, and test, and use the training and validation set for model learning (in the previous self study we did not have a validation set). \n",
    "\n",
    "The data set is created by setting aside a randomly chosen subset of the data, where the splitting point is found using the help function *split_indicies* below."
   ]
  },
  {
   "cell_type": "code",
   "execution_count": 4,
   "id": "17433cf6-5c7d-4b33-b69b-d6bc39f6ad7a",
   "metadata": {},
   "outputs": [
    {
     "name": "stdout",
     "output_type": "stream",
     "text": [
      "Number of training examples: 48000\n",
      "Number of validation examples: 12000\n"
     ]
    }
   ],
   "source": [
    "def split_indicies(n, val_pct):\n",
    "    # Size of validation set\n",
    "    n_val = int(n*val_pct)\n",
    "    # Random permutation\n",
    "    idxs = np.random.permutation(n)\n",
    "    # Return first indexes for the validation set\n",
    "    return idxs[n_val:], idxs[:n_val]\n",
    "\n",
    "# Load the data\n",
    "train_dataset = datasets.MNIST('../Data', train=True, download=False,\n",
    "                   transform=transforms.Compose([\n",
    "                       transforms.ToTensor(),\n",
    "                       transforms.Normalize((0.1307,), (0.3081,))\n",
    "                   ]))\n",
    "\n",
    "# Get the indicies for the training data and test data (the validation set will consists of 20% of the data)\n",
    "train_idxs, val_idxs = split_indicies(len(train_dataset), 0.2)\n",
    "\n",
    "# Define samplers (used by Dataloader) to the two sets of indicies\n",
    "train_sampler = SubsetRandomSampler(train_idxs)\n",
    "val_sampler = SubsetRandomSampler(val_idxs)\n",
    "\n",
    "# Specify data loaders for our training and test set (same functionality as in the previous self study)\n",
    "train_loader = torch.utils.data.DataLoader(train_dataset, batch_size=64, sampler=train_sampler)\n",
    "val_loader = torch.utils.data.DataLoader(train_dataset, batch_size=64, sampler=val_sampler)\n",
    "\n",
    "print(f\"Number of training examples: {len(train_idxs)}\")\n",
    "print(f\"Number of validation examples: {len(val_idxs)}\")"
   ]
  },
  {
   "cell_type": "markdown",
   "id": "c452e873-64e9-4580-83cc-38e50f6ec2d1",
   "metadata": {},
   "source": [
    "The test set is loaded in the usual fashion"
   ]
  },
  {
   "cell_type": "code",
   "execution_count": 6,
   "id": "5d7c567b-1254-456a-b241-1169525b108f",
   "metadata": {},
   "outputs": [],
   "source": [
    "test_loader = torch.utils.data.DataLoader(\n",
    "        datasets.MNIST('../Data', train=False, transform=transforms.Compose([\n",
    "            transforms.ToTensor(),\n",
    "            transforms.Normalize((0.1307,), (0.3081,))\n",
    "        ])),\n",
    "        batch_size=64, shuffle=True)"
   ]
  },
  {
   "cell_type": "markdown",
   "id": "117de9b0-0350-49b4-9cb2-e78477dd8db6",
   "metadata": {},
   "source": [
    "## Specifying the model\n",
    "\n",
    "When using the _torch.nn_ for specifying our model we subclass the _nn.Module_. The model thus holds all the parameters of the model (see the _init_ function) as well as a specification of the forward step. We don't have to keep track of the backward pass, as PyTorch handles this for us."
   ]
  },
  {
   "cell_type": "code",
   "execution_count": 19,
   "id": "67d31436-376a-4362-b7d2-983ae45d3bd4",
   "metadata": {},
   "outputs": [],
   "source": [
    "class MNIST_CNN(nn.Module):\n",
    "\n",
    "    def __init__(self):\n",
    "        super().__init__()\n",
    "\n",
    "        # Define a convolution operator with 1 input channel, 15 output channels and a kernel size of 5x5\n",
    "        self.conv1 = nn.Conv2d(in_channels=1, out_channels=15, kernel_size=5)\n",
    "        # Since we are not doing padding (see Lecture 2, Slide 38) the width of the following layer is reduced; for\n",
    "        # each channel the resulting dimension is 24x24. We feed the resulting representation through a linear \n",
    "        # layer, giving 10 values as output - one for each digit.\n",
    "        self.fc = nn.Linear(in_features=15 * 24 * 24, out_features=10)\n",
    "        self.out = None\n",
    "\n",
    "    def forward(self, xb):\n",
    "\n",
    "        # Reshape the input tensor; '-1' indicates that PyTorch will fill-in this \n",
    "        # dimension, whereas the '1' indicates that we only have one color channel. \n",
    "        xb = xb.view(-1, 1, 28, 28)\n",
    "        # Apply convolution and pass the result through a ReLU function\n",
    "        xb = F.relu(self.conv1(xb))\n",
    "        # Reshape the representation\n",
    "        xb = xb.view(-1, 15*24*24)\n",
    "        # Apply the linear layer\n",
    "        xb = self.fc(xb)\n",
    "        # and set the result as the output. Note that we don't take a softmax as this is handled internally in the \n",
    "        # loss function defined below.\n",
    "        self.out = xb\n",
    "\n",
    "        return xb"
   ]
  },
  {
   "cell_type": "markdown",
   "id": "f322f0c3-0327-481b-9005-5f7fced46174",
   "metadata": {},
   "source": [
    "## Learning and evaluating the model\n",
    "\n",
    "For learning the model, we will use the following function which performs one iteration over the training data. The function also takes an _epoch_ argument, but this is only used for reporting on the learning progress"
   ]
  },
  {
   "cell_type": "code",
   "execution_count": 22,
   "id": "ad619f54-b51e-41a7-bf19-8ed3a02e8dc7",
   "metadata": {},
   "outputs": [],
   "source": [
    "def train(model, train_loader, loss_fn, epoch):\n",
    "    # Tell PyTorch that this function is part of the training\n",
    "    model.train()\n",
    "\n",
    "    # As optimizer we use stochastic gradient descent as defined by PyTorch. PyTorch also includes a variety \n",
    "    # of other optimizers \n",
    "    learning_rate = 0.01\n",
    "    opt = torch.optim.SGD(model.parameters(), lr=learning_rate)\n",
    "\n",
    "    # Iterate over the training set, one batch at the time, as in the previous self sudy\n",
    "    for batch_idx, (data, target) in enumerate(train_loader):\n",
    "        # Get the prediction\n",
    "        y_pred = model(data)\n",
    "        \n",
    "        # Remember to zero the gradients so that they don't accumulate\n",
    "        opt.zero_grad()\n",
    "\n",
    "        # Calculate the loss and and the gradients  \n",
    "        loss = loss_fn(y_pred, target)\n",
    "        loss.backward()\n",
    "\n",
    "        # Optimize the parameters by taking one 'step' with the optimizer\n",
    "        opt.step()\n",
    "\n",
    "        # For every 10th batch we output a bit of info\n",
    "        if batch_idx % 100 == 0:\n",
    "            print('Train Epoch: {} [{}/{} ({:.0f}%)]\\tLoss: {:.6f}'.format(\n",
    "                epoch, batch_idx * len(data), len(train_loader.sampler),\n",
    "                       100. * batch_idx * len(data) / len(train_loader.sampler), loss.item()))"
   ]
  },
  {
   "cell_type": "markdown",
   "id": "26a472dd-034c-4f74-8b01-0cc9065fe9be",
   "metadata": {},
   "source": [
    "In the end, we also want to validate our model. To do this we define the function below, which takes a data_loader (either the validation or test set) and reports the model's accuracy and loss on that data set."
   ]
  },
  {
   "cell_type": "code",
   "execution_count": 27,
   "id": "895bca74-0216-4244-aac3-b71d95298ce8",
   "metadata": {},
   "outputs": [],
   "source": [
    "def test_model(model, data_loader, loss_fn):\n",
    "    # Tell PyTorch that we are performing evaluation\n",
    "    model.eval()\n",
    "    \n",
    "    test_loss = 0\n",
    "    correct = 0\n",
    "    with torch.no_grad():\n",
    "        for data, target in data_loader:\n",
    "            output = model(data)\n",
    "            test_loss += loss_fn(output, target).item()  # sum up batch loss\n",
    "            pred = output.argmax(dim=1, keepdim=True)  # get the index of the max log-probability\n",
    "            correct += pred.eq(target.view_as(pred)).sum().item()\n",
    "\n",
    "    test_loss /= len(data_loader.batch_sampler)\n",
    "\n",
    "    print('\\nTest/validation set: Average loss: {:.4f}, Accuracy: {}/{} ({:.0f}%)\\n'.format(\n",
    "        test_loss, \n",
    "        correct, \n",
    "        len(data_loader.sampler),\n",
    "        100. * correct / len(data_loader.sampler)))\n",
    "    \n",
    "    return test_loss, 100. * correct / len(data_loader.sampler)"
   ]
  },
  {
   "cell_type": "markdown",
   "id": "eb7b0de9-a38b-4997-8fe0-15848b2b5721",
   "metadata": {},
   "source": [
    "## A couple of helper functions\n",
    "\n",
    "Learning a deep neural network can be time consuming, and it might therefore be nice to be able to save and load previously learned models (see also https://pytorch.org/tutorials/beginner/saving_loading_models.html)."
   ]
  },
  {
   "cell_type": "code",
   "execution_count": 10,
   "id": "d9bffe10-26ef-477d-bc53-8c81b66fda36",
   "metadata": {},
   "outputs": [],
   "source": [
    "def save_model(file_name, model):\n",
    "    torch.save(model, file_name)\n",
    "\n",
    "def load_model(file_name):\n",
    "    model = torch.load(file_name)\n",
    "    model.eval()\n",
    "    return model"
   ]
  },
  {
   "cell_type": "markdown",
   "id": "6f09ef3f-bbfd-4cc8-bbdf-6a364f1a7b7a",
   "metadata": {},
   "source": [
    "## Wrapping things up\n",
    "\n",
    "Finally, we will do the actual learning of the model."
   ]
  },
  {
   "cell_type": "code",
   "execution_count": 11,
   "id": "7d134d72-2d8f-4cc4-adfe-8e1b9e745ddb",
   "metadata": {},
   "outputs": [],
   "source": [
    "# The number of passes that will be made over the training set\n",
    "num_epochs = 2\n",
    "# torch.nn defines several useful loss-functions, which we will take advantage of here (see Lecture 1, Slide 11, Log-loss).\n",
    "loss_fn = nn.CrossEntropyLoss()"
   ]
  },
  {
   "cell_type": "code",
   "execution_count": 12,
   "id": "480c2a94-7d9a-4a3c-9786-facb2167ca68",
   "metadata": {},
   "outputs": [
    {
     "name": "stdout",
     "output_type": "stream",
     "text": [
      "Model structure:\n",
      "MNIST_CNN(\n",
      "  (conv1): Conv2d(1, 15, kernel_size=(5, 5), stride=(1, 1))\n",
      "  (fc): Linear(in_features=8640, out_features=10, bias=True)\n",
      ")\n"
     ]
    }
   ],
   "source": [
    "# Instantiate the model class\n",
    "model = MNIST_CNN()\n",
    "# and get some information about the structure\n",
    "print('Model structure:')\n",
    "print(model)"
   ]
  },
  {
   "cell_type": "markdown",
   "id": "29aea5cd-92ba-4762-9ace-7967d6d1d97c",
   "metadata": {},
   "source": [
    "### Iterate over the data set\n",
    "\n",
    "We iterate over the data set for *num_epochs* number of iterations. At each iteration we also calculate the loss/accuracy on the validation set."
   ]
  },
  {
   "cell_type": "code",
   "execution_count": 18,
   "id": "cd9a413c-2e6b-410e-b66d-dbd51f73b082",
   "metadata": {},
   "outputs": [
    {
     "name": "stdout",
     "output_type": "stream",
     "text": [
      "Train Epoch: 0 [0/48000 (0%)]\tLoss: 0.120050\n",
      "Train Epoch: 0 [640/48000 (1%)]\tLoss: 0.193853\n",
      "Train Epoch: 0 [1280/48000 (3%)]\tLoss: 0.096323\n",
      "Train Epoch: 0 [1920/48000 (4%)]\tLoss: 0.140823\n",
      "Train Epoch: 0 [2560/48000 (5%)]\tLoss: 0.114088\n",
      "Train Epoch: 0 [3200/48000 (7%)]\tLoss: 0.174899\n",
      "Train Epoch: 0 [3840/48000 (8%)]\tLoss: 0.073266\n",
      "Train Epoch: 0 [4480/48000 (9%)]\tLoss: 0.205383\n",
      "Train Epoch: 0 [5120/48000 (11%)]\tLoss: 0.103649\n",
      "Train Epoch: 0 [5760/48000 (12%)]\tLoss: 0.092255\n",
      "Train Epoch: 0 [6400/48000 (13%)]\tLoss: 0.079310\n",
      "Train Epoch: 0 [7040/48000 (15%)]\tLoss: 0.202108\n",
      "Train Epoch: 0 [7680/48000 (16%)]\tLoss: 0.122051\n",
      "Train Epoch: 0 [8320/48000 (17%)]\tLoss: 0.107751\n",
      "Train Epoch: 0 [8960/48000 (19%)]\tLoss: 0.104287\n",
      "Train Epoch: 0 [9600/48000 (20%)]\tLoss: 0.100860\n",
      "Train Epoch: 0 [10240/48000 (21%)]\tLoss: 0.151223\n",
      "Train Epoch: 0 [10880/48000 (23%)]\tLoss: 0.142636\n",
      "Train Epoch: 0 [11520/48000 (24%)]\tLoss: 0.106543\n",
      "Train Epoch: 0 [12160/48000 (25%)]\tLoss: 0.056347\n",
      "Train Epoch: 0 [12800/48000 (27%)]\tLoss: 0.068205\n",
      "Train Epoch: 0 [13440/48000 (28%)]\tLoss: 0.198622\n",
      "Train Epoch: 0 [14080/48000 (29%)]\tLoss: 0.036244\n",
      "Train Epoch: 0 [14720/48000 (31%)]\tLoss: 0.086041\n",
      "Train Epoch: 0 [15360/48000 (32%)]\tLoss: 0.230711\n",
      "Train Epoch: 0 [16000/48000 (33%)]\tLoss: 0.163336\n",
      "Train Epoch: 0 [16640/48000 (35%)]\tLoss: 0.079356\n",
      "Train Epoch: 0 [17280/48000 (36%)]\tLoss: 0.249347\n",
      "Train Epoch: 0 [17920/48000 (37%)]\tLoss: 0.395827\n",
      "Train Epoch: 0 [18560/48000 (39%)]\tLoss: 0.133323\n",
      "Train Epoch: 0 [19200/48000 (40%)]\tLoss: 0.149574\n",
      "Train Epoch: 0 [19840/48000 (41%)]\tLoss: 0.159657\n",
      "Train Epoch: 0 [20480/48000 (43%)]\tLoss: 0.154898\n",
      "Train Epoch: 0 [21120/48000 (44%)]\tLoss: 0.140689\n",
      "Train Epoch: 0 [21760/48000 (45%)]\tLoss: 0.046306\n",
      "Train Epoch: 0 [22400/48000 (47%)]\tLoss: 0.106997\n",
      "Train Epoch: 0 [23040/48000 (48%)]\tLoss: 0.085900\n",
      "Train Epoch: 0 [23680/48000 (49%)]\tLoss: 0.045495\n",
      "Train Epoch: 0 [24320/48000 (51%)]\tLoss: 0.179922\n",
      "Train Epoch: 0 [24960/48000 (52%)]\tLoss: 0.100897\n",
      "Train Epoch: 0 [25600/48000 (53%)]\tLoss: 0.303726\n",
      "Train Epoch: 0 [26240/48000 (55%)]\tLoss: 0.166388\n",
      "Train Epoch: 0 [26880/48000 (56%)]\tLoss: 0.078798\n",
      "Train Epoch: 0 [27520/48000 (57%)]\tLoss: 0.251969\n",
      "Train Epoch: 0 [28160/48000 (59%)]\tLoss: 0.369146\n",
      "Train Epoch: 0 [28800/48000 (60%)]\tLoss: 0.272826\n",
      "Train Epoch: 0 [29440/48000 (61%)]\tLoss: 0.026797\n",
      "Train Epoch: 0 [30080/48000 (63%)]\tLoss: 0.150652\n",
      "Train Epoch: 0 [30720/48000 (64%)]\tLoss: 0.120468\n",
      "Train Epoch: 0 [31360/48000 (65%)]\tLoss: 0.093219\n",
      "Train Epoch: 0 [32000/48000 (67%)]\tLoss: 0.128323\n",
      "Train Epoch: 0 [32640/48000 (68%)]\tLoss: 0.058949\n",
      "Train Epoch: 0 [33280/48000 (69%)]\tLoss: 0.129209\n",
      "Train Epoch: 0 [33920/48000 (71%)]\tLoss: 0.134309\n",
      "Train Epoch: 0 [34560/48000 (72%)]\tLoss: 0.048602\n",
      "Train Epoch: 0 [35200/48000 (73%)]\tLoss: 0.124559\n",
      "Train Epoch: 0 [35840/48000 (75%)]\tLoss: 0.114530\n",
      "Train Epoch: 0 [36480/48000 (76%)]\tLoss: 0.072415\n",
      "Train Epoch: 0 [37120/48000 (77%)]\tLoss: 0.137374\n",
      "Train Epoch: 0 [37760/48000 (79%)]\tLoss: 0.123866\n",
      "Train Epoch: 0 [38400/48000 (80%)]\tLoss: 0.051243\n",
      "Train Epoch: 0 [39040/48000 (81%)]\tLoss: 0.060851\n",
      "Train Epoch: 0 [39680/48000 (83%)]\tLoss: 0.072328\n",
      "Train Epoch: 0 [40320/48000 (84%)]\tLoss: 0.083385\n",
      "Train Epoch: 0 [40960/48000 (85%)]\tLoss: 0.148863\n",
      "Train Epoch: 0 [41600/48000 (87%)]\tLoss: 0.114402\n",
      "Train Epoch: 0 [42240/48000 (88%)]\tLoss: 0.078607\n",
      "Train Epoch: 0 [42880/48000 (89%)]\tLoss: 0.130558\n",
      "Train Epoch: 0 [43520/48000 (91%)]\tLoss: 0.049165\n",
      "Train Epoch: 0 [44160/48000 (92%)]\tLoss: 0.174300\n",
      "Train Epoch: 0 [44800/48000 (93%)]\tLoss: 0.117826\n",
      "Train Epoch: 0 [45440/48000 (95%)]\tLoss: 0.096863\n",
      "Train Epoch: 0 [46080/48000 (96%)]\tLoss: 0.148715\n",
      "Train Epoch: 0 [46720/48000 (97%)]\tLoss: 0.060311\n",
      "Train Epoch: 0 [47360/48000 (99%)]\tLoss: 0.057870\n",
      "\n",
      "Test/validation set: Average loss: 0.1052, Accuracy: 11656/12000 (97%)\n",
      "\n",
      "Train Epoch: 1 [0/48000 (0%)]\tLoss: 0.185463\n",
      "Train Epoch: 1 [640/48000 (1%)]\tLoss: 0.034270\n",
      "Train Epoch: 1 [1280/48000 (3%)]\tLoss: 0.310134\n",
      "Train Epoch: 1 [1920/48000 (4%)]\tLoss: 0.031793\n",
      "Train Epoch: 1 [2560/48000 (5%)]\tLoss: 0.067408\n",
      "Train Epoch: 1 [3200/48000 (7%)]\tLoss: 0.094771\n",
      "Train Epoch: 1 [3840/48000 (8%)]\tLoss: 0.075730\n",
      "Train Epoch: 1 [4480/48000 (9%)]\tLoss: 0.045613\n",
      "Train Epoch: 1 [5120/48000 (11%)]\tLoss: 0.064294\n",
      "Train Epoch: 1 [5760/48000 (12%)]\tLoss: 0.055077\n",
      "Train Epoch: 1 [6400/48000 (13%)]\tLoss: 0.189394\n",
      "Train Epoch: 1 [7040/48000 (15%)]\tLoss: 0.107296\n",
      "Train Epoch: 1 [7680/48000 (16%)]\tLoss: 0.055496\n",
      "Train Epoch: 1 [8320/48000 (17%)]\tLoss: 0.112429\n",
      "Train Epoch: 1 [8960/48000 (19%)]\tLoss: 0.172155\n",
      "Train Epoch: 1 [9600/48000 (20%)]\tLoss: 0.108066\n",
      "Train Epoch: 1 [10240/48000 (21%)]\tLoss: 0.061162\n",
      "Train Epoch: 1 [10880/48000 (23%)]\tLoss: 0.119132\n",
      "Train Epoch: 1 [11520/48000 (24%)]\tLoss: 0.079440\n",
      "Train Epoch: 1 [12160/48000 (25%)]\tLoss: 0.051113\n",
      "Train Epoch: 1 [12800/48000 (27%)]\tLoss: 0.086327\n",
      "Train Epoch: 1 [13440/48000 (28%)]\tLoss: 0.020445\n",
      "Train Epoch: 1 [14080/48000 (29%)]\tLoss: 0.066726\n",
      "Train Epoch: 1 [14720/48000 (31%)]\tLoss: 0.093379\n",
      "Train Epoch: 1 [15360/48000 (32%)]\tLoss: 0.027072\n",
      "Train Epoch: 1 [16000/48000 (33%)]\tLoss: 0.141934\n",
      "Train Epoch: 1 [16640/48000 (35%)]\tLoss: 0.030547\n",
      "Train Epoch: 1 [17280/48000 (36%)]\tLoss: 0.095644\n",
      "Train Epoch: 1 [17920/48000 (37%)]\tLoss: 0.107774\n",
      "Train Epoch: 1 [18560/48000 (39%)]\tLoss: 0.073472\n",
      "Train Epoch: 1 [19200/48000 (40%)]\tLoss: 0.058596\n",
      "Train Epoch: 1 [19840/48000 (41%)]\tLoss: 0.037735\n",
      "Train Epoch: 1 [20480/48000 (43%)]\tLoss: 0.152970\n",
      "Train Epoch: 1 [21120/48000 (44%)]\tLoss: 0.235132\n",
      "Train Epoch: 1 [21760/48000 (45%)]\tLoss: 0.232605\n",
      "Train Epoch: 1 [22400/48000 (47%)]\tLoss: 0.122279\n",
      "Train Epoch: 1 [23040/48000 (48%)]\tLoss: 0.156870\n",
      "Train Epoch: 1 [23680/48000 (49%)]\tLoss: 0.053798\n",
      "Train Epoch: 1 [24320/48000 (51%)]\tLoss: 0.097384\n",
      "Train Epoch: 1 [24960/48000 (52%)]\tLoss: 0.095007\n",
      "Train Epoch: 1 [25600/48000 (53%)]\tLoss: 0.214252\n",
      "Train Epoch: 1 [26240/48000 (55%)]\tLoss: 0.106322\n",
      "Train Epoch: 1 [26880/48000 (56%)]\tLoss: 0.065685\n",
      "Train Epoch: 1 [27520/48000 (57%)]\tLoss: 0.160314\n",
      "Train Epoch: 1 [28160/48000 (59%)]\tLoss: 0.125248\n",
      "Train Epoch: 1 [28800/48000 (60%)]\tLoss: 0.121001\n",
      "Train Epoch: 1 [29440/48000 (61%)]\tLoss: 0.061856\n",
      "Train Epoch: 1 [30080/48000 (63%)]\tLoss: 0.197435\n",
      "Train Epoch: 1 [30720/48000 (64%)]\tLoss: 0.079169\n",
      "Train Epoch: 1 [31360/48000 (65%)]\tLoss: 0.075713\n",
      "Train Epoch: 1 [32000/48000 (67%)]\tLoss: 0.132543\n",
      "Train Epoch: 1 [32640/48000 (68%)]\tLoss: 0.100280\n",
      "Train Epoch: 1 [33280/48000 (69%)]\tLoss: 0.020572\n",
      "Train Epoch: 1 [33920/48000 (71%)]\tLoss: 0.045524\n",
      "Train Epoch: 1 [34560/48000 (72%)]\tLoss: 0.084283\n",
      "Train Epoch: 1 [35200/48000 (73%)]\tLoss: 0.087840\n",
      "Train Epoch: 1 [35840/48000 (75%)]\tLoss: 0.143301\n",
      "Train Epoch: 1 [36480/48000 (76%)]\tLoss: 0.075470\n",
      "Train Epoch: 1 [37120/48000 (77%)]\tLoss: 0.021612\n",
      "Train Epoch: 1 [37760/48000 (79%)]\tLoss: 0.246957\n",
      "Train Epoch: 1 [38400/48000 (80%)]\tLoss: 0.043850\n",
      "Train Epoch: 1 [39040/48000 (81%)]\tLoss: 0.095908\n",
      "Train Epoch: 1 [39680/48000 (83%)]\tLoss: 0.175675\n",
      "Train Epoch: 1 [40320/48000 (84%)]\tLoss: 0.108728\n",
      "Train Epoch: 1 [40960/48000 (85%)]\tLoss: 0.029260\n",
      "Train Epoch: 1 [41600/48000 (87%)]\tLoss: 0.041203\n",
      "Train Epoch: 1 [42240/48000 (88%)]\tLoss: 0.198601\n",
      "Train Epoch: 1 [42880/48000 (89%)]\tLoss: 0.126470\n",
      "Train Epoch: 1 [43520/48000 (91%)]\tLoss: 0.049412\n",
      "Train Epoch: 1 [44160/48000 (92%)]\tLoss: 0.017670\n",
      "Train Epoch: 1 [44800/48000 (93%)]\tLoss: 0.028636\n",
      "Train Epoch: 1 [45440/48000 (95%)]\tLoss: 0.117347\n",
      "Train Epoch: 1 [46080/48000 (96%)]\tLoss: 0.110661\n",
      "Train Epoch: 1 [46720/48000 (97%)]\tLoss: 0.020683\n",
      "Train Epoch: 1 [47360/48000 (99%)]\tLoss: 0.270647\n",
      "\n",
      "Test/validation set: Average loss: 0.0895, Accuracy: 11699/12000 (97%)\n",
      "\n"
     ]
    }
   ],
   "source": [
    "for i in range(num_epochs):\n",
    "    train(model, train_loader, loss_fn, i)\n",
    "    # Evaluate the model on the test set\n",
    "    test_model(model, val_loader, loss_fn)"
   ]
  },
  {
   "cell_type": "markdown",
   "id": "5b2dc8c7-acd8-4be7-9d9d-364ab8b51848",
   "metadata": {},
   "source": [
    "After learning we evaluate the model on the _test set_ and save the resulting structure."
   ]
  },
  {
   "cell_type": "code",
   "execution_count": null,
   "id": "bc59f415-4c16-41f8-8ec9-a8c06dd5c6b7",
   "metadata": {},
   "outputs": [],
   "source": [
    "# Evaluate the model on the test set\n",
    "test_model(model, test_loader, loss_fn)\n",
    "# Save the model\n",
    "save_model('conv.pt', model)"
   ]
  },
  {
   "cell_type": "markdown",
   "id": "4c745b31-6631-4cbe-8bd8-860c35d0d565",
   "metadata": {
    "tags": []
   },
   "source": [
    "# Self Study Exercises\n",
    "\n",
    "1. Familiarize yourself with the code above and consult the PyTorch documentation when needed.\n",
    "2. Experiment with different NN architectures (also varying the convolutional parameters: size, stride, padding, etc) and observe the effect wrt. the loss/accuracy on the training and validation dataset (training, validation). Note that when adding new layers (including dropout [Lecture 2, Slide 13], pooling, etc.) you need to make sure that the dimensionality of the layers match up. **IMPORTANT:** ignore the test set at this stage (i.e., comment out the relevant lines above) so that the results for the test set do not influence your model choice.\n",
    "3. In the model above we use a simple gradient descent learning scheme. Try other types of optimizers (see https://pytorch.org/docs/stable/optim.html) and analyze the effect.\n",
    "4. If you feel adventurous, try investigating some of the other datasets that come prepacakged with PyTorch (see https://pytorch.org/vision/0.8/datasets.html). For instnce, for FashionMNIST you only need to change the dataloader from datasets.MNIST to datasets.FashionMNIST."
   ]
  },
  {
   "cell_type": "markdown",
   "id": "acd99d25",
   "metadata": {},
   "source": [
    "### Experiment with different NN architectures (also varying the convolutional parameters: size, stride, padding, etc) and observe the effect wrt. the loss/accuracy on the training and validation dataset (training, validation). Note that when adding new layers (including dropout [Lecture 2, Slide 13], pooling, etc.) you need to make sure that the dimensionality of the layers match up."
   ]
  },
  {
   "cell_type": "markdown",
   "id": "884ab873",
   "metadata": {},
   "source": [
    "Three different experiments:\n",
    "1. Different kernel sizes: 3x3, 7x7, 5x5 (baseline)\n",
    "2. Different stride values: 1 (baseline), 2, 3\n",
    "3. With max pooling layer"
   ]
  },
  {
   "cell_type": "code",
   "execution_count": 47,
   "id": "614a704f-b12b-487e-b0e2-8eb24c8d9081",
   "metadata": {},
   "outputs": [],
   "source": [
    "class MNIST_CNN_3x3(nn.Module):\n",
    "\n",
    "    def __init__(self):\n",
    "        super().__init__()\n",
    "\n",
    "        # Define a convolution operator with 1 input channel, 15 output channels and a kernel size of 3x3\n",
    "        self.conv1 = nn.Conv2d(in_channels=1, out_channels=15, kernel_size=3)\n",
    "        # Since we are not doing padding, the width of the following layer is reduced; for\n",
    "        # each channel the resulting dimension is 26x26. We feed the resulting representation through a linear \n",
    "        # layer, giving 10 values as output - one for each digit.\n",
    "        self.fc = nn.Linear(in_features=15 * 26 * 26, out_features=10)\n",
    "        self.out = None\n",
    "\n",
    "    def forward(self, xb):\n",
    "\n",
    "        # Reshape the input tensor; '-1' indicates that PyTorch will fill-in this \n",
    "        # dimension, whereas the '1' indicates that we only have one color channel. \n",
    "        xb = xb.view(-1, 1, 28, 28)\n",
    "        # Apply convolution and pass the result through a ReLU function\n",
    "        xb = F.relu(self.conv1(xb))\n",
    "        # Reshape the representation\n",
    "        xb = xb.view(-1, 15*26*26)\n",
    "        # Apply the linear layer\n",
    "        xb = self.fc(xb)\n",
    "        # and set the result as the output. Note that we don't take a softmax as this is handled internally in the \n",
    "        # loss function defined below.\n",
    "        self.out = xb\n",
    "\n",
    "        return xb\n",
    "\n",
    "\n",
    "class MNIST_CNN_7x7(nn.Module):\n",
    "\n",
    "    def __init__(self):\n",
    "        super().__init__()\n",
    "\n",
    "        # Define a convolution operator with 1 input channel, 15 output channels and a kernel size of 7x7\n",
    "        self.conv1 = nn.Conv2d(in_channels=1, out_channels=15, kernel_size=7)\n",
    "        # Since we are not doing padding, the width of the following layer is reduced; for\n",
    "        # each channel the resulting dimension is 22x22. We feed the resulting representation through a linear \n",
    "        # layer, giving 10 values as output - one for each digit.\n",
    "        self.fc = nn.Linear(in_features=15 * 22 * 22, out_features=10)\n",
    "        self.out = None\n",
    "\n",
    "    def forward(self, xb):\n",
    "\n",
    "        # Reshape the input tensor; '-1' indicates that PyTorch will fill-in this \n",
    "        # dimension, whereas the '1' indicates that we only have one color channel. \n",
    "        xb = xb.view(-1, 1, 28, 28)\n",
    "        # Apply convolution and pass the result through a ReLU function\n",
    "        xb = F.relu(self.conv1(xb))\n",
    "        # Reshape the representation\n",
    "        xb = xb.view(-1, 15*22*22)\n",
    "        # Apply the linear layer\n",
    "        xb = self.fc(xb)\n",
    "        # and set the result as the output. Note that we don't take a softmax as this is handled internally in the \n",
    "        # loss function defined below.\n",
    "        self.out = xb\n",
    "\n",
    "        return xb\n",
    "    \n",
    "    \n",
    "class MNIST_CNN_MAXPOOL(nn.Module):  \n",
    "\n",
    "    def __init__(self):\n",
    "        super().__init__()\n",
    "\n",
    "        # Define a convolution operator with 1 input channel, 15 output channels and a kernel size of 5x5\n",
    "        self.conv1 = nn.Conv2d(in_channels=1, out_channels=15, kernel_size=5)\n",
    "        # Add a maxpooling layer with kernel size 2x2\n",
    "        self.pool = nn.MaxPool2d(kernel_size=2)\n",
    "        # Since we are not doing padding, the width of the following layer is reduced; for\n",
    "        # each channel the resulting dimension is 12x12. We feed the resulting representation through a linear \n",
    "        # layer, giving 10 values as output - one for each digit.\n",
    "        self.fc = nn.Linear(in_features=15 * 12 * 12, out_features=10)\n",
    "        self.out = None\n",
    "\n",
    "    def forward(self, xb):\n",
    "\n",
    "        # Reshape the input tensor; '-1' indicates that PyTorch will fill-in this \n",
    "        # dimension, whereas the '1' indicates that we only have one color channel. \n",
    "        xb = xb.view(-1, 1, 28, 28)\n",
    "        # Apply convolution and pass the result through a ReLU function\n",
    "        xb = F.relu(self.conv1(xb))\n",
    "        # Apply maxpooling\n",
    "        xb = self.pool(xb)\n",
    "        # Reshape the representation\n",
    "        xb = xb.view(-1, 15*12*12)\n",
    "        # Apply the linear layer\n",
    "        xb = self.fc(xb)\n",
    "        # and set the result as the output. Note that we don't take a softmax as this is handled internally in the \n",
    "        # loss function defined below.\n",
    "        self.out = xb\n",
    "\n",
    "        return xb\n",
    "    \n",
    "    \n",
    "class MNIST_CNN_STRIDE_2(nn.Module):  \n",
    "\n",
    "    def __init__(self):\n",
    "        super().__init__()\n",
    "\n",
    "        # Define a convolution operator with 1 input channel, 15 output channels and a kernel size of 5x5\n",
    "        self.conv1 = nn.Conv2d(in_channels=1, out_channels=15, kernel_size=5, stride=2)\n",
    "        self.fc = nn.Linear(in_features=15 * 12 * 12, out_features=10)\n",
    "        self.out = None\n",
    "\n",
    "    def forward(self, xb):\n",
    "\n",
    "        # Reshape the input tensor; '-1' indicates that PyTorch will fill-in this \n",
    "        # dimension, whereas the '1' indicates that we only have one color channel. \n",
    "        xb = xb.view(-1, 1, 28, 28)\n",
    "        # Apply convolution and pass the result through a ReLU function\n",
    "        xb = F.relu(self.conv1(xb))\n",
    "        # Reshape the representation\n",
    "        xb = xb.view(-1, 15*12*12)\n",
    "        # Apply the linear layer\n",
    "        xb = self.fc(xb)\n",
    "        # and set the result as the output. Note that we don't take a softmax as this is handled internally in the \n",
    "        # loss function defined below.\n",
    "        self.out = xb\n",
    "\n",
    "        return xb\n",
    "    \n",
    "    \n",
    "class MNIST_CNN_STRIDE_3(nn.Module):  \n",
    "\n",
    "    def __init__(self):\n",
    "        super().__init__()\n",
    "\n",
    "        # Define a convolution operator with 1 input channel, 15 output channels and a kernel size of 5x5\n",
    "        self.conv1 = nn.Conv2d(in_channels=1, out_channels=15, kernel_size=5, stride=3)\n",
    "        self.fc = nn.Linear(in_features=15 * 8 * 8, out_features=10)\n",
    "        self.out = None\n",
    "\n",
    "    def forward(self, xb):\n",
    "\n",
    "        # Reshape the input tensor; '-1' indicates that PyTorch will fill-in this \n",
    "        # dimension, whereas the '1' indicates that we only have one color channel. \n",
    "        xb = xb.view(-1, 1, 28, 28)\n",
    "        # Apply convolution and pass the result through a ReLU function\n",
    "        xb = F.relu(self.conv1(xb))\n",
    "        # Reshape the representation\n",
    "        xb = xb.view(-1, 15*8*8)\n",
    "        # Apply the linear layer\n",
    "        xb = self.fc(xb)\n",
    "        # and set the result as the output. Note that we don't take a softmax as this is handled internally in the \n",
    "        # loss function defined below.\n",
    "        self.out = xb\n",
    "\n",
    "        return xb"
   ]
  },
  {
   "cell_type": "code",
   "execution_count": 37,
   "id": "4d69e5db",
   "metadata": {},
   "outputs": [
    {
     "name": "stdout",
     "output_type": "stream",
     "text": [
      "Model 0:\n",
      "MNIST_CNN(\n",
      "  (conv1): Conv2d(1, 15, kernel_size=(5, 5), stride=(1, 1))\n",
      "  (fc): Linear(in_features=8640, out_features=10, bias=True)\n",
      ")\n",
      "Train Epoch: 0 [0/48000 (0%)]\tLoss: 2.333903\n",
      "Train Epoch: 0 [6400/48000 (13%)]\tLoss: 0.498634\n",
      "Train Epoch: 0 [12800/48000 (27%)]\tLoss: 0.292980\n",
      "Train Epoch: 0 [19200/48000 (40%)]\tLoss: 0.373997\n",
      "Train Epoch: 0 [25600/48000 (53%)]\tLoss: 0.203954\n",
      "Train Epoch: 0 [32000/48000 (67%)]\tLoss: 0.230935\n",
      "Train Epoch: 0 [38400/48000 (80%)]\tLoss: 0.144755\n",
      "Train Epoch: 0 [44800/48000 (93%)]\tLoss: 0.181634\n",
      "\n",
      "Test/validation set: Average loss: 0.1762, Accuracy: 45580/48000 (95%)\n",
      "\n",
      "\n",
      "Test/validation set: Average loss: 0.1783, Accuracy: 11392/12000 (95%)\n",
      "\n",
      "Train Epoch: 1 [0/48000 (0%)]\tLoss: 0.066364\n",
      "Train Epoch: 1 [6400/48000 (13%)]\tLoss: 0.337470\n",
      "Train Epoch: 1 [12800/48000 (27%)]\tLoss: 0.066322\n",
      "Train Epoch: 1 [19200/48000 (40%)]\tLoss: 0.180113\n",
      "Train Epoch: 1 [25600/48000 (53%)]\tLoss: 0.199789\n",
      "Train Epoch: 1 [32000/48000 (67%)]\tLoss: 0.191820\n",
      "Train Epoch: 1 [38400/48000 (80%)]\tLoss: 0.134336\n",
      "Train Epoch: 1 [44800/48000 (93%)]\tLoss: 0.069745\n",
      "\n",
      "Test/validation set: Average loss: 0.1170, Accuracy: 46463/48000 (97%)\n",
      "\n",
      "\n",
      "Test/validation set: Average loss: 0.1218, Accuracy: 11583/12000 (97%)\n",
      "\n",
      "Model 1:\n",
      "MNIST_CNN_3x3(\n",
      "  (conv1): Conv2d(1, 15, kernel_size=(3, 3), stride=(1, 1))\n",
      "  (fc): Linear(in_features=10140, out_features=10, bias=True)\n",
      ")\n",
      "Train Epoch: 0 [0/48000 (0%)]\tLoss: 2.307859\n",
      "Train Epoch: 0 [6400/48000 (13%)]\tLoss: 0.617895\n",
      "Train Epoch: 0 [12800/48000 (27%)]\tLoss: 0.679553\n",
      "Train Epoch: 0 [19200/48000 (40%)]\tLoss: 0.257499\n",
      "Train Epoch: 0 [25600/48000 (53%)]\tLoss: 0.357171\n",
      "Train Epoch: 0 [32000/48000 (67%)]\tLoss: 0.150249\n",
      "Train Epoch: 0 [38400/48000 (80%)]\tLoss: 0.348639\n",
      "Train Epoch: 0 [44800/48000 (93%)]\tLoss: 0.281949\n",
      "\n",
      "Test/validation set: Average loss: 0.2666, Accuracy: 44426/48000 (93%)\n",
      "\n",
      "\n",
      "Test/validation set: Average loss: 0.2686, Accuracy: 11091/12000 (92%)\n",
      "\n",
      "Train Epoch: 1 [0/48000 (0%)]\tLoss: 0.374941\n",
      "Train Epoch: 1 [6400/48000 (13%)]\tLoss: 0.210077\n",
      "Train Epoch: 1 [12800/48000 (27%)]\tLoss: 0.232879\n",
      "Train Epoch: 1 [19200/48000 (40%)]\tLoss: 0.422684\n",
      "Train Epoch: 1 [25600/48000 (53%)]\tLoss: 0.144089\n",
      "Train Epoch: 1 [32000/48000 (67%)]\tLoss: 0.193663\n",
      "Train Epoch: 1 [38400/48000 (80%)]\tLoss: 0.156475\n",
      "Train Epoch: 1 [44800/48000 (93%)]\tLoss: 0.167924\n",
      "\n",
      "Test/validation set: Average loss: 0.2040, Accuracy: 45253/48000 (94%)\n",
      "\n",
      "\n",
      "Test/validation set: Average loss: 0.2108, Accuracy: 11288/12000 (94%)\n",
      "\n",
      "Model 2:\n",
      "MNIST_CNN_7x7(\n",
      "  (conv1): Conv2d(1, 15, kernel_size=(7, 7), stride=(1, 1))\n",
      "  (fc): Linear(in_features=7260, out_features=10, bias=True)\n",
      ")\n",
      "Train Epoch: 0 [0/48000 (0%)]\tLoss: 2.298489\n",
      "Train Epoch: 0 [6400/48000 (13%)]\tLoss: 0.323071\n",
      "Train Epoch: 0 [12800/48000 (27%)]\tLoss: 0.500297\n",
      "Train Epoch: 0 [19200/48000 (40%)]\tLoss: 0.313527\n",
      "Train Epoch: 0 [25600/48000 (53%)]\tLoss: 0.288869\n",
      "Train Epoch: 0 [32000/48000 (67%)]\tLoss: 0.170000\n",
      "Train Epoch: 0 [38400/48000 (80%)]\tLoss: 0.125304\n",
      "Train Epoch: 0 [44800/48000 (93%)]\tLoss: 0.119895\n",
      "\n",
      "Test/validation set: Average loss: 0.1711, Accuracy: 45657/48000 (95%)\n",
      "\n",
      "\n",
      "Test/validation set: Average loss: 0.1726, Accuracy: 11398/12000 (95%)\n",
      "\n",
      "Train Epoch: 1 [0/48000 (0%)]\tLoss: 0.119966\n",
      "Train Epoch: 1 [6400/48000 (13%)]\tLoss: 0.067059\n",
      "Train Epoch: 1 [12800/48000 (27%)]\tLoss: 0.146291\n",
      "Train Epoch: 1 [19200/48000 (40%)]\tLoss: 0.160928\n",
      "Train Epoch: 1 [25600/48000 (53%)]\tLoss: 0.282013\n",
      "Train Epoch: 1 [32000/48000 (67%)]\tLoss: 0.090323\n",
      "Train Epoch: 1 [38400/48000 (80%)]\tLoss: 0.209219\n",
      "Train Epoch: 1 [44800/48000 (93%)]\tLoss: 0.059914\n",
      "\n",
      "Test/validation set: Average loss: 0.1247, Accuracy: 46260/48000 (96%)\n",
      "\n",
      "\n",
      "Test/validation set: Average loss: 0.1276, Accuracy: 11555/12000 (96%)\n",
      "\n"
     ]
    }
   ],
   "source": [
    "model_accuracy = []\n",
    "\n",
    "baseline_model = MNIST_CNN()\n",
    "model_3x3 = MNIST_CNN_3x3()\n",
    "model_7x7 = MNIST_CNN_7x7()\n",
    "\n",
    "\n",
    "for i, model in enumerate([baseline_model, model_3x3, model_7x7]):\n",
    "    print(f\"Model {i}:\")\n",
    "    print(model)\n",
    "    model_results = []\n",
    "    for j in range(num_epochs):\n",
    "        train(model, train_loader, loss_fn, j)\n",
    "        train_loss, train_accuracy = test_model(model, train_loader, loss_fn)\n",
    "        val_loss, val_accuracy = test_model(model, val_loader, loss_fn)\n",
    "        model_accuracy.append((train_accuracy, val_accuracy))"
   ]
  },
  {
   "cell_type": "code",
   "execution_count": 39,
   "id": "231e53c9",
   "metadata": {},
   "outputs": [
    {
     "data": {
      "text/plain": [
       "[(94.95833333333333, 94.93333333333334),\n",
       " (96.79791666666667, 96.525),\n",
       " (92.55416666666666, 92.425),\n",
       " (94.27708333333334, 94.06666666666666),\n",
       " (95.11875, 94.98333333333333),\n",
       " (96.375, 96.29166666666667)]"
      ]
     },
     "execution_count": 39,
     "metadata": {},
     "output_type": "execute_result"
    }
   ],
   "source": [
    "model_accuracy"
   ]
  },
  {
   "cell_type": "code",
   "execution_count": 44,
   "id": "25e6878f",
   "metadata": {},
   "outputs": [
    {
     "name": "stdout",
     "output_type": "stream",
     "text": [
      "Model structure:\n",
      "MNIST_CNN_MAXPOOL(\n",
      "  (conv1): Conv2d(1, 15, kernel_size=(5, 5), stride=(1, 1))\n",
      "  (pool): MaxPool2d(kernel_size=2, stride=2, padding=0, dilation=1, ceil_mode=False)\n",
      "  (fc): Linear(in_features=2160, out_features=10, bias=True)\n",
      ")\n",
      "Train Epoch: 0 [0/48000 (0%)]\tLoss: 2.414359\n",
      "Train Epoch: 0 [6400/48000 (13%)]\tLoss: 0.510592\n",
      "Train Epoch: 0 [12800/48000 (27%)]\tLoss: 0.628543\n",
      "Train Epoch: 0 [19200/48000 (40%)]\tLoss: 0.296346\n",
      "Train Epoch: 0 [25600/48000 (53%)]\tLoss: 0.175421\n",
      "Train Epoch: 0 [32000/48000 (67%)]\tLoss: 0.242708\n",
      "Train Epoch: 0 [38400/48000 (80%)]\tLoss: 0.475020\n",
      "Train Epoch: 0 [44800/48000 (93%)]\tLoss: 0.224372\n",
      "\n",
      "Test/validation set: Average loss: 0.2139, Accuracy: 45129/48000 (94%)\n",
      "\n",
      "\n",
      "Test/validation set: Average loss: 0.2105, Accuracy: 11266/12000 (94%)\n",
      "\n",
      "Train Epoch: 1 [0/48000 (0%)]\tLoss: 0.133787\n",
      "Train Epoch: 1 [6400/48000 (13%)]\tLoss: 0.160485\n",
      "Train Epoch: 1 [12800/48000 (27%)]\tLoss: 0.267972\n",
      "Train Epoch: 1 [19200/48000 (40%)]\tLoss: 0.277899\n",
      "Train Epoch: 1 [25600/48000 (53%)]\tLoss: 0.148780\n",
      "Train Epoch: 1 [32000/48000 (67%)]\tLoss: 0.349231\n",
      "Train Epoch: 1 [38400/48000 (80%)]\tLoss: 0.111762\n",
      "Train Epoch: 1 [44800/48000 (93%)]\tLoss: 0.132052\n",
      "\n",
      "Test/validation set: Average loss: 0.1413, Accuracy: 46148/48000 (96%)\n",
      "\n",
      "\n",
      "Test/validation set: Average loss: 0.1405, Accuracy: 11533/12000 (96%)\n",
      "\n"
     ]
    }
   ],
   "source": [
    "maxpool_model = MNIST_CNN_MAXPOOL()\n",
    "print('Model structure:')\n",
    "print(maxpool_model)\n",
    "results = []\n",
    "\n",
    "for i in range(num_epochs):\n",
    "    train(maxpool_model, train_loader, loss_fn, i)\n",
    "    # Evaluate the model on the test set\n",
    "    results.append((test_model(maxpool_model, train_loader, loss_fn)))\n",
    "    results.append((test_model(maxpool_model, val_loader, loss_fn)))"
   ]
  },
  {
   "cell_type": "code",
   "execution_count": 45,
   "id": "0e361cd5",
   "metadata": {},
   "outputs": [
    {
     "data": {
      "text/plain": [
       "[(0.21392822141448656, 94.01875),\n",
       " (0.2105454359837669, 93.88333333333334),\n",
       " (0.14132943468292555, 96.14166666666667),\n",
       " (0.14053769433434973, 96.10833333333333)]"
      ]
     },
     "execution_count": 45,
     "metadata": {},
     "output_type": "execute_result"
    }
   ],
   "source": [
    "results"
   ]
  },
  {
   "cell_type": "code",
   "execution_count": 49,
   "id": "bf1bbae6",
   "metadata": {},
   "outputs": [
    {
     "name": "stdout",
     "output_type": "stream",
     "text": [
      "Model 0:\n",
      "MNIST_CNN(\n",
      "  (conv1): Conv2d(1, 15, kernel_size=(5, 5), stride=(1, 1))\n",
      "  (fc): Linear(in_features=8640, out_features=10, bias=True)\n",
      ")\n",
      "Train Epoch: 0 [0/48000 (0%)]\tLoss: 0.056725\n",
      "Train Epoch: 0 [6400/48000 (13%)]\tLoss: 0.023092\n",
      "Train Epoch: 0 [12800/48000 (27%)]\tLoss: 0.033804\n",
      "Train Epoch: 0 [19200/48000 (40%)]\tLoss: 0.045623\n",
      "Train Epoch: 0 [25600/48000 (53%)]\tLoss: 0.018926\n",
      "Train Epoch: 0 [32000/48000 (67%)]\tLoss: 0.058311\n",
      "Train Epoch: 0 [38400/48000 (80%)]\tLoss: 0.111579\n",
      "Train Epoch: 0 [44800/48000 (93%)]\tLoss: 0.012651\n",
      "\n",
      "Test/validation set: Average loss: 0.0691, Accuracy: 47102/48000 (98%)\n",
      "\n",
      "\n",
      "Test/validation set: Average loss: 0.0850, Accuracy: 11698/12000 (97%)\n",
      "\n",
      "Train Epoch: 1 [0/48000 (0%)]\tLoss: 0.152011\n",
      "Train Epoch: 1 [6400/48000 (13%)]\tLoss: 0.133597\n",
      "Train Epoch: 1 [12800/48000 (27%)]\tLoss: 0.057294\n",
      "Train Epoch: 1 [19200/48000 (40%)]\tLoss: 0.040005\n",
      "Train Epoch: 1 [25600/48000 (53%)]\tLoss: 0.065459\n",
      "Train Epoch: 1 [32000/48000 (67%)]\tLoss: 0.006521\n",
      "Train Epoch: 1 [38400/48000 (80%)]\tLoss: 0.092230\n",
      "Train Epoch: 1 [44800/48000 (93%)]\tLoss: 0.027963\n",
      "\n",
      "Test/validation set: Average loss: 0.0603, Accuracy: 47210/48000 (98%)\n",
      "\n",
      "\n",
      "Test/validation set: Average loss: 0.0787, Accuracy: 11727/12000 (98%)\n",
      "\n",
      "Model 1:\n",
      "MNIST_CNN_STRIDE_2(\n",
      "  (conv1): Conv2d(1, 15, kernel_size=(5, 5), stride=(2, 2))\n",
      "  (fc): Linear(in_features=2160, out_features=10, bias=True)\n",
      ")\n",
      "Train Epoch: 0 [0/48000 (0%)]\tLoss: 2.282716\n",
      "Train Epoch: 0 [6400/48000 (13%)]\tLoss: 0.533422\n",
      "Train Epoch: 0 [12800/48000 (27%)]\tLoss: 0.414695\n",
      "Train Epoch: 0 [19200/48000 (40%)]\tLoss: 0.390383\n",
      "Train Epoch: 0 [25600/48000 (53%)]\tLoss: 0.460898\n",
      "Train Epoch: 0 [32000/48000 (67%)]\tLoss: 0.187411\n",
      "Train Epoch: 0 [38400/48000 (80%)]\tLoss: 0.451920\n",
      "Train Epoch: 0 [44800/48000 (93%)]\tLoss: 0.232474\n",
      "\n",
      "Test/validation set: Average loss: 0.2728, Accuracy: 44251/48000 (92%)\n",
      "\n",
      "\n",
      "Test/validation set: Average loss: 0.2729, Accuracy: 11051/12000 (92%)\n",
      "\n",
      "Train Epoch: 1 [0/48000 (0%)]\tLoss: 0.136107\n",
      "Train Epoch: 1 [6400/48000 (13%)]\tLoss: 0.223154\n",
      "Train Epoch: 1 [12800/48000 (27%)]\tLoss: 0.466250\n",
      "Train Epoch: 1 [19200/48000 (40%)]\tLoss: 0.180317\n",
      "Train Epoch: 1 [25600/48000 (53%)]\tLoss: 0.099718\n",
      "Train Epoch: 1 [32000/48000 (67%)]\tLoss: 0.265324\n",
      "Train Epoch: 1 [38400/48000 (80%)]\tLoss: 0.102606\n",
      "Train Epoch: 1 [44800/48000 (93%)]\tLoss: 0.332301\n",
      "\n",
      "Test/validation set: Average loss: 0.1933, Accuracy: 45455/48000 (95%)\n",
      "\n",
      "\n",
      "Test/validation set: Average loss: 0.1952, Accuracy: 11333/12000 (94%)\n",
      "\n",
      "Model 2:\n",
      "MNIST_CNN_STRIDE_3(\n",
      "  (conv1): Conv2d(1, 15, kernel_size=(5, 5), stride=(3, 3))\n",
      "  (fc): Linear(in_features=960, out_features=10, bias=True)\n",
      ")\n",
      "Train Epoch: 0 [0/48000 (0%)]\tLoss: 2.322564\n",
      "Train Epoch: 0 [6400/48000 (13%)]\tLoss: 0.757412\n",
      "Train Epoch: 0 [12800/48000 (27%)]\tLoss: 0.480963\n",
      "Train Epoch: 0 [19200/48000 (40%)]\tLoss: 0.692303\n",
      "Train Epoch: 0 [25600/48000 (53%)]\tLoss: 0.398256\n",
      "Train Epoch: 0 [32000/48000 (67%)]\tLoss: 0.294543\n",
      "Train Epoch: 0 [38400/48000 (80%)]\tLoss: 0.352047\n",
      "Train Epoch: 0 [44800/48000 (93%)]\tLoss: 0.285907\n",
      "\n",
      "Test/validation set: Average loss: 0.3366, Accuracy: 43358/48000 (90%)\n",
      "\n",
      "\n",
      "Test/validation set: Average loss: 0.3394, Accuracy: 10804/12000 (90%)\n",
      "\n",
      "Train Epoch: 1 [0/48000 (0%)]\tLoss: 0.240423\n",
      "Train Epoch: 1 [6400/48000 (13%)]\tLoss: 0.218695\n",
      "Train Epoch: 1 [12800/48000 (27%)]\tLoss: 0.243273\n",
      "Train Epoch: 1 [19200/48000 (40%)]\tLoss: 0.307482\n",
      "Train Epoch: 1 [25600/48000 (53%)]\tLoss: 0.236852\n",
      "Train Epoch: 1 [32000/48000 (67%)]\tLoss: 0.325771\n",
      "Train Epoch: 1 [38400/48000 (80%)]\tLoss: 0.269846\n",
      "Train Epoch: 1 [44800/48000 (93%)]\tLoss: 0.291716\n",
      "\n",
      "Test/validation set: Average loss: 0.2814, Accuracy: 44108/48000 (92%)\n",
      "\n",
      "\n",
      "Test/validation set: Average loss: 0.2830, Accuracy: 11004/12000 (92%)\n",
      "\n"
     ]
    }
   ],
   "source": [
    "model_accuracy_stride = []\n",
    "model_stride_2 = MNIST_CNN_STRIDE_2()\n",
    "model_stride_3 = MNIST_CNN_STRIDE_3()\n",
    "\n",
    "for i, model in enumerate([baseline_model, model_stride_2, model_stride_3]):\n",
    "    print(f\"Model {i}:\")\n",
    "    print(model)\n",
    "    for j in range(num_epochs):\n",
    "        train(model, train_loader, loss_fn, j)\n",
    "        train_loss, train_accuracy = test_model(model, train_loader, loss_fn)\n",
    "        val_loss, val_accuracy = test_model(model, val_loader, loss_fn)\n",
    "        model_accuracy_stride.append((train_accuracy, val_accuracy))"
   ]
  },
  {
   "cell_type": "code",
   "execution_count": 50,
   "id": "4544f76f",
   "metadata": {},
   "outputs": [
    {
     "data": {
      "text/plain": [
       "[(98.12916666666666, 97.48333333333333),\n",
       " (98.35416666666667, 97.725),\n",
       " (92.18958333333333, 92.09166666666667),\n",
       " (94.69791666666667, 94.44166666666666),\n",
       " (90.32916666666667, 90.03333333333333),\n",
       " (91.89166666666667, 91.7)]"
      ]
     },
     "execution_count": 50,
     "metadata": {},
     "output_type": "execute_result"
    }
   ],
   "source": [
    "model_accuracy_stride"
   ]
  },
  {
   "cell_type": "markdown",
   "id": "ed7e5059",
   "metadata": {},
   "source": [
    "**Architecture**:\n",
    "1. **Input layer**: \n",
    "    * Expects a single-channel (grayscale) image of size 28x28 pixels.\n",
    "2. **Convolutional layer**:\n",
    "    * A convolutional layer with a $m \\times n$ kernel (here $m=n$).\n",
    "    * 1 input channel (grey-scale image) and 15 output channels.\n",
    "    * Applies ReLU activation function after convolution.\n",
    "3. **Output Layer**:\n",
    "    * A fully connected (linear) layer that takes the flattened feature vector as input.\n",
    "    * Outputs 10 values corresponding to the 10 digit classes (0 through 9).\n",
    "    * Typically applies a softmax activation to convert output neurons to probabilities (applied in loss function in this case)."
   ]
  },
  {
   "cell_type": "markdown",
   "id": "832328fd",
   "metadata": {},
   "source": [
    "**Experiment 1 - different kernel sizes in convolutional layer:**\n",
    "* $\\text{CNN}_{3 \\times 3 \\text{kernel}}$:\n",
    "    * $\\text{Accuracy}_{\\text{train}} = 94.28$\n",
    "    * $\\text{Accuracy}_{\\text{test}} = 94.06$\n",
    "* $\\text{CNN}_{5 \\times 5 \\text{kernel}}$:\n",
    "    * $\\text{Accuracy}_{\\text{train}} = 96.79$\n",
    "    * $\\text{Accuracy}_{\\text{test}} = 96.53$\n",
    "* $\\text{CNN}_{7 \\times 7 \\text{kernel}}$:\n",
    "    * $\\text{Accuracy}_{\\text{train}} = 96.375$\n",
    "    * $\\text{Accuracy}_{\\text{test}} = 96.29$\n",
    "\n",
    "Observations:\n",
    "* $3 \\times 3$ kernel perform the worst while the other kernel sizes have almost equivalent performance. Thus, larger kernel capture seems to derive more relevant features.\n",
    "* Larger kernels have a larger receptive field and capture more 'global' information within the input image.\n",
    "* Larger kernels also introduce more parameters which comes with a additional computational cost and memory usage."
   ]
  },
  {
   "cell_type": "markdown",
   "id": "c9581a20",
   "metadata": {},
   "source": [
    "**Experiment 2 - different stride sizes:**\n",
    "* $\\text{CNN}_{1 \\text{stride}}$:\n",
    "    * $\\text{Accuracy}_{\\text{train}} = 96.79$\n",
    "    * $\\text{Accuracy}_{\\text{test}} = 96.53$\n",
    "* $\\text{CNN}_{2 \\text{stride}}$:\n",
    "    * $\\text{Accuracy}_{\\text{train}} = 94.7$\n",
    "    * $\\text{Accuracy}_{\\text{test}} = 94.44$\n",
    "* $\\text{CNN}_{3 \\text{stride}}$:\n",
    "    * $\\text{Accuracy}_{\\text{train}} = 91.89$\n",
    "    * $\\text{Accuracy}_{\\text{test}} = 91.7$\n",
    "\n",
    "Observations:\n",
    "* Increasing stride decreases accuracy. \n",
    "* Natural since more spatial information is lost and mnist images are low-resolution."
   ]
  },
  {
   "cell_type": "markdown",
   "id": "c0ef24f2",
   "metadata": {},
   "source": [
    "**Experiment 3 - Addition of 2x2 max pooling layer** \n",
    "\n",
    "Results:\n",
    "* $\\text{Accuracy}_{\\text{train}} = 96.14$\n",
    "* $\\text{Accuracy}_{\\text{test}} = 96.10$\n",
    "\n",
    "Observations:\n",
    "* Minor reduction in performance compared to baseline model.\n",
    "* Translation invariance potentially not as significant in mnist dataset."
   ]
  },
  {
   "cell_type": "markdown",
   "id": "c6b3aa08",
   "metadata": {},
   "source": [
    "**Other hyperparameters and architectures not tested**\n",
    "* Dropout layer\n",
    "* Number of channels in convolutional layer"
   ]
  }
 ],
 "metadata": {
  "kernelspec": {
   "display_name": "jupyter_kernel",
   "language": "python",
   "name": "jupyter_kernel"
  },
  "language_info": {
   "codemirror_mode": {
    "name": "ipython",
    "version": 3
   },
   "file_extension": ".py",
   "mimetype": "text/x-python",
   "name": "python",
   "nbconvert_exporter": "python",
   "pygments_lexer": "ipython3",
   "version": "3.11.4"
  }
 },
 "nbformat": 4,
 "nbformat_minor": 5
}
