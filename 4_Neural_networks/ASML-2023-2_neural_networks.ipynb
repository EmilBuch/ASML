{
 "cells": [
  {
   "cell_type": "markdown",
   "id": "7ab51a06-4ee6-4819-a45f-e19e1c6989b8",
   "metadata": {},
   "source": [
    "# Part 1"
   ]
  },
  {
   "cell_type": "markdown",
   "id": "9f7fab82-b5fd-4ec3-ad00-58cd60cdf435",
   "metadata": {},
   "source": [
    "Revisit the Jupyter notebook from the previous self study session; there we implemented a simple neural network using functionality from numpy and PyTorch. \n",
    "\n",
    "### Exercise: \n",
    "* Modify the code by introducing regularization (L1 and/or L2). \n",
    "* How does the regularization affect the neural network results and the weights being learned? Try also experimenting with different weights for the regularization term."
   ]
  },
  {
   "cell_type": "markdown",
   "id": "4e7768dd-a1e5-4fd2-a9e3-c19801e0ffaa",
   "metadata": {},
   "source": [
    "# Part 2"
   ]
  },
  {
   "cell_type": "markdown",
   "id": "478031b5-5f9c-4070-80be-ca6c629bb8f6",
   "metadata": {
    "tags": []
   },
   "source": [
    "## Exercise\n",
    "\n",
    "In this exercise, the intention is to get a bit more handson experience with the convolution operator"
   ]
  },
  {
   "cell_type": "code",
   "execution_count": 29,
   "id": "32ce2dd4-be5d-4d73-8a01-0f6b58ec72b4",
   "metadata": {},
   "outputs": [],
   "source": [
    "import torch\n",
    "from pathlib import Path\n",
    "import requests\n",
    "from matplotlib import pyplot\n",
    "import matplotlib.pyplot as plt\n",
    "import numpy as np\n",
    "import pickle\n",
    "import gzip\n",
    "import os\n",
    "from scipy import signal\n",
    "from torchvision import datasets, transforms\n"
   ]
  },
  {
   "cell_type": "markdown",
   "id": "b714a973-0b07-480c-a551-7119b6cda60a",
   "metadata": {},
   "source": [
    "The MNIST database consists of grey scale images of handwritten digits. Each image is of size $28\\times 28$; see figure below for an illustration. The data set is divided into a training set, validation set, and test set consisting of $50000$, $10000$, and $10000$ images, respectively; in all data sets the images are labeled with the correct digits. If interested, you can find more information about the MNIST data set at http://yann.lecun.com/exdb/mnist/, including accuracy results for various machine learning methods.\n",
    "\n",
    "![MNIST DATA](MNIST-dataset.png)"
   ]
  },
  {
   "cell_type": "markdown",
   "id": "9cb8faa3-2a97-40b4-be4a-733fa8f1cfc8",
   "metadata": {},
   "source": [
    "First we download the dataset and unpackage it."
   ]
  },
  {
   "cell_type": "code",
   "execution_count": 31,
   "id": "6881a6cf-ba30-4018-8335-57af1172b77c",
   "metadata": {},
   "outputs": [],
   "source": [
    "DATA_PATH = Path(\"data\")\n",
    "PATH = DATA_PATH / \"mnist\"\n",
    "\n",
    "PATH.mkdir(parents=True, exist_ok=True)\n",
    "\n",
    "URL = \"https://github.com/pytorch/tutorials/raw/master/_static/\"\n",
    "# URL = \"http://deeplearning.net/data/mnist/\"\n",
    "FILENAME = \"mnist.pkl.gz\"\n",
    "\n",
    "if not (PATH / FILENAME).exists():\n",
    "        content = requests.get(URL + FILENAME).content\n",
    "        (PATH / FILENAME).open(\"wb\").write(content)\n"
   ]
  },
  {
   "cell_type": "markdown",
   "id": "9127ce8f-06b9-4423-be70-6ae788fc4ccc",
   "metadata": {},
   "source": [
    "We then extract the data and store it numpy arrays: x_train, y_train, x_valid, y_valid, x_test, y_test "
   ]
  },
  {
   "cell_type": "code",
   "execution_count": 32,
   "id": "2d8d4b37",
   "metadata": {},
   "outputs": [
    {
     "name": "stdout",
     "output_type": "stream",
     "text": [
      "/home/vugs/Codes/AAU_Projects/E23/ASML/data/mnist/mnist.pkl.gz\n"
     ]
    }
   ],
   "source": [
    "ROOT_PATH = os.path.normpath(\n",
    "    os.path.join(os.getcwd(), \"E23\", \"ASML\", os.pardir, os.pardir)\n",
    ")\n",
    "FILE_PATH = os.path.join(ROOT_PATH, \"data\", \"mnist\", FILENAME)\n",
    "print(FILE_PATH)\n"
   ]
  },
  {
   "cell_type": "code",
   "execution_count": 34,
   "id": "88d16b84-0ed8-4daa-8568-2105c3eed26b",
   "metadata": {},
   "outputs": [
    {
     "ename": "BadGzipFile",
     "evalue": "Not a gzipped file (b'\\n\\n')",
     "output_type": "error",
     "traceback": [
      "\u001b[0;31m---------------------------------------------------------------------------\u001b[0m",
      "\u001b[0;31mBadGzipFile\u001b[0m                               Traceback (most recent call last)",
      "\u001b[1;32m/home/vugs/Codes/AAU_Projects/E23/ASML/ASML-2023-2_neural_networks.ipynb Cell 11\u001b[0m line \u001b[0;36m2\n\u001b[1;32m      <a href='vscode-notebook-cell:/home/vugs/Codes/AAU_Projects/E23/ASML/ASML-2023-2_neural_networks.ipynb#X12sZmlsZQ%3D%3D?line=0'>1</a>\u001b[0m \u001b[39mwith\u001b[39;00m gzip\u001b[39m.\u001b[39mopen(FILE_PATH, \u001b[39m\"\u001b[39m\u001b[39mrb\u001b[39m\u001b[39m\"\u001b[39m) \u001b[39mas\u001b[39;00m f:\n\u001b[0;32m----> <a href='vscode-notebook-cell:/home/vugs/Codes/AAU_Projects/E23/ASML/ASML-2023-2_neural_networks.ipynb#X12sZmlsZQ%3D%3D?line=1'>2</a>\u001b[0m         ((x_train, y_train), (x_valid, y_valid), (x_test, y_test)) \u001b[39m=\u001b[39m pickle\u001b[39m.\u001b[39;49mload(f, encoding\u001b[39m=\u001b[39;49m\u001b[39m\"\u001b[39;49m\u001b[39mlatin-1\u001b[39;49m\u001b[39m\"\u001b[39;49m)\n",
      "File \u001b[0;32m/usr/lib/python3.10/gzip.py:321\u001b[0m, in \u001b[0;36mGzipFile.peek\u001b[0;34m(self, n)\u001b[0m\n\u001b[1;32m    319\u001b[0m     \u001b[39mimport\u001b[39;00m \u001b[39merrno\u001b[39;00m\n\u001b[1;32m    320\u001b[0m     \u001b[39mraise\u001b[39;00m \u001b[39mOSError\u001b[39;00m(errno\u001b[39m.\u001b[39mEBADF, \u001b[39m\"\u001b[39m\u001b[39mpeek() on write-only GzipFile object\u001b[39m\u001b[39m\"\u001b[39m)\n\u001b[0;32m--> 321\u001b[0m \u001b[39mreturn\u001b[39;00m \u001b[39mself\u001b[39;49m\u001b[39m.\u001b[39;49m_buffer\u001b[39m.\u001b[39;49mpeek(n)\n",
      "File \u001b[0;32m/usr/lib/python3.10/_compression.py:68\u001b[0m, in \u001b[0;36mDecompressReader.readinto\u001b[0;34m(self, b)\u001b[0m\n\u001b[1;32m     66\u001b[0m \u001b[39mdef\u001b[39;00m \u001b[39mreadinto\u001b[39m(\u001b[39mself\u001b[39m, b):\n\u001b[1;32m     67\u001b[0m     \u001b[39mwith\u001b[39;00m \u001b[39mmemoryview\u001b[39m(b) \u001b[39mas\u001b[39;00m view, view\u001b[39m.\u001b[39mcast(\u001b[39m\"\u001b[39m\u001b[39mB\u001b[39m\u001b[39m\"\u001b[39m) \u001b[39mas\u001b[39;00m byte_view:\n\u001b[0;32m---> 68\u001b[0m         data \u001b[39m=\u001b[39m \u001b[39mself\u001b[39;49m\u001b[39m.\u001b[39;49mread(\u001b[39mlen\u001b[39;49m(byte_view))\n\u001b[1;32m     69\u001b[0m         byte_view[:\u001b[39mlen\u001b[39m(data)] \u001b[39m=\u001b[39m data\n\u001b[1;32m     70\u001b[0m     \u001b[39mreturn\u001b[39;00m \u001b[39mlen\u001b[39m(data)\n",
      "File \u001b[0;32m/usr/lib/python3.10/gzip.py:488\u001b[0m, in \u001b[0;36m_GzipReader.read\u001b[0;34m(self, size)\u001b[0m\n\u001b[1;32m    484\u001b[0m \u001b[39mif\u001b[39;00m \u001b[39mself\u001b[39m\u001b[39m.\u001b[39m_new_member:\n\u001b[1;32m    485\u001b[0m     \u001b[39m# If the _new_member flag is set, we have to\u001b[39;00m\n\u001b[1;32m    486\u001b[0m     \u001b[39m# jump to the next member, if there is one.\u001b[39;00m\n\u001b[1;32m    487\u001b[0m     \u001b[39mself\u001b[39m\u001b[39m.\u001b[39m_init_read()\n\u001b[0;32m--> 488\u001b[0m     \u001b[39mif\u001b[39;00m \u001b[39mnot\u001b[39;00m \u001b[39mself\u001b[39;49m\u001b[39m.\u001b[39;49m_read_gzip_header():\n\u001b[1;32m    489\u001b[0m         \u001b[39mself\u001b[39m\u001b[39m.\u001b[39m_size \u001b[39m=\u001b[39m \u001b[39mself\u001b[39m\u001b[39m.\u001b[39m_pos\n\u001b[1;32m    490\u001b[0m         \u001b[39mreturn\u001b[39;00m \u001b[39mb\u001b[39m\u001b[39m\"\u001b[39m\u001b[39m\"\u001b[39m\n",
      "File \u001b[0;32m/usr/lib/python3.10/gzip.py:436\u001b[0m, in \u001b[0;36m_GzipReader._read_gzip_header\u001b[0;34m(self)\u001b[0m\n\u001b[1;32m    433\u001b[0m     \u001b[39mreturn\u001b[39;00m \u001b[39mFalse\u001b[39;00m\n\u001b[1;32m    435\u001b[0m \u001b[39mif\u001b[39;00m magic \u001b[39m!=\u001b[39m \u001b[39mb\u001b[39m\u001b[39m'\u001b[39m\u001b[39m\\037\u001b[39;00m\u001b[39m\\213\u001b[39;00m\u001b[39m'\u001b[39m:\n\u001b[0;32m--> 436\u001b[0m     \u001b[39mraise\u001b[39;00m BadGzipFile(\u001b[39m'\u001b[39m\u001b[39mNot a gzipped file (\u001b[39m\u001b[39m%r\u001b[39;00m\u001b[39m)\u001b[39m\u001b[39m'\u001b[39m \u001b[39m%\u001b[39m magic)\n\u001b[1;32m    438\u001b[0m (method, flag,\n\u001b[1;32m    439\u001b[0m  \u001b[39mself\u001b[39m\u001b[39m.\u001b[39m_last_mtime) \u001b[39m=\u001b[39m struct\u001b[39m.\u001b[39munpack(\u001b[39m\"\u001b[39m\u001b[39m<BBIxx\u001b[39m\u001b[39m\"\u001b[39m, \u001b[39mself\u001b[39m\u001b[39m.\u001b[39m_read_exact(\u001b[39m8\u001b[39m))\n\u001b[1;32m    440\u001b[0m \u001b[39mif\u001b[39;00m method \u001b[39m!=\u001b[39m \u001b[39m8\u001b[39m:\n",
      "\u001b[0;31mBadGzipFile\u001b[0m: Not a gzipped file (b'\\n\\n')"
     ]
    }
   ],
   "source": [
    "with gzip.open(FILE_PATH, \"rb\") as f:\n",
    "        ((x_train, y_train), (x_valid, y_valid), (x_test, y_test)) = pickle.load(f, encoding=\"latin-1\")\n"
   ]
  },
  {
   "cell_type": "code",
   "execution_count": 30,
   "id": "8254a9d1",
   "metadata": {},
   "outputs": [],
   "source": [
    "train_loader = torch.utils.data.DataLoader(\n",
    "        datasets.MNIST('../data', train=True, download=True,\n",
    "                       transform=transforms.Compose([\n",
    "                           transforms.ToTensor(),\n",
    "                           transforms.Normalize((0.1307,), (0.3081,))\n",
    "                       ])),\n",
    "        shuffle=True)\n",
    "test_loader = torch.utils.data.DataLoader(\n",
    "        datasets.MNIST('../data', train=False, transform=transforms.Compose([\n",
    "            transforms.ToTensor(),\n",
    "            transforms.Normalize((0.1307,), (0.3081,))\n",
    "        ])),\n",
    "        shuffle=True)\n"
   ]
  },
  {
   "cell_type": "code",
   "execution_count": 52,
   "id": "36cf8df4",
   "metadata": {},
   "outputs": [],
   "source": [
    "training_data = enumerate(train_loader)\n",
    "_, (x_train, y_train) = next(training_data)\n",
    "\n",
    "test_data = enumerate(test_loader)\n",
    "_, (x_test, y_test) = next(test_data)\n"
   ]
  },
  {
   "cell_type": "markdown",
   "id": "a504f9e9-ed17-441b-bdf6-713525bea0a5",
   "metadata": {},
   "source": [
    "Check the shape of the x_valid holding the validation data"
   ]
  },
  {
   "cell_type": "markdown",
   "id": "87f50004-4593-4a37-a9c4-3592573b7dd8",
   "metadata": {},
   "source": [
    "The images are stored in rows of length $784$, hence to display the images we need to reshape them to $28\\times 28$."
   ]
  },
  {
   "cell_type": "code",
   "execution_count": 55,
   "id": "ce92d745-28ca-4657-8ea8-52e55f4c1771",
   "metadata": {
    "scrolled": true
   },
   "outputs": [
    {
     "name": "stdout",
     "output_type": "stream",
     "text": [
      "torch.Size([1, 1, 28, 28])\n"
     ]
    },
    {
     "data": {
      "image/png": "[encoded data removed]",
      "text/plain": [
       "<Figure size 640x480 with 1 Axes>"
      ]
     },
     "metadata": {},
     "output_type": "display_data"
    }
   ],
   "source": [
    "pyplot.imshow(x_train[0].reshape((28, 28)), cmap=\"gray\")\n",
    "print(x_train.shape)\n"
   ]
  },
  {
   "cell_type": "markdown",
   "id": "3832adbe-4018-443b-bcaf-d81906b9d0ac",
   "metadata": {},
   "source": [
    "We can also convert the image into black and white"
   ]
  },
  {
   "cell_type": "code",
   "execution_count": 56,
   "id": "3b6edfd4-3541-4864-b385-4b46ae9c4c70",
   "metadata": {},
   "outputs": [
    {
     "name": "stdout",
     "output_type": "stream",
     "text": [
      "torch.Size([1, 1, 28, 28])\n"
     ]
    },
    {
     "data": {
      "image/png": "[encoded data removed]",
      "text/plain": [
       "<Figure size 640x480 with 1 Axes>"
      ]
     },
     "metadata": {},
     "output_type": "display_data"
    }
   ],
   "source": [
    "bw = np.array(x_train[0]>0, dtype=int)\n",
    "pyplot.imshow(bw.reshape((28, 28)), cmap=\"gray\")\n",
    "print(x_train.shape)\n"
   ]
  },
  {
   "cell_type": "markdown",
   "id": "22d51575-96d3-4c75-ba72-ce7da96123cd",
   "metadata": {},
   "source": [
    "We can do 2D convolutions using the function convolve2d from scipy.signal. Below is an example, where we apply the convolution operator from Slide 29 to the image above."
   ]
  },
  {
   "cell_type": "code",
   "execution_count": 74,
   "id": "0b717ce8-55bb-4dbf-9365-e9aebeee489c",
   "metadata": {},
   "outputs": [
    {
     "data": {
      "text/plain": [
       "<matplotlib.image.AxesImage at 0x7f7ff018a0e0>"
      ]
     },
     "execution_count": 74,
     "metadata": {},
     "output_type": "execute_result"
    },
    {
     "data": {
      "image/png": "[encoded data removed]",
      "text/plain": [
       "<Figure size 640x480 with 1 Axes>"
      ]
     },
     "metadata": {},
     "output_type": "display_data"
    }
   ],
   "source": [
    "kernel = np.array([[0,-1, 0], [-1, 8, -1], [0,-1, 0]])\n",
    "res = signal.convolve2d(bw.reshape((28, 28)),kernel, 'same')\n",
    "pyplot.imshow(res.reshape((28, 28)), cmap=\"gray\")\n"
   ]
  },
  {
   "cell_type": "markdown",
   "id": "d0106801-11fb-4619-b026-7afe8a139fa2",
   "metadata": {},
   "source": [
    "## Exercise:\n",
    "\n",
    "* Experiment with different kernels to get an impression of the convolution operator. You may find some inspiration for kernels [here](https://en.wikipedia.org/wiki/Kernel_(image_processing)). If you feel adventuruous, you are most welcome to play around with other images. \n",
    "* Try also taking a closer look at the numerical values being produced to verify your understanding."
   ]
  },
  {
   "cell_type": "markdown",
   "id": "7e2099ce-40d0-46e9-ba5b-6341b845ba12",
   "metadata": {},
   "source": [
    "# Part 3"
   ]
  },
  {
   "cell_type": "markdown",
   "id": "1accb0a1-f013-4594-8fde-f7a272142924",
   "metadata": {},
   "source": [
    "During the last self study session we only made limited use of PyTorch’s functionality for constructing neural networks (basically only using it for calculating gradients). In the self study session below, we will take advantage of much more of its functionality. Specifically, we will start experimenting with convolutional neural networks.\n",
    "\n",
    "The convolution constructs in PyTorch rely on the torch.nn module provided by PyTorch. A short introduction to this module and how to define neural networks in PyTorch can be found at:\n",
    "* https://pytorch.org/tutorials/beginner/blitz/neural_networks_tutorial.html#sphx-glr-beginner-blitz-neural-networks-tutorial-py\n",
    "* https://pytorch.org/tutorials/beginner/nn_tutorial.html\n",
    "\n",
    "If you have finished with the previous exercises, you can start preparing for the self study session by going through these tutorials. The former tutorial is part of a general tutorial package to PyTorch, which can be found at:\n",
    "* https://pytorch.org/tutorials/beginner/deep_learning_60min_blitz.html\n",
    "this also includes a nice introduction to tensors in PyTorch."
   ]
  },
  {
   "cell_type": "markdown",
   "id": "983e1a68-8a1d-4565-96c6-d7eacfcbfe2c",
   "metadata": {},
   "source": [
    "# Self study 2"
   ]
  },
  {
   "cell_type": "code",
   "execution_count": 75,
   "id": "12b8f01c-4d1f-43cf-a6fc-70368a9ea529",
   "metadata": {},
   "outputs": [],
   "source": [
    "import torch\n",
    "import torch.nn as nn\n",
    "import torch.nn.functional as F\n",
    "from torchvision import datasets, transforms\n",
    "from torch.utils.data.sampler import SubsetRandomSampler\n",
    "from matplotlib import pyplot\n",
    "import numpy as np\n"
   ]
  },
  {
   "cell_type": "markdown",
   "id": "34055977-f579-4312-84c5-8e82c3ff62c4",
   "metadata": {},
   "source": [
    "## Loading the data"
   ]
  },
  {
   "cell_type": "markdown",
   "id": "1291c368-5e82-4354-b8f8-badd7adaaf95",
   "metadata": {},
   "source": [
    "As last time we will be working with the MNIST data set: The MNIST database consists of grey scale images of handwritten digits. Each image is of size $28\\times 28$; see figure below for an illustration. The data set is divided into a training set consisting of $60000$ images and a test set with $10000$ images; in both\n",
    "data sets the images are labeled with the correct digits. If interested you can find more information about the MNIST data set at http://yann.lecun.com/exdb/mnist/, including accuracy results for various machine learning methods.\n",
    "\n",
    "![MNIST DATA](MNIST-dataset.png)"
   ]
  },
  {
   "cell_type": "markdown",
   "id": "0b530d97-218a-4c6b-8c4f-fa48f7c369d2",
   "metadata": {},
   "source": [
    "For this self study, we will be a bit more careful with our data. Specifically, we will divide the data into a training, validation, and test, and use the training and validation set for model learning (in the previous self study we did not have a validation set). \n",
    "\n",
    "The data set is created by setting aside a randomly chosen subset of the data, where the splitting point is found using the help function *split_indicies* below."
   ]
  },
  {
   "cell_type": "code",
   "execution_count": 76,
   "id": "17433cf6-5c7d-4b33-b69b-d6bc39f6ad7a",
   "metadata": {},
   "outputs": [
    {
     "name": "stdout",
     "output_type": "stream",
     "text": [
      "Number of training examples: 48000\n",
      "Number of validation examples: 12000\n"
     ]
    }
   ],
   "source": [
    "def split_indicies(n, val_pct):\n",
    "    # Size of validation set\n",
    "    n_val = int(n*val_pct)\n",
    "    # Random permutation\n",
    "    idxs = np.random.permutation(n)\n",
    "    # Return first indexes for the validation set\n",
    "    return idxs[n_val:], idxs[:n_val]\n",
    "\n",
    "# Load the data\n",
    "train_dataset = datasets.MNIST('../data', train=True, download=False,\n",
    "                   transform=transforms.Compose([\n",
    "                       transforms.ToTensor(),\n",
    "                       transforms.Normalize((0.1307,), (0.3081,))\n",
    "                   ]))\n",
    "\n",
    "# Get the indicies for the training data and test data (the validation set will consists of 20% of the data)\n",
    "train_idxs, val_idxs = split_indicies(len(train_dataset), 0.2)\n",
    "\n",
    "# Define samplers (used by Dataloader) to the two sets of indicies\n",
    "train_sampler = SubsetRandomSampler(train_idxs)\n",
    "val_sampler = SubsetRandomSampler(val_idxs)\n",
    "\n",
    "# Specify data loaders for our training and test set (same functionality as in the previous self study)\n",
    "train_loader = torch.utils.data.DataLoader(train_dataset, batch_size=64, sampler=train_sampler)\n",
    "val_loader = torch.utils.data.DataLoader(train_dataset, batch_size=64, sampler=val_sampler)\n",
    "\n",
    "print(f\"Number of training examples: {len(train_idxs)}\")\n",
    "print(f\"Number of validation examples: {len(val_idxs)}\")\n"
   ]
  },
  {
   "cell_type": "markdown",
   "id": "c452e873-64e9-4580-83cc-38e50f6ec2d1",
   "metadata": {},
   "source": [
    "The test set is loaded in the usual fashion"
   ]
  },
  {
   "cell_type": "code",
   "execution_count": 77,
   "id": "5d7c567b-1254-456a-b241-1169525b108f",
   "metadata": {},
   "outputs": [],
   "source": [
    "test_loader = torch.utils.data.DataLoader(\n",
    "        datasets.MNIST('../data', train=False, transform=transforms.Compose([\n",
    "            transforms.ToTensor(),\n",
    "            transforms.Normalize((0.1307,), (0.3081,))\n",
    "        ])),\n",
    "        batch_size=64, shuffle=True)\n"
   ]
  },
  {
   "cell_type": "markdown",
   "id": "117de9b0-0350-49b4-9cb2-e78477dd8db6",
   "metadata": {},
   "source": [
    "## Specifying the model\n",
    "\n",
    "When using the _torch.nn_ for specifying our model we subclass the _nn.Module_. The model thus holds all the parameters of the model (see the _init_ function) as well as a specification of the forward step. We don't have to keep track of the backward pass, as PyTorch handles this for us."
   ]
  },
  {
   "cell_type": "code",
   "execution_count": 158,
   "id": "67d31436-376a-4362-b7d2-983ae45d3bd4",
   "metadata": {},
   "outputs": [],
   "source": [
    "class MNIST_CNN(nn.Module):\n",
    "\n",
    "    def __init__(self):\n",
    "        super().__init__()\n",
    "\n",
    "        # Define a convolution operator with 1 input channel, 15 output channels and a kernel size of 5x5\n",
    "        self.conv1 = nn.Conv2d(1, 15, 5)\n",
    "        # Since we are not doing padding (see Lecture 2, Slide 38) the width of the following layer is reduced; for\n",
    "        # each channel the resulting dimension is 24x24. We feed the resulting representation through a linear\n",
    "        # layer, giving 10 values as output - one for each digit.\n",
    "        self.fc = nn.Linear(15 * 12 * 12, 10)\n",
    "        self.out = None\n",
    "\n",
    "    def forward(self, xb):\n",
    "\n",
    "        # Reshape the input tensor; '-1' indicates that PyTorch will fill-in this\n",
    "        # dimension, whereas the '1' indicates that we only have one color channel.\n",
    "        xb = xb.view(-1, 1, 28, 28)\n",
    "        # Apply convolution and pass the result through a ReLU function\n",
    "        xb = F.max_pool2d(F.relu(self.conv1(xb)), 2)\n",
    "        # Reshape the representation\n",
    "        xb = xb.view(-1, 15*12*12)\n",
    "        # Apply the linear layer\n",
    "        xb = self.fc(xb)\n",
    "        # and set the result as the output. Note that we don't take a softmax as this is handled internally in the\n",
    "        # loss function defined below.\n",
    "        self.out = xb\n",
    "\n",
    "        return xb\n"
   ]
  },
  {
   "cell_type": "markdown",
   "id": "f322f0c3-0327-481b-9005-5f7fced46174",
   "metadata": {},
   "source": [
    "## Learning and evaluating the model\n",
    "\n",
    "For learning the model, we will use the following function which performs one iteration over the training data. The function also takes an _epoch_ argument, but this is only used for reporting on the learning progress"
   ]
  },
  {
   "cell_type": "code",
   "execution_count": 159,
   "id": "ad619f54-b51e-41a7-bf19-8ed3a02e8dc7",
   "metadata": {},
   "outputs": [],
   "source": [
    "def train(model, train_loader, loss_fn, epoch):\n",
    "    # Tell PyTorch that this function is part of the training\n",
    "    model.train()\n",
    "\n",
    "    # As optimizer we use stochastic gradient descent as defined by PyTorch. PyTorch also includes a variety\n",
    "    # of other optimizers\n",
    "    learning_rate = 0.01\n",
    "    opt = torch.optim.Adam(model.parameters(), lr=learning_rate)\n",
    "\n",
    "    # Iterate over the training set, one batch at the time, as in the previous self sudy\n",
    "    for batch_idx, (data, target) in enumerate(train_loader):\n",
    "        # Get the prediction\n",
    "        y_pred = model(data)\n",
    "\n",
    "        # Remember to zero the gradients so that they don't accumulate\n",
    "        opt.zero_grad()\n",
    "\n",
    "        # Calculate the loss and and the gradients\n",
    "        loss = loss_fn(y_pred, target)\n",
    "        loss.backward()\n",
    "\n",
    "        # Optimize the parameters by taking one 'step' with the optimizer\n",
    "        opt.step()\n",
    "\n",
    "        # For every 10th batch we output a bit of info\n",
    "        if batch_idx % 10 == 0:\n",
    "            print('Train Epoch: {} [{}/{} ({:.0f}%)]\\tLoss: {:.6f}'.format(\n",
    "                epoch, batch_idx * len(data), len(train_loader.sampler),\n",
    "                       100. * batch_idx * len(data) / len(train_loader.sampler), loss.item()))\n"
   ]
  },
  {
   "cell_type": "markdown",
   "id": "26a472dd-034c-4f74-8b01-0cc9065fe9be",
   "metadata": {},
   "source": [
    "In the end, we also want to validate our model. To do this we define the function below, which takes a data_loader (either the validation or test set) and reports the model's accuracy and loss on that data set."
   ]
  },
  {
   "cell_type": "code",
   "execution_count": 160,
   "id": "895bca74-0216-4244-aac3-b71d95298ce8",
   "metadata": {},
   "outputs": [],
   "source": [
    "def test_model(model, data_loader, loss_fn):\n",
    "    # Tell PyTorch that we are performing evaluation\n",
    "    model.eval()\n",
    "\n",
    "    test_loss = 0\n",
    "    correct = 0\n",
    "    with torch.no_grad():\n",
    "        for data, target in data_loader:\n",
    "            output = model(data)\n",
    "            test_loss += loss_fn(output, target).item()  # sum up batch loss\n",
    "            pred = output.argmax(dim=1, keepdim=True)  # get the index of the max log-probability\n",
    "            correct += pred.eq(target.view_as(pred)).sum().item()\n",
    "\n",
    "    test_loss /= len(data_loader.dataset)\n",
    "\n",
    "    print('\\nTest/validation set: Average loss: {:.4f}, Accuracy: {}/{} ({:.0f}%)\\n'.format(\n",
    "        test_loss, correct, len(data_loader.sampler),\n",
    "        100. * correct / len(data_loader.sampler)))\n"
   ]
  },
  {
   "cell_type": "markdown",
   "id": "eb7b0de9-a38b-4997-8fe0-15848b2b5721",
   "metadata": {},
   "source": [
    "## A couple of helper functions\n",
    "\n",
    "Learning a deep neural network can be time consuming, and it might therefore be nice to be able to save and load previously learned models (see also https://pytorch.org/tutorials/beginner/saving_loading_models.html)."
   ]
  },
  {
   "cell_type": "code",
   "execution_count": 161,
   "id": "d9bffe10-26ef-477d-bc53-8c81b66fda36",
   "metadata": {},
   "outputs": [],
   "source": [
    "def save_model(file_name, model):\n",
    "    torch.save(model, file_name)\n",
    "\n",
    "def load_model(file_name):\n",
    "    model = torch.load(file_name)\n",
    "    model.eval()\n",
    "    return model\n"
   ]
  },
  {
   "cell_type": "markdown",
   "id": "6f09ef3f-bbfd-4cc8-bbdf-6a364f1a7b7a",
   "metadata": {},
   "source": [
    "## Wrapping things up\n",
    "\n",
    "Finally, we will do the actual learning of the model."
   ]
  },
  {
   "cell_type": "code",
   "execution_count": 162,
   "id": "7d134d72-2d8f-4cc4-adfe-8e1b9e745ddb",
   "metadata": {},
   "outputs": [],
   "source": [
    "# The number of passes that will be made over the training set\n",
    "num_epochs = 2\n",
    "# torch.nn defines several useful loss-functions, which we will take advantage of here (see Lecture 1, Slide 11, Log-loss).\n",
    "loss_fn = nn.CrossEntropyLoss()\n"
   ]
  },
  {
   "cell_type": "code",
   "execution_count": 163,
   "id": "480c2a94-7d9a-4a3c-9786-facb2167ca68",
   "metadata": {},
   "outputs": [
    {
     "name": "stdout",
     "output_type": "stream",
     "text": [
      "Model structure:\n",
      "MNIST_CNN(\n",
      "  (conv1): Conv2d(1, 15, kernel_size=(5, 5), stride=(1, 1))\n",
      "  (fc): Linear(in_features=2160, out_features=10, bias=True)\n",
      ")\n"
     ]
    }
   ],
   "source": [
    "# Instantiate the model class\n",
    "model = MNIST_CNN()\n",
    "# and get some information about the structure\n",
    "print('Model structure:')\n",
    "print(model)\n"
   ]
  },
  {
   "cell_type": "markdown",
   "id": "29aea5cd-92ba-4762-9ace-7967d6d1d97c",
   "metadata": {},
   "source": [
    "### Iterate over the data set\n",
    "\n",
    "We iterate over the data set for *num_epochs* number of iterations. At each iteration we also calculate the loss/accuracy on the validation set."
   ]
  },
  {
   "cell_type": "code",
   "execution_count": 164,
   "id": "cd9a413c-2e6b-410e-b66d-dbd51f73b082",
   "metadata": {},
   "outputs": [
    {
     "name": "stdout",
     "output_type": "stream",
     "text": [
      "Train Epoch: 0 [0/48000 (0%)]\tLoss: 2.421450\n"
     ]
    },
    {
     "name": "stdout",
     "output_type": "stream",
     "text": [
      "Train Epoch: 0 [640/48000 (1%)]\tLoss: 1.045835\n",
      "Train Epoch: 0 [1280/48000 (3%)]\tLoss: 0.323610\n",
      "Train Epoch: 0 [1920/48000 (4%)]\tLoss: 0.493709\n",
      "Train Epoch: 0 [2560/48000 (5%)]\tLoss: 0.304164\n",
      "Train Epoch: 0 [3200/48000 (7%)]\tLoss: 0.118532\n",
      "Train Epoch: 0 [3840/48000 (8%)]\tLoss: 0.253364\n",
      "Train Epoch: 0 [4480/48000 (9%)]\tLoss: 0.146564\n",
      "Train Epoch: 0 [5120/48000 (11%)]\tLoss: 0.150264\n",
      "Train Epoch: 0 [5760/48000 (12%)]\tLoss: 0.110048\n",
      "Train Epoch: 0 [6400/48000 (13%)]\tLoss: 0.121779\n",
      "Train Epoch: 0 [7040/48000 (15%)]\tLoss: 0.218325\n",
      "Train Epoch: 0 [7680/48000 (16%)]\tLoss: 0.108332\n",
      "Train Epoch: 0 [8320/48000 (17%)]\tLoss: 0.155337\n",
      "Train Epoch: 0 [8960/48000 (19%)]\tLoss: 0.125181\n",
      "Train Epoch: 0 [9600/48000 (20%)]\tLoss: 0.214799\n",
      "Train Epoch: 0 [10240/48000 (21%)]\tLoss: 0.197805\n",
      "Train Epoch: 0 [10880/48000 (23%)]\tLoss: 0.069804\n",
      "Train Epoch: 0 [11520/48000 (24%)]\tLoss: 0.070703\n",
      "Train Epoch: 0 [12160/48000 (25%)]\tLoss: 0.123635\n",
      "Train Epoch: 0 [12800/48000 (27%)]\tLoss: 0.281086\n",
      "Train Epoch: 0 [13440/48000 (28%)]\tLoss: 0.094598\n",
      "Train Epoch: 0 [14080/48000 (29%)]\tLoss: 0.116678\n",
      "Train Epoch: 0 [14720/48000 (31%)]\tLoss: 0.227173\n",
      "Train Epoch: 0 [15360/48000 (32%)]\tLoss: 0.055533\n",
      "Train Epoch: 0 [16000/48000 (33%)]\tLoss: 0.040356\n",
      "Train Epoch: 0 [16640/48000 (35%)]\tLoss: 0.329591\n",
      "Train Epoch: 0 [17280/48000 (36%)]\tLoss: 0.090907\n",
      "Train Epoch: 0 [17920/48000 (37%)]\tLoss: 0.046209\n",
      "Train Epoch: 0 [18560/48000 (39%)]\tLoss: 0.245732\n",
      "Train Epoch: 0 [19200/48000 (40%)]\tLoss: 0.136121\n",
      "Train Epoch: 0 [19840/48000 (41%)]\tLoss: 0.083767\n",
      "Train Epoch: 0 [20480/48000 (43%)]\tLoss: 0.063192\n",
      "Train Epoch: 0 [21120/48000 (44%)]\tLoss: 0.041048\n",
      "Train Epoch: 0 [21760/48000 (45%)]\tLoss: 0.048850\n",
      "Train Epoch: 0 [22400/48000 (47%)]\tLoss: 0.190892\n",
      "Train Epoch: 0 [23040/48000 (48%)]\tLoss: 0.057911\n",
      "Train Epoch: 0 [23680/48000 (49%)]\tLoss: 0.141027\n",
      "Train Epoch: 0 [24320/48000 (51%)]\tLoss: 0.177129\n",
      "Train Epoch: 0 [24960/48000 (52%)]\tLoss: 0.077242\n",
      "Train Epoch: 0 [25600/48000 (53%)]\tLoss: 0.174970\n",
      "Train Epoch: 0 [26240/48000 (55%)]\tLoss: 0.154531\n",
      "Train Epoch: 0 [26880/48000 (56%)]\tLoss: 0.042449\n",
      "Train Epoch: 0 [27520/48000 (57%)]\tLoss: 0.081036\n",
      "Train Epoch: 0 [28160/48000 (59%)]\tLoss: 0.011802\n",
      "Train Epoch: 0 [28800/48000 (60%)]\tLoss: 0.047424\n",
      "Train Epoch: 0 [29440/48000 (61%)]\tLoss: 0.118287\n",
      "Train Epoch: 0 [30080/48000 (63%)]\tLoss: 0.122572\n",
      "Train Epoch: 0 [30720/48000 (64%)]\tLoss: 0.103751\n",
      "Train Epoch: 0 [31360/48000 (65%)]\tLoss: 0.027123\n",
      "Train Epoch: 0 [32000/48000 (67%)]\tLoss: 0.113152\n",
      "Train Epoch: 0 [32640/48000 (68%)]\tLoss: 0.118868\n",
      "Train Epoch: 0 [33280/48000 (69%)]\tLoss: 0.039620\n",
      "Train Epoch: 0 [33920/48000 (71%)]\tLoss: 0.203208\n",
      "Train Epoch: 0 [34560/48000 (72%)]\tLoss: 0.034196\n",
      "Train Epoch: 0 [35200/48000 (73%)]\tLoss: 0.159234\n",
      "Train Epoch: 0 [35840/48000 (75%)]\tLoss: 0.141208\n",
      "Train Epoch: 0 [36480/48000 (76%)]\tLoss: 0.260188\n",
      "Train Epoch: 0 [37120/48000 (77%)]\tLoss: 0.065167\n",
      "Train Epoch: 0 [37760/48000 (79%)]\tLoss: 0.147841\n",
      "Train Epoch: 0 [38400/48000 (80%)]\tLoss: 0.007643\n",
      "Train Epoch: 0 [39040/48000 (81%)]\tLoss: 0.142088\n",
      "Train Epoch: 0 [39680/48000 (83%)]\tLoss: 0.044473\n",
      "Train Epoch: 0 [40320/48000 (84%)]\tLoss: 0.076514\n",
      "Train Epoch: 0 [40960/48000 (85%)]\tLoss: 0.126551\n",
      "Train Epoch: 0 [41600/48000 (87%)]\tLoss: 0.043343\n",
      "Train Epoch: 0 [42240/48000 (88%)]\tLoss: 0.112365\n",
      "Train Epoch: 0 [42880/48000 (89%)]\tLoss: 0.008529\n",
      "Train Epoch: 0 [43520/48000 (91%)]\tLoss: 0.055945\n",
      "Train Epoch: 0 [44160/48000 (92%)]\tLoss: 0.105612\n",
      "Train Epoch: 0 [44800/48000 (93%)]\tLoss: 0.045253\n",
      "Train Epoch: 0 [45440/48000 (95%)]\tLoss: 0.061146\n",
      "Train Epoch: 0 [46080/48000 (96%)]\tLoss: 0.123637\n",
      "Train Epoch: 0 [46720/48000 (97%)]\tLoss: 0.325521\n",
      "Train Epoch: 0 [47360/48000 (99%)]\tLoss: 0.112460\n",
      "\n",
      "Test/validation set: Average loss: 0.0003, Accuracy: 11679/12000 (97%)\n",
      "\n",
      "Train Epoch: 1 [0/48000 (0%)]\tLoss: 0.048586\n",
      "Train Epoch: 1 [640/48000 (1%)]\tLoss: 0.161835\n",
      "Train Epoch: 1 [1280/48000 (3%)]\tLoss: 0.116271\n",
      "Train Epoch: 1 [1920/48000 (4%)]\tLoss: 0.027094\n",
      "Train Epoch: 1 [2560/48000 (5%)]\tLoss: 0.034735\n",
      "Train Epoch: 1 [3200/48000 (7%)]\tLoss: 0.061110\n",
      "Train Epoch: 1 [3840/48000 (8%)]\tLoss: 0.138460\n",
      "Train Epoch: 1 [4480/48000 (9%)]\tLoss: 0.081755\n",
      "Train Epoch: 1 [5120/48000 (11%)]\tLoss: 0.080890\n",
      "Train Epoch: 1 [5760/48000 (12%)]\tLoss: 0.433631\n",
      "Train Epoch: 1 [6400/48000 (13%)]\tLoss: 0.125860\n",
      "Train Epoch: 1 [7040/48000 (15%)]\tLoss: 0.252547\n",
      "Train Epoch: 1 [7680/48000 (16%)]\tLoss: 0.109586\n",
      "Train Epoch: 1 [8320/48000 (17%)]\tLoss: 0.047429\n",
      "Train Epoch: 1 [8960/48000 (19%)]\tLoss: 0.013201\n",
      "Train Epoch: 1 [9600/48000 (20%)]\tLoss: 0.149221\n",
      "Train Epoch: 1 [10240/48000 (21%)]\tLoss: 0.021925\n",
      "Train Epoch: 1 [10880/48000 (23%)]\tLoss: 0.196862\n",
      "Train Epoch: 1 [11520/48000 (24%)]\tLoss: 0.159650\n",
      "Train Epoch: 1 [12160/48000 (25%)]\tLoss: 0.055573\n",
      "Train Epoch: 1 [12800/48000 (27%)]\tLoss: 0.016954\n",
      "Train Epoch: 1 [13440/48000 (28%)]\tLoss: 0.178393\n",
      "Train Epoch: 1 [14080/48000 (29%)]\tLoss: 0.141410\n",
      "Train Epoch: 1 [14720/48000 (31%)]\tLoss: 0.143453\n",
      "Train Epoch: 1 [15360/48000 (32%)]\tLoss: 0.306987\n",
      "Train Epoch: 1 [16000/48000 (33%)]\tLoss: 0.038116\n",
      "Train Epoch: 1 [16640/48000 (35%)]\tLoss: 0.252468\n",
      "Train Epoch: 1 [17280/48000 (36%)]\tLoss: 0.153683\n",
      "Train Epoch: 1 [17920/48000 (37%)]\tLoss: 0.094212\n",
      "Train Epoch: 1 [18560/48000 (39%)]\tLoss: 0.119937\n",
      "Train Epoch: 1 [19200/48000 (40%)]\tLoss: 0.031614\n",
      "Train Epoch: 1 [19840/48000 (41%)]\tLoss: 0.164293\n",
      "Train Epoch: 1 [20480/48000 (43%)]\tLoss: 0.045751\n",
      "Train Epoch: 1 [21120/48000 (44%)]\tLoss: 0.058921\n",
      "Train Epoch: 1 [21760/48000 (45%)]\tLoss: 0.149119\n",
      "Train Epoch: 1 [22400/48000 (47%)]\tLoss: 0.136957\n",
      "Train Epoch: 1 [23040/48000 (48%)]\tLoss: 0.246458\n",
      "Train Epoch: 1 [23680/48000 (49%)]\tLoss: 0.064741\n",
      "Train Epoch: 1 [24320/48000 (51%)]\tLoss: 0.037824\n",
      "Train Epoch: 1 [24960/48000 (52%)]\tLoss: 0.084680\n",
      "Train Epoch: 1 [25600/48000 (53%)]\tLoss: 0.100093\n",
      "Train Epoch: 1 [26240/48000 (55%)]\tLoss: 0.043266\n",
      "Train Epoch: 1 [26880/48000 (56%)]\tLoss: 0.147339\n",
      "Train Epoch: 1 [27520/48000 (57%)]\tLoss: 0.017235\n",
      "Train Epoch: 1 [28160/48000 (59%)]\tLoss: 0.002522\n",
      "Train Epoch: 1 [28800/48000 (60%)]\tLoss: 0.246625\n",
      "Train Epoch: 1 [29440/48000 (61%)]\tLoss: 0.174261\n",
      "Train Epoch: 1 [30080/48000 (63%)]\tLoss: 0.042226\n",
      "Train Epoch: 1 [30720/48000 (64%)]\tLoss: 0.120910\n",
      "Train Epoch: 1 [31360/48000 (65%)]\tLoss: 0.020426\n",
      "Train Epoch: 1 [32000/48000 (67%)]\tLoss: 0.018777\n",
      "Train Epoch: 1 [32640/48000 (68%)]\tLoss: 0.133221\n",
      "Train Epoch: 1 [33280/48000 (69%)]\tLoss: 0.098110\n",
      "Train Epoch: 1 [33920/48000 (71%)]\tLoss: 0.009995\n",
      "Train Epoch: 1 [34560/48000 (72%)]\tLoss: 0.032751\n",
      "Train Epoch: 1 [35200/48000 (73%)]\tLoss: 0.006117\n",
      "Train Epoch: 1 [35840/48000 (75%)]\tLoss: 0.042690\n",
      "Train Epoch: 1 [36480/48000 (76%)]\tLoss: 0.076330\n",
      "Train Epoch: 1 [37120/48000 (77%)]\tLoss: 0.155496\n",
      "Train Epoch: 1 [37760/48000 (79%)]\tLoss: 0.063101\n",
      "Train Epoch: 1 [38400/48000 (80%)]\tLoss: 0.028694\n",
      "Train Epoch: 1 [39040/48000 (81%)]\tLoss: 0.087714\n",
      "Train Epoch: 1 [39680/48000 (83%)]\tLoss: 0.038423\n",
      "Train Epoch: 1 [40320/48000 (84%)]\tLoss: 0.054956\n",
      "Train Epoch: 1 [40960/48000 (85%)]\tLoss: 0.059742\n",
      "Train Epoch: 1 [41600/48000 (87%)]\tLoss: 0.013987\n",
      "Train Epoch: 1 [42240/48000 (88%)]\tLoss: 0.049003\n",
      "Train Epoch: 1 [42880/48000 (89%)]\tLoss: 0.026259\n",
      "Train Epoch: 1 [43520/48000 (91%)]\tLoss: 0.021017\n",
      "Train Epoch: 1 [44160/48000 (92%)]\tLoss: 0.132868\n",
      "Train Epoch: 1 [44800/48000 (93%)]\tLoss: 0.099856\n",
      "Train Epoch: 1 [45440/48000 (95%)]\tLoss: 0.080438\n",
      "Train Epoch: 1 [46080/48000 (96%)]\tLoss: 0.002832\n",
      "Train Epoch: 1 [46720/48000 (97%)]\tLoss: 0.009238\n",
      "Train Epoch: 1 [47360/48000 (99%)]\tLoss: 0.116570\n",
      "\n",
      "Test/validation set: Average loss: 0.0004, Accuracy: 11619/12000 (97%)\n",
      "\n"
     ]
    }
   ],
   "source": [
    "for i in range(num_epochs):\n",
    "    train(model, train_loader, loss_fn, i)\n",
    "    # Evaluate the model on the test set\n",
    "    test_model(model, val_loader, loss_fn)\n"
   ]
  },
  {
   "cell_type": "markdown",
   "id": "5b2dc8c7-acd8-4be7-9d9d-364ab8b51848",
   "metadata": {},
   "source": [
    "After learning we evaluate the model on the _test set_ and save the resulting structure."
   ]
  },
  {
   "cell_type": "code",
   "execution_count": 165,
   "id": "bc59f415-4c16-41f8-8ec9-a8c06dd5c6b7",
   "metadata": {},
   "outputs": [],
   "source": [
    "# # Evaluate the model on the test set\n",
    "# test_model(model, test_loader, loss_fn)\n",
    "# # Save the model\n",
    "# save_model('conv.pt', model)\n"
   ]
  },
  {
   "cell_type": "markdown",
   "id": "4c745b31-6631-4cbe-8bd8-860c35d0d565",
   "metadata": {
    "tags": []
   },
   "source": [
    "## Exercises\n",
    "\n",
    "1. Familiarize yourself with the code above and consult the PyTorch documentation when needed.\n",
    "2. Experiment with different NN architectures (also varying the convolutional parameters: size, stride, padding, etc) and observe the effect wrt. the loss/accuracy on the training and validation dataset (training, validation). Note that when adding new layers (including dropout [Lecture 2, Slide 13], pooling, etc.) you need to make sure that the dimensionality of the layers match up. **IMPORTANT:** ignore the test set at this stage (i.e., comment out the relevant lines above) so that the results for the test set do not influence your model choice.\n",
    "3. In the model above we use a simple gradient descent learning scheme. Try other types of optimizers (see https://pytorch.org/docs/stable/optim.html) and analyze the effect.\n",
    "4. If you feel adventurous, try investigating some of the other datasets that come prepacakged with PyTorch (see https://pytorch.org/vision/0.8/datasets.html). For instnce, for FashionMNIST you only need to change the dataloader from datasets.MNIST to datasets.FashionMNIST."
   ]
  },
  {
   "cell_type": "code",
   "execution_count": null,
   "id": "614a704f-b12b-487e-b0e2-8eb24c8d9081",
   "metadata": {},
   "outputs": [],
   "source": []
  }
 ],
 "metadata": {
  "kernelspec": {
   "display_name": "Python 3 (ipykernel)",
   "language": "python",
   "name": "python3"
  },
  "language_info": {
   "codemirror_mode": {
    "name": "ipython",
    "version": 3
   },
   "file_extension": ".py",
   "mimetype": "text/x-python",
   "name": "python",
   "nbconvert_exporter": "python",
   "pygments_lexer": "ipython3",
   "version": "3.10.12"
  }
 },
 "nbformat": 4,
 "nbformat_minor": 5
}
