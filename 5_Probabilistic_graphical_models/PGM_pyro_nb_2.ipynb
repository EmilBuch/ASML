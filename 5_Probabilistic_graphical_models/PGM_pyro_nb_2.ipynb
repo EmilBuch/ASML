{
 "cells": [
  {
   "cell_type": "markdown",
   "metadata": {},
   "source": [
    "# 0. Exercise on plate notation"
   ]
  },
  {
   "cell_type": "markdown",
   "metadata": {},
   "source": [
    "Plate notation can also be used to represented repeated substructure with shared parameters (conditional probability distributions). \n",
    "\n",
    "<img src=\"skills.png\" alt=\"Drawing\">\n",
    "\n",
    "Assume that we have two students and two course. What does the unfolded models for the two plate models above look like?"
   ]
  },
  {
   "cell_type": "markdown",
   "metadata": {
    "id": "a75mGrGgL-0g"
   },
   "source": [
    "<img src=\"https://github.com/PGM-Lab/probai-2021-pyro/blob/main/Day1/Figures/blue.png?raw=1\" alt=\"Drawing\" width=2000 height=20>\n",
    "\n",
    "\n",
    "# Setup\n",
    "We will now continue with more Pyro relateed exercises. Let's begin by installing and importing the modules we'll need."
   ]
  },
  {
   "cell_type": "code",
   "execution_count": 1,
   "metadata": {
    "id": "7Owp2eKrL-0j"
   },
   "outputs": [],
   "source": [
    "import pyro\n",
    "import torch\n",
    "import pyro.distributions as dist"
   ]
  },
  {
   "cell_type": "markdown",
   "metadata": {},
   "source": [
    "### **<span style=\"color:red\">Exercise introduction</span>**\n",
    "\n",
    "The main goal with the exercises below is to get some experience with probabilistic modeling. Here we exemplify modeling using Pyro, but any other probabilistic programming language could also have been used.\n",
    "\n",
    "There are two explicit exercises embedded in this notebook (marked with red as above). Before working on these exercises, step carefully through the notebook leading up to the exercises and make sure that you have a good understanding on what is done in the individual steps."
   ]
  },
  {
   "cell_type": "markdown",
   "metadata": {
    "id": "I-EvHtlvL-0k"
   },
   "source": [
    "<img src=\"https://github.com/PGM-Lab/probai-2021-pyro/blob/main/Day1/Figures/blue.png?raw=1\" alt=\"Drawing\" width=2000 height=20>\n",
    "\n",
    "\n",
    "# 1. **Pyro’s distributions**:\n",
    "\n",
    "\n",
    "Pyro provides a wide range of distributions: **Normal, Beta, Cauchy, Dirichlet, Gumbel, Poisson, Pareto, etc.**"
   ]
  },
  {
   "cell_type": "code",
   "execution_count": 2,
   "metadata": {
    "colab": {
     "base_uri": "https://localhost:8080/"
    },
    "id": "_w52OifSL-0l",
    "outputId": "f18fed03-42e0-44af-d852-ffc4f11cd71c"
   },
   "outputs": [
    {
     "data": {
      "text/plain": [
       "Normal(loc: 0.0, scale: 1.0)"
      ]
     },
     "execution_count": 2,
     "metadata": {},
     "output_type": "execute_result"
    }
   ],
   "source": [
    "normal = dist.Normal(0,1)\n",
    "normal"
   ]
  },
  {
   "cell_type": "markdown",
   "metadata": {
    "id": "yOSdcF4_L-0m"
   },
   "source": [
    "\n",
    "<img src=\"https://github.com/PGM-Lab/probai-2021-pyro/blob/main/Day1/Figures/blue.png?raw=1\" alt=\"Drawing\" width=2000 height=20>\n",
    "\n",
    "Samples from the distributions are [Pytorch’s Tensor objects](https://pytorch.org/cppdocs/notes/tensor_creation.html) (i.e. multidimensional arrays)."
   ]
  },
  {
   "cell_type": "code",
   "execution_count": 3,
   "metadata": {
    "colab": {
     "base_uri": "https://localhost:8080/"
    },
    "id": "wloQxYMXL-0m",
    "outputId": "272451fe-b15d-4643-e9ff-efcb352cdcbc"
   },
   "outputs": [
    {
     "data": {
      "text/plain": [
       "tensor(-2.4596)"
      ]
     },
     "execution_count": 3,
     "metadata": {},
     "output_type": "execute_result"
    }
   ],
   "source": [
    "sample = normal.sample()\n",
    "sample"
   ]
  },
  {
   "cell_type": "code",
   "execution_count": 4,
   "metadata": {
    "colab": {
     "base_uri": "https://localhost:8080/"
    },
    "id": "2h2iOp-qL-0o",
    "outputId": "8eaffb2b-1e5f-4a15-c388-b3100c75c89c"
   },
   "outputs": [
    {
     "data": {
      "text/plain": [
       "tensor([[ 2.5510, -1.5411,  0.0727,  0.4514],\n",
       "        [-0.3560, -2.5193, -0.6329, -1.0132],\n",
       "        [-0.3220, -1.6181,  0.2343,  1.7372]])"
      ]
     },
     "execution_count": 4,
     "metadata": {},
     "output_type": "execute_result"
    }
   ],
   "source": [
    "sample = normal.sample(sample_shape=[3,4])\n",
    "sample"
   ]
  },
  {
   "cell_type": "markdown",
   "metadata": {
    "id": "r-0pNd9tL-0o"
   },
   "source": [
    "<img src=\"https://github.com/PGM-Lab/probai-2021-pyro/blob/main/Day1/Figures/blue.png?raw=1\" alt=\"Drawing\" width=2000 height=20>\n",
    "\n",
    "We can query the **dimensionlity** of a tensor with the ``shape`` property\n"
   ]
  },
  {
   "cell_type": "code",
   "execution_count": 5,
   "metadata": {
    "colab": {
     "base_uri": "https://localhost:8080/"
    },
    "id": "Dk2ebGoYL-0p",
    "outputId": "d553bd14-40e5-436a-d069-71cbff41d935"
   },
   "outputs": [
    {
     "data": {
      "text/plain": [
       "torch.Size([3, 4, 5])"
      ]
     },
     "execution_count": 5,
     "metadata": {},
     "output_type": "execute_result"
    }
   ],
   "source": [
    "sample = normal.sample(sample_shape=[3,4,5])\n",
    "sample.shape"
   ]
  },
  {
   "cell_type": "markdown",
   "metadata": {
    "id": "DsVjombqL-0p"
   },
   "source": [
    "\n",
    "<img src=\"https://github.com/PGM-Lab/probai-2021-pyro/blob/main/Day1/Figures/blue.png?raw=1\" alt=\"Drawing\" width=2000 height=20>\n",
    "\n",
    "\n",
    "Operations, like **log-likelihood**, are defined over tensors."
   ]
  },
  {
   "cell_type": "code",
   "execution_count": 6,
   "metadata": {
    "colab": {
     "base_uri": "https://localhost:8080/"
    },
    "id": "06G293JdL-0p",
    "outputId": "0df20f93-17dc-4f9a-eb0e-7ace95dbb896"
   },
   "outputs": [
    {
     "data": {
      "text/plain": [
       "tensor([[[-1.3058, -0.9351, -1.0899, -0.9190, -0.9811],\n",
       "         [-2.4796, -0.9194, -0.9730, -1.3898, -0.9354],\n",
       "         [-1.0055, -1.4160, -0.9666, -2.1478, -1.0457],\n",
       "         [-1.6654, -0.9407, -1.7386, -1.1592, -0.9887]],\n",
       "\n",
       "        [[-1.1514, -1.1708, -1.0890, -1.2583, -0.9509],\n",
       "         [-1.0287, -1.0963, -0.9223, -1.2890, -1.6190],\n",
       "         [-0.9504, -1.0881, -1.1281, -0.9286, -0.9367],\n",
       "         [-0.9218, -0.9385, -1.8344, -1.2019, -0.9272]],\n",
       "\n",
       "        [[-1.1462, -1.2478, -0.9631, -0.9205, -0.9205],\n",
       "         [-0.9227, -0.9231, -1.1193, -1.3127, -1.0235],\n",
       "         [-1.0601, -1.5017, -2.6431, -0.9617, -0.9924],\n",
       "         [-0.9913, -1.2000, -1.6640, -0.9800, -1.3956]]])"
      ]
     },
     "execution_count": 6,
     "metadata": {},
     "output_type": "execute_result"
    }
   ],
   "source": [
    "normal.log_prob(sample)"
   ]
  },
  {
   "cell_type": "code",
   "execution_count": 13,
   "metadata": {
    "colab": {
     "base_uri": "https://localhost:8080/"
    },
    "id": "R3v2rpRAL-0q",
    "outputId": "0eb47a0c-2d77-4a1b-c497-f7c7fa8cc8fd"
   },
   "outputs": [
    {
     "data": {
      "text/plain": [
       "tensor(-80.3079)"
      ]
     },
     "execution_count": 13,
     "metadata": {},
     "output_type": "execute_result"
    }
   ],
   "source": [
    "torch.sum(normal.log_prob(sample))"
   ]
  },
  {
   "cell_type": "markdown",
   "metadata": {
    "id": "zErtSTzYL-0q"
   },
   "source": [
    "<img src=\"https://github.com/PGM-Lab/probai-2021-pyro/blob/main/Day1/Figures/blue.png?raw=1\" alt=\"Drawing\" width=2000 height=20>\n",
    "\n",
    "Multiple distributions can be embedded in single object. Below we define three Normal distributions with different means but the same scale in a single object."
   ]
  },
  {
   "cell_type": "code",
   "execution_count": 7,
   "metadata": {
    "colab": {
     "base_uri": "https://localhost:8080/"
    },
    "id": "VEcgGuTqL-0q",
    "outputId": "87ab00ff-0912-43b2-b436-d0a41623ff0c"
   },
   "outputs": [
    {
     "data": {
      "text/plain": [
       "Normal(loc: torch.Size([3]), scale: torch.Size([3]))"
      ]
     },
     "execution_count": 7,
     "metadata": {},
     "output_type": "execute_result"
    }
   ],
   "source": [
    "normal = dist.Normal(torch.tensor([1.,2.,3.]),1.)\n",
    "normal"
   ]
  },
  {
   "cell_type": "code",
   "execution_count": 8,
   "metadata": {
    "colab": {
     "base_uri": "https://localhost:8080/"
    },
    "id": "1cRRDgTbL-0r",
    "outputId": "c3cb91db-4df7-4c31-c7af-cbefa0c00fa6"
   },
   "outputs": [
    {
     "data": {
      "text/plain": [
       "tensor([3.4158, 0.7327, 0.8723])"
      ]
     },
     "execution_count": 8,
     "metadata": {},
     "output_type": "execute_result"
    }
   ],
   "source": [
    "normal.sample()"
   ]
  },
  {
   "cell_type": "code",
   "execution_count": 9,
   "metadata": {
    "colab": {
     "base_uri": "https://localhost:8080/"
    },
    "id": "hji5mTnhL-0r",
    "outputId": "81f829da-251b-451c-8ada-231c504ed564"
   },
   "outputs": [
    {
     "data": {
      "text/plain": [
       "tensor([-1.3500, -1.0968, -0.9569])"
      ]
     },
     "execution_count": 9,
     "metadata": {},
     "output_type": "execute_result"
    }
   ],
   "source": [
    "normal.log_prob(normal.sample())"
   ]
  },
  {
   "cell_type": "markdown",
   "metadata": {},
   "source": [
    "<img src=\"https://github.com/PGM-Lab/probai-2021-pyro/blob/main/Day1/Figures/blue.png?raw=1\" alt=\"Drawing\" width=2000 height=20>\n",
    "\n",
    "### **<span style=\"color:red\">Exercise: Open the notebook and play around</span>**\n",
    "\n",
    "* Test that everything works.\n",
    "* Play a bit with the code in Section 1 of the notebook."
   ]
  },
  {
   "cell_type": "markdown",
   "metadata": {
    "id": "drChKHsWJ--U"
   },
   "source": [
    "<img src=\"https://github.com/PGM-Lab/probai-2021-pyro/blob/main/Day1/Figures/blue.png?raw=1\" alt=\"Drawing\" width=2000 height=20>"
   ]
  },
  {
   "cell_type": "markdown",
   "metadata": {
    "id": "WV-iBl4xL-0r"
   },
   "source": [
    "# 2. **Pyro’s models**:\n",
    "\n",
    "---\n",
    "* In Pyro, a probabilistic model is defined as a **stochastic function** (i.e. every time it is run, it returns a new sample).\n",
    "\n",
    "* Each random variable is associated with a **primitive stochastic function** using the construct ``pyro.sample(...)``.\n",
    "---\n",
    "\n",
    "\n",
    "### 2.1 A Temperature Model\n",
    "\n",
    "\n",
    "\n",
    "As initial running example, we consider the problem of **modelling the temperature**. We first start with a simple model where temperture is modeled using a random Normal variable."
   ]
  },
  {
   "cell_type": "code",
   "execution_count": 12,
   "metadata": {
    "colab": {
     "base_uri": "https://localhost:8080/"
    },
    "id": "kcU2EmBYL-0s",
    "outputId": "85b746ff-d42c-4f76-bb0b-36e20459ded8"
   },
   "outputs": [
    {
     "name": "stdout",
     "output_type": "stream",
     "text": [
      "tensor(13.9400)\n",
      "tensor(16.0797)\n"
     ]
    }
   ],
   "source": [
    "def model():\n",
    "    temp = pyro.sample('temp', dist.Normal(15.0, 2.0))\n",
    "    return temp\n",
    "\n",
    "print(model())\n",
    "print(model())"
   ]
  },
  {
   "cell_type": "markdown",
   "metadata": {
    "id": "N0pVeOVpL-0s"
   },
   "source": [
    "See how the model is a stochastic function which **returns a different value everytime it is invoked**. \n",
    "\n",
    "<img src=\"https://github.com/PGM-Lab/probai-2021-pyro/blob/main/Day1/Figures/blue.png?raw=1\" alt=\"Drawing\" width=2000 height=20>\n"
   ]
  },
  {
   "cell_type": "markdown",
   "metadata": {
    "id": "Z0biYXEVL-0s"
   },
   "source": [
    "### 2.2 A Temperature-Sensor Model"
   ]
  },
  {
   "cell_type": "markdown",
   "metadata": {
    "id": "Jp6wefVaLCnx"
   },
   "source": [
    "In Pyro, a stochastic method is defined as a composition of primitive stochastic functions.\n",
    "\n",
    "*The temperature Model:* \n",
    "\n",
    "We consider the relation between the temperature and a sensor. \n",
    "  * The temperature sensor gives **noisy observations** about the real temperature.\n",
    "  * The **error** of the sensor's measurements **is known**.\n",
    "  * A graphical representation of this model:\n",
    "\n",
    "<center>\n",
    "<img src=\"https://github.com/PGM-Lab/probai-2021-pyro/blob/main/Day1/Figures/PGM-Tem-Sensor.png?raw=1\" alt=\"Drawing\" width=\"150\">\n",
    "</center>\n"
   ]
  },
  {
   "cell_type": "code",
   "execution_count": 13,
   "metadata": {
    "colab": {
     "base_uri": "https://localhost:8080/"
    },
    "id": "VpxheEx-L-0t",
    "outputId": "5b1a9091-5f3c-46e7-dfc6-5dbae839d9ea"
   },
   "outputs": [
    {
     "data": {
      "text/plain": [
       "(tensor(13.1425), tensor(13.2342))"
      ]
     },
     "execution_count": 13,
     "metadata": {},
     "output_type": "execute_result"
    }
   ],
   "source": [
    "def model():\n",
    "    temp = pyro.sample('temp', dist.Normal(15.0, 2.0))\n",
    "    sensor = pyro.sample('sensor', dist.Normal(temp, 1.0))\n",
    "    return (temp, sensor)\n",
    "\n",
    "out1 = model()\n",
    "out1"
   ]
  },
  {
   "cell_type": "markdown",
   "metadata": {
    "id": "XSXTeNtqL-0t"
   },
   "source": [
    "The above method defines a joint probability distribution:\n",
    "$$p(sensor, temp) = p(sensor|temp)p(temp)$$\n",
    "\n",
    "\n",
    "In this case, we have a simple dependency between the variables. But, as we are in a PPL, dependencies can be expressed in terms of complex deterministic functions (more examples later).\n",
    "<img src=\"https://github.com/PGM-Lab/probai-2021-pyro/blob/main/Day1/Figures/blue.png?raw=1\" alt=\"Drawing\" width=2000 height=20>\n"
   ]
  },
  {
   "cell_type": "code",
   "execution_count": 14,
   "metadata": {},
   "outputs": [
    {
     "data": {
      "image/svg+xml": [
       "<?xml version=\"1.0\" encoding=\"UTF-8\" standalone=\"no\"?>\n",
       "<!DOCTYPE svg PUBLIC \"-//W3C//DTD SVG 1.1//EN\"\n",
       " \"http://www.w3.org/Graphics/SVG/1.1/DTD/svg11.dtd\">\n",
       "<!-- Generated by graphviz version 9.0.0 (20230911.1827)\n",
       " -->\n",
       "<!-- Pages: 1 -->\n",
       "<svg width=\"77pt\" height=\"116pt\"\n",
       " viewBox=\"0.00 0.00 76.92 116.00\" xmlns=\"http://www.w3.org/2000/svg\" xmlns:xlink=\"http://www.w3.org/1999/xlink\">\n",
       "<g id=\"graph0\" class=\"graph\" transform=\"scale(1 1) rotate(0) translate(4 112)\">\n",
       "<polygon fill=\"white\" stroke=\"none\" points=\"-4,4 -4,-112 72.92,-112 72.92,4 -4,4\"/>\n",
       "<!-- temp -->\n",
       "<g id=\"node1\" class=\"node\">\n",
       "<title>temp</title>\n",
       "<ellipse fill=\"white\" stroke=\"black\" cx=\"34.46\" cy=\"-90\" rx=\"29.86\" ry=\"18\"/>\n",
       "<text text-anchor=\"middle\" x=\"34.46\" y=\"-84.95\" font-family=\"Times,serif\" font-size=\"14.00\">temp</text>\n",
       "</g>\n",
       "<!-- sensor -->\n",
       "<g id=\"node2\" class=\"node\">\n",
       "<title>sensor</title>\n",
       "<ellipse fill=\"white\" stroke=\"black\" cx=\"34.46\" cy=\"-18\" rx=\"34.46\" ry=\"18\"/>\n",
       "<text text-anchor=\"middle\" x=\"34.46\" y=\"-12.95\" font-family=\"Times,serif\" font-size=\"14.00\">sensor</text>\n",
       "</g>\n",
       "<!-- temp&#45;&gt;sensor -->\n",
       "<g id=\"edge1\" class=\"edge\">\n",
       "<title>temp&#45;&gt;sensor</title>\n",
       "<path fill=\"none\" stroke=\"black\" d=\"M34.46,-71.7C34.46,-64.41 34.46,-55.73 34.46,-47.54\"/>\n",
       "<polygon fill=\"black\" stroke=\"black\" points=\"37.96,-47.62 34.46,-37.62 30.96,-47.62 37.96,-47.62\"/>\n",
       "</g>\n",
       "</g>\n",
       "</svg>\n"
      ],
      "text/plain": [
       "<graphviz.graphs.Digraph at 0x1313d7450>"
      ]
     },
     "execution_count": 14,
     "metadata": {},
     "output_type": "execute_result"
    }
   ],
   "source": [
    "#Visualize the model\n",
    "pyro.render_model(model)"
   ]
  },
  {
   "cell_type": "markdown",
   "metadata": {
    "id": "CCayVyTsL-0t"
   },
   "source": [
    "# 3. **Pyro’s inference** :"
   ]
  },
  {
   "cell_type": "markdown",
   "metadata": {
    "id": "QyC3v0cyL-0u"
   },
   "source": [
    "### Auxiliary inference functions\n",
    "\n",
    "To make inference on Pyro, we will use a variational inference method, which performs gradient-based optimization to solve the inference problem. More details on variational inference will follow in the next lecture. "
   ]
  },
  {
   "cell_type": "code",
   "execution_count": 17,
   "metadata": {
    "id": "arZOTC7gL-0u",
    "tags": []
   },
   "outputs": [],
   "source": [
    "from torch.distributions import constraints\n",
    "from pyro.optim import SGD\n",
    "from pyro.infer import Trace_ELBO\n",
    "import matplotlib.pyplot as plt\n",
    "from pyro.contrib.autoguide import AutoDiagonalNormal\n",
    "\n",
    "\n",
    "def svi(temperature_model, obs, guide=None, num_steps = 5000, plot = False, verbose=True):\n",
    "    pyro.clear_param_store()\n",
    "    \n",
    "    if guide is None:\n",
    "        guide = AutoDiagonalNormal(model)\n",
    "    \n",
    "    svi = pyro.infer.SVI(model=temperature_model,\n",
    "                         guide=guide,\n",
    "                         optim=SGD({\"lr\": 0.001, \"momentum\":0.1}),\n",
    "                         loss=Trace_ELBO())\n",
    "\n",
    "    losses, a,b  = [], [], []\n",
    "    \n",
    "    for t in range(num_steps):\n",
    "        losses.append(svi.step(obs))\n",
    "        if t%250==0:\n",
    "            print('Step: '+str(t)+'. Loss: ' +str(losses[-1]))\n",
    "            \n",
    "\n",
    "    if (plot):\n",
    "        plt.plot(losses)\n",
    "        plt.title(\"ELBO\")\n",
    "        plt.xlabel(\"step\")\n",
    "        plt.ylabel(\"loss\")\n",
    "        plt.show()\n",
    "        \n",
    "    if verbose:\n",
    "        print(\"Inference results:\")\n",
    "        for name, value in pyro.get_param_store().items():\n",
    "            print(name, pyro.param(name))"
   ]
  },
  {
   "cell_type": "markdown",
   "metadata": {
    "id": "ovLJGQtcPlBt"
   },
   "source": [
    "A few notes on guides:\n",
    "* To make inference in Pyro over a given model we need to define a *guide*, this *guide* has the same signature as its counterpart model. \n",
    "\n",
    "* The guide must provide samples for those variables of the model which are not observed. Again the ``pyro.sample`` construct. \n",
    "\n",
    "* Guides are also parametrized using Pyro's parameters (``pyro.param``), so the variational inference algorithm will optimize these parameters. \n",
    "\n",
    "* All of this will be explained in detail during the next lecture."
   ]
  },
  {
   "cell_type": "markdown",
   "metadata": {
    "id": "mkkHJOFBL-0u"
   },
   "source": [
    "<img src=\"https://github.com/PGM-Lab/probai-2021-pyro/blob/main/Day1/Figures/blue.png?raw=1\" alt=\"Drawing\" width=2000 height=20>\n",
    "\n",
    "### 3.1  Conditioning on a single observation\n",
    "\n",
    "Now, we continue with the last model defined in section 2.2, and assume we have a sensor reading and we want to compute the posterior distribution over the real temperature. \n",
    "<center>\n",
    "<img src=\"https://github.com/PGM-Lab/probai-2021-pyro/blob/main/Day1/Figures/PGM-Tem-Sensor.png?raw=1\" alt=\"Drawing\" width=\"150\">\n",
    "</center>\n",
    "\n",
    "This can be achived by introducing **observations in the random variable** with the keyword ``obs=``."
   ]
  },
  {
   "cell_type": "code",
   "execution_count": 18,
   "metadata": {
    "id": "TSzNRm7wL-0v"
   },
   "outputs": [],
   "source": [
    "#The observatons   \n",
    "obs = {'sensor': torch.tensor(18.0)}\n",
    "\n",
    "def model(obs):\n",
    "    temp = pyro.sample('temp', dist.Normal(15.0, 2.0))\n",
    "    sensor = pyro.sample('sensor', dist.Normal(temp, 1.0), obs=obs['sensor'])"
   ]
  },
  {
   "cell_type": "code",
   "execution_count": 19,
   "metadata": {},
   "outputs": [
    {
     "data": {
      "image/svg+xml": [
       "<?xml version=\"1.0\" encoding=\"UTF-8\" standalone=\"no\"?>\n",
       "<!DOCTYPE svg PUBLIC \"-//W3C//DTD SVG 1.1//EN\"\n",
       " \"http://www.w3.org/Graphics/SVG/1.1/DTD/svg11.dtd\">\n",
       "<!-- Generated by graphviz version 9.0.0 (20230911.1827)\n",
       " -->\n",
       "<!-- Pages: 1 -->\n",
       "<svg width=\"77pt\" height=\"116pt\"\n",
       " viewBox=\"0.00 0.00 76.92 116.00\" xmlns=\"http://www.w3.org/2000/svg\" xmlns:xlink=\"http://www.w3.org/1999/xlink\">\n",
       "<g id=\"graph0\" class=\"graph\" transform=\"scale(1 1) rotate(0) translate(4 112)\">\n",
       "<polygon fill=\"white\" stroke=\"none\" points=\"-4,4 -4,-112 72.92,-112 72.92,4 -4,4\"/>\n",
       "<!-- temp -->\n",
       "<g id=\"node1\" class=\"node\">\n",
       "<title>temp</title>\n",
       "<ellipse fill=\"white\" stroke=\"black\" cx=\"34.46\" cy=\"-90\" rx=\"29.86\" ry=\"18\"/>\n",
       "<text text-anchor=\"middle\" x=\"34.46\" y=\"-84.95\" font-family=\"Times,serif\" font-size=\"14.00\">temp</text>\n",
       "</g>\n",
       "<!-- sensor -->\n",
       "<g id=\"node2\" class=\"node\">\n",
       "<title>sensor</title>\n",
       "<ellipse fill=\"gray\" stroke=\"black\" cx=\"34.46\" cy=\"-18\" rx=\"34.46\" ry=\"18\"/>\n",
       "<text text-anchor=\"middle\" x=\"34.46\" y=\"-12.95\" font-family=\"Times,serif\" font-size=\"14.00\">sensor</text>\n",
       "</g>\n",
       "<!-- temp&#45;&gt;sensor -->\n",
       "<g id=\"edge1\" class=\"edge\">\n",
       "<title>temp&#45;&gt;sensor</title>\n",
       "<path fill=\"none\" stroke=\"black\" d=\"M34.46,-71.7C34.46,-64.41 34.46,-55.73 34.46,-47.54\"/>\n",
       "<polygon fill=\"black\" stroke=\"black\" points=\"37.96,-47.62 34.46,-37.62 30.96,-47.62 37.96,-47.62\"/>\n",
       "</g>\n",
       "</g>\n",
       "</svg>\n"
      ],
      "text/plain": [
       "<graphviz.graphs.Digraph at 0x156f6acd0>"
      ]
     },
     "execution_count": 19,
     "metadata": {},
     "output_type": "execute_result"
    }
   ],
   "source": [
    "#Visualize the model\n",
    "pyro.render_model(model, model_args=(obs, ))"
   ]
  },
  {
   "cell_type": "markdown",
   "metadata": {
    "id": "nH3PgF4wL-0w"
   },
   "source": [
    "<img src=\"https://github.com/PGM-Lab/probai-2021-pyro/blob/main/Day1/Figures/blue.png?raw=1\" alt=\"Drawing\" width=2000 height=20>\n",
    "\n",
    "\n",
    "Inference is made using the previously defined auxiliary functions, ``svi`` and ``guide``. \n",
    "\n",
    "We can query the **posterior probability distribution**: \n",
    "\n",
    "\n",
    "$$p(temp | sensor=18)=\\frac{p(sensor=18|temp)p(temp)}{\\int p(sensor=18|temp)p(temp) dtemp}$$"
   ]
  },
  {
   "cell_type": "code",
   "execution_count": 20,
   "metadata": {
    "colab": {
     "base_uri": "https://localhost:8080/",
     "height": 717
    },
    "id": "VObMyZQ_L-0w",
    "outputId": "364de9bd-0057-4a6e-86fe-5581363bfb96"
   },
   "outputs": [
    {
     "name": "stdout",
     "output_type": "stream",
     "text": [
      "Step: 0. Loss: 8.943796038627625\n",
      "Step: 250. Loss: 6.719122529029846\n",
      "Step: 500. Loss: 5.090908646583557\n",
      "Step: 750. Loss: 3.384561061859131\n",
      "Step: 1000. Loss: 3.4699740409851074\n",
      "Step: 1250. Loss: 2.167904853820801\n",
      "Step: 1500. Loss: 2.41851806640625\n",
      "Step: 1750. Loss: 2.7560864090919495\n",
      "Step: 2000. Loss: 3.1933239698410034\n",
      "Step: 2250. Loss: 3.1232712268829346\n",
      "Step: 2500. Loss: 2.7252954840660095\n",
      "Step: 2750. Loss: 1.9111344814300537\n",
      "Step: 3000. Loss: 2.608238697052002\n",
      "Step: 3250. Loss: 2.8043614625930786\n",
      "Step: 3500. Loss: 2.745778262615204\n",
      "Step: 3750. Loss: 2.679767370223999\n",
      "Step: 4000. Loss: 2.6847310662269592\n",
      "Step: 4250. Loss: 2.713675856590271\n",
      "Step: 4500. Loss: 2.6837562322616577\n",
      "Step: 4750. Loss: 2.5881052017211914\n"
     ]
    },
    {
     "data": {
      "image/png": "[encoded data removed]",
      "text/plain": [
       "<Figure size 640x480 with 1 Axes>"
      ]
     },
     "metadata": {},
     "output_type": "display_data"
    },
    {
     "name": "stdout",
     "output_type": "stream",
     "text": [
      "Inference results:\n",
      "AutoDiagonalNormal.loc Parameter containing:\n",
      "tensor([17.4197], requires_grad=True)\n",
      "AutoDiagonalNormal.scale tensor([0.8727], grad_fn=<SoftplusBackward0>)\n",
      "P(Temperature|Sensor=18.0) = \n",
      "Normal(loc: 17.419736862182617, scale: 0.8726550340652466)\n",
      "\n"
     ]
    }
   ],
   "source": [
    "#Run inference\n",
    "svi(model,obs, plot=True)\n",
    "\n",
    "#Print results\n",
    "print(\"P(Temperature|Sensor=18.0) = \")\n",
    "print(dist.Normal(pyro.param(\"AutoDiagonalNormal.loc\").item(), pyro.param(\"AutoDiagonalNormal.scale\").item()))\n",
    "print(\"\")"
   ]
  },
  {
   "cell_type": "markdown",
   "metadata": {
    "id": "WAbW6UoTL-0x"
   },
   "source": [
    "### 3.2  Learning from a bunch of observations\n",
    "\n",
    "Let us assume we have a **set of observations** about the temperature at different time steps. \n",
    "\n",
    "* Following a probabilistic modelling approach, we define a **set of random variables**.\n",
    "\n",
    "* One random variable for each **observation**, using a standard ``for-loop``.\n"
   ]
  },
  {
   "cell_type": "code",
   "execution_count": 21,
   "metadata": {
    "id": "w2bPy-D4L-0x"
   },
   "outputs": [],
   "source": [
    "#The observatons   \n",
    "obs = {'sensor': torch.tensor([18., 18.7, 19.2, 17.8, 20.3, 22.4, 20.3, 21.2, 19.5, 20.1])}\n",
    "\n",
    "def model(obs):\n",
    "    for i in range(obs['sensor'].shape[0]):\n",
    "        temp = pyro.sample(f'temp_{i}', dist.Normal(15.0, 2.0))\n",
    "        sensor = pyro.sample(f'sensor_{i}', dist.Normal(temp, 1.0), obs=obs['sensor'][i])"
   ]
  },
  {
   "cell_type": "code",
   "execution_count": 22,
   "metadata": {},
   "outputs": [
    {
     "data": {
      "image/svg+xml": [
       "<?xml version=\"1.0\" encoding=\"UTF-8\" standalone=\"no\"?>\n",
       "<!DOCTYPE svg PUBLIC \"-//W3C//DTD SVG 1.1//EN\"\n",
       " \"http://www.w3.org/Graphics/SVG/1.1/DTD/svg11.dtd\">\n",
       "<!-- Generated by graphviz version 9.0.0 (20230911.1827)\n",
       " -->\n",
       "<!-- Pages: 1 -->\n",
       "<svg width=\"1040pt\" height=\"116pt\"\n",
       " viewBox=\"0.00 0.00 1040.35 116.00\" xmlns=\"http://www.w3.org/2000/svg\" xmlns:xlink=\"http://www.w3.org/1999/xlink\">\n",
       "<g id=\"graph0\" class=\"graph\" transform=\"scale(1 1) rotate(0) translate(4 112)\">\n",
       "<polygon fill=\"white\" stroke=\"none\" points=\"-4,4 -4,-112 1036.35,-112 1036.35,4 -4,4\"/>\n",
       "<!-- temp_0 -->\n",
       "<g id=\"node1\" class=\"node\">\n",
       "<title>temp_0</title>\n",
       "<ellipse fill=\"white\" stroke=\"black\" cx=\"43.67\" cy=\"-90\" rx=\"39.07\" ry=\"18\"/>\n",
       "<text text-anchor=\"middle\" x=\"43.67\" y=\"-84.95\" font-family=\"Times,serif\" font-size=\"14.00\">temp_0</text>\n",
       "</g>\n",
       "<!-- sensor_0 -->\n",
       "<g id=\"node2\" class=\"node\">\n",
       "<title>sensor_0</title>\n",
       "<ellipse fill=\"gray\" stroke=\"black\" cx=\"43.67\" cy=\"-18\" rx=\"43.67\" ry=\"18\"/>\n",
       "<text text-anchor=\"middle\" x=\"43.67\" y=\"-12.95\" font-family=\"Times,serif\" font-size=\"14.00\">sensor_0</text>\n",
       "</g>\n",
       "<!-- temp_0&#45;&gt;sensor_0 -->\n",
       "<g id=\"edge1\" class=\"edge\">\n",
       "<title>temp_0&#45;&gt;sensor_0</title>\n",
       "<path fill=\"none\" stroke=\"black\" d=\"M43.67,-71.7C43.67,-64.41 43.67,-55.73 43.67,-47.54\"/>\n",
       "<polygon fill=\"black\" stroke=\"black\" points=\"47.17,-47.62 43.67,-37.62 40.17,-47.62 47.17,-47.62\"/>\n",
       "</g>\n",
       "<!-- temp_1 -->\n",
       "<g id=\"node3\" class=\"node\">\n",
       "<title>temp_1</title>\n",
       "<ellipse fill=\"white\" stroke=\"black\" cx=\"148.67\" cy=\"-90\" rx=\"39.07\" ry=\"18\"/>\n",
       "<text text-anchor=\"middle\" x=\"148.67\" y=\"-84.95\" font-family=\"Times,serif\" font-size=\"14.00\">temp_1</text>\n",
       "</g>\n",
       "<!-- sensor_1 -->\n",
       "<g id=\"node4\" class=\"node\">\n",
       "<title>sensor_1</title>\n",
       "<ellipse fill=\"gray\" stroke=\"black\" cx=\"148.67\" cy=\"-18\" rx=\"43.67\" ry=\"18\"/>\n",
       "<text text-anchor=\"middle\" x=\"148.67\" y=\"-12.95\" font-family=\"Times,serif\" font-size=\"14.00\">sensor_1</text>\n",
       "</g>\n",
       "<!-- temp_1&#45;&gt;sensor_1 -->\n",
       "<g id=\"edge2\" class=\"edge\">\n",
       "<title>temp_1&#45;&gt;sensor_1</title>\n",
       "<path fill=\"none\" stroke=\"black\" d=\"M148.67,-71.7C148.67,-64.41 148.67,-55.73 148.67,-47.54\"/>\n",
       "<polygon fill=\"black\" stroke=\"black\" points=\"152.17,-47.62 148.67,-37.62 145.17,-47.62 152.17,-47.62\"/>\n",
       "</g>\n",
       "<!-- temp_2 -->\n",
       "<g id=\"node5\" class=\"node\">\n",
       "<title>temp_2</title>\n",
       "<ellipse fill=\"white\" stroke=\"black\" cx=\"253.67\" cy=\"-90\" rx=\"39.07\" ry=\"18\"/>\n",
       "<text text-anchor=\"middle\" x=\"253.67\" y=\"-84.95\" font-family=\"Times,serif\" font-size=\"14.00\">temp_2</text>\n",
       "</g>\n",
       "<!-- sensor_2 -->\n",
       "<g id=\"node6\" class=\"node\">\n",
       "<title>sensor_2</title>\n",
       "<ellipse fill=\"gray\" stroke=\"black\" cx=\"253.67\" cy=\"-18\" rx=\"43.67\" ry=\"18\"/>\n",
       "<text text-anchor=\"middle\" x=\"253.67\" y=\"-12.95\" font-family=\"Times,serif\" font-size=\"14.00\">sensor_2</text>\n",
       "</g>\n",
       "<!-- temp_2&#45;&gt;sensor_2 -->\n",
       "<g id=\"edge3\" class=\"edge\">\n",
       "<title>temp_2&#45;&gt;sensor_2</title>\n",
       "<path fill=\"none\" stroke=\"black\" d=\"M253.67,-71.7C253.67,-64.41 253.67,-55.73 253.67,-47.54\"/>\n",
       "<polygon fill=\"black\" stroke=\"black\" points=\"257.17,-47.62 253.67,-37.62 250.17,-47.62 257.17,-47.62\"/>\n",
       "</g>\n",
       "<!-- temp_3 -->\n",
       "<g id=\"node7\" class=\"node\">\n",
       "<title>temp_3</title>\n",
       "<ellipse fill=\"white\" stroke=\"black\" cx=\"358.67\" cy=\"-90\" rx=\"39.07\" ry=\"18\"/>\n",
       "<text text-anchor=\"middle\" x=\"358.67\" y=\"-84.95\" font-family=\"Times,serif\" font-size=\"14.00\">temp_3</text>\n",
       "</g>\n",
       "<!-- sensor_3 -->\n",
       "<g id=\"node8\" class=\"node\">\n",
       "<title>sensor_3</title>\n",
       "<ellipse fill=\"gray\" stroke=\"black\" cx=\"358.67\" cy=\"-18\" rx=\"43.67\" ry=\"18\"/>\n",
       "<text text-anchor=\"middle\" x=\"358.67\" y=\"-12.95\" font-family=\"Times,serif\" font-size=\"14.00\">sensor_3</text>\n",
       "</g>\n",
       "<!-- temp_3&#45;&gt;sensor_3 -->\n",
       "<g id=\"edge4\" class=\"edge\">\n",
       "<title>temp_3&#45;&gt;sensor_3</title>\n",
       "<path fill=\"none\" stroke=\"black\" d=\"M358.67,-71.7C358.67,-64.41 358.67,-55.73 358.67,-47.54\"/>\n",
       "<polygon fill=\"black\" stroke=\"black\" points=\"362.17,-47.62 358.67,-37.62 355.17,-47.62 362.17,-47.62\"/>\n",
       "</g>\n",
       "<!-- temp_4 -->\n",
       "<g id=\"node9\" class=\"node\">\n",
       "<title>temp_4</title>\n",
       "<ellipse fill=\"white\" stroke=\"black\" cx=\"463.67\" cy=\"-90\" rx=\"39.07\" ry=\"18\"/>\n",
       "<text text-anchor=\"middle\" x=\"463.67\" y=\"-84.95\" font-family=\"Times,serif\" font-size=\"14.00\">temp_4</text>\n",
       "</g>\n",
       "<!-- sensor_4 -->\n",
       "<g id=\"node10\" class=\"node\">\n",
       "<title>sensor_4</title>\n",
       "<ellipse fill=\"gray\" stroke=\"black\" cx=\"463.67\" cy=\"-18\" rx=\"43.67\" ry=\"18\"/>\n",
       "<text text-anchor=\"middle\" x=\"463.67\" y=\"-12.95\" font-family=\"Times,serif\" font-size=\"14.00\">sensor_4</text>\n",
       "</g>\n",
       "<!-- temp_4&#45;&gt;sensor_4 -->\n",
       "<g id=\"edge5\" class=\"edge\">\n",
       "<title>temp_4&#45;&gt;sensor_4</title>\n",
       "<path fill=\"none\" stroke=\"black\" d=\"M463.67,-71.7C463.67,-64.41 463.67,-55.73 463.67,-47.54\"/>\n",
       "<polygon fill=\"black\" stroke=\"black\" points=\"467.17,-47.62 463.67,-37.62 460.17,-47.62 467.17,-47.62\"/>\n",
       "</g>\n",
       "<!-- temp_5 -->\n",
       "<g id=\"node11\" class=\"node\">\n",
       "<title>temp_5</title>\n",
       "<ellipse fill=\"white\" stroke=\"black\" cx=\"568.67\" cy=\"-90\" rx=\"39.07\" ry=\"18\"/>\n",
       "<text text-anchor=\"middle\" x=\"568.67\" y=\"-84.95\" font-family=\"Times,serif\" font-size=\"14.00\">temp_5</text>\n",
       "</g>\n",
       "<!-- sensor_5 -->\n",
       "<g id=\"node12\" class=\"node\">\n",
       "<title>sensor_5</title>\n",
       "<ellipse fill=\"gray\" stroke=\"black\" cx=\"568.67\" cy=\"-18\" rx=\"43.67\" ry=\"18\"/>\n",
       "<text text-anchor=\"middle\" x=\"568.67\" y=\"-12.95\" font-family=\"Times,serif\" font-size=\"14.00\">sensor_5</text>\n",
       "</g>\n",
       "<!-- temp_5&#45;&gt;sensor_5 -->\n",
       "<g id=\"edge6\" class=\"edge\">\n",
       "<title>temp_5&#45;&gt;sensor_5</title>\n",
       "<path fill=\"none\" stroke=\"black\" d=\"M568.67,-71.7C568.67,-64.41 568.67,-55.73 568.67,-47.54\"/>\n",
       "<polygon fill=\"black\" stroke=\"black\" points=\"572.17,-47.62 568.67,-37.62 565.17,-47.62 572.17,-47.62\"/>\n",
       "</g>\n",
       "<!-- temp_6 -->\n",
       "<g id=\"node13\" class=\"node\">\n",
       "<title>temp_6</title>\n",
       "<ellipse fill=\"white\" stroke=\"black\" cx=\"673.67\" cy=\"-90\" rx=\"39.07\" ry=\"18\"/>\n",
       "<text text-anchor=\"middle\" x=\"673.67\" y=\"-84.95\" font-family=\"Times,serif\" font-size=\"14.00\">temp_6</text>\n",
       "</g>\n",
       "<!-- sensor_6 -->\n",
       "<g id=\"node14\" class=\"node\">\n",
       "<title>sensor_6</title>\n",
       "<ellipse fill=\"gray\" stroke=\"black\" cx=\"673.67\" cy=\"-18\" rx=\"43.67\" ry=\"18\"/>\n",
       "<text text-anchor=\"middle\" x=\"673.67\" y=\"-12.95\" font-family=\"Times,serif\" font-size=\"14.00\">sensor_6</text>\n",
       "</g>\n",
       "<!-- temp_6&#45;&gt;sensor_6 -->\n",
       "<g id=\"edge7\" class=\"edge\">\n",
       "<title>temp_6&#45;&gt;sensor_6</title>\n",
       "<path fill=\"none\" stroke=\"black\" d=\"M673.67,-71.7C673.67,-64.41 673.67,-55.73 673.67,-47.54\"/>\n",
       "<polygon fill=\"black\" stroke=\"black\" points=\"677.17,-47.62 673.67,-37.62 670.17,-47.62 677.17,-47.62\"/>\n",
       "</g>\n",
       "<!-- temp_7 -->\n",
       "<g id=\"node15\" class=\"node\">\n",
       "<title>temp_7</title>\n",
       "<ellipse fill=\"white\" stroke=\"black\" cx=\"778.67\" cy=\"-90\" rx=\"39.07\" ry=\"18\"/>\n",
       "<text text-anchor=\"middle\" x=\"778.67\" y=\"-84.95\" font-family=\"Times,serif\" font-size=\"14.00\">temp_7</text>\n",
       "</g>\n",
       "<!-- sensor_7 -->\n",
       "<g id=\"node16\" class=\"node\">\n",
       "<title>sensor_7</title>\n",
       "<ellipse fill=\"gray\" stroke=\"black\" cx=\"778.67\" cy=\"-18\" rx=\"43.67\" ry=\"18\"/>\n",
       "<text text-anchor=\"middle\" x=\"778.67\" y=\"-12.95\" font-family=\"Times,serif\" font-size=\"14.00\">sensor_7</text>\n",
       "</g>\n",
       "<!-- temp_7&#45;&gt;sensor_7 -->\n",
       "<g id=\"edge8\" class=\"edge\">\n",
       "<title>temp_7&#45;&gt;sensor_7</title>\n",
       "<path fill=\"none\" stroke=\"black\" d=\"M778.67,-71.7C778.67,-64.41 778.67,-55.73 778.67,-47.54\"/>\n",
       "<polygon fill=\"black\" stroke=\"black\" points=\"782.17,-47.62 778.67,-37.62 775.17,-47.62 782.17,-47.62\"/>\n",
       "</g>\n",
       "<!-- temp_8 -->\n",
       "<g id=\"node17\" class=\"node\">\n",
       "<title>temp_8</title>\n",
       "<ellipse fill=\"white\" stroke=\"black\" cx=\"883.67\" cy=\"-90\" rx=\"39.07\" ry=\"18\"/>\n",
       "<text text-anchor=\"middle\" x=\"883.67\" y=\"-84.95\" font-family=\"Times,serif\" font-size=\"14.00\">temp_8</text>\n",
       "</g>\n",
       "<!-- sensor_8 -->\n",
       "<g id=\"node18\" class=\"node\">\n",
       "<title>sensor_8</title>\n",
       "<ellipse fill=\"gray\" stroke=\"black\" cx=\"883.67\" cy=\"-18\" rx=\"43.67\" ry=\"18\"/>\n",
       "<text text-anchor=\"middle\" x=\"883.67\" y=\"-12.95\" font-family=\"Times,serif\" font-size=\"14.00\">sensor_8</text>\n",
       "</g>\n",
       "<!-- temp_8&#45;&gt;sensor_8 -->\n",
       "<g id=\"edge9\" class=\"edge\">\n",
       "<title>temp_8&#45;&gt;sensor_8</title>\n",
       "<path fill=\"none\" stroke=\"black\" d=\"M883.67,-71.7C883.67,-64.41 883.67,-55.73 883.67,-47.54\"/>\n",
       "<polygon fill=\"black\" stroke=\"black\" points=\"887.17,-47.62 883.67,-37.62 880.17,-47.62 887.17,-47.62\"/>\n",
       "</g>\n",
       "<!-- temp_9 -->\n",
       "<g id=\"node19\" class=\"node\">\n",
       "<title>temp_9</title>\n",
       "<ellipse fill=\"white\" stroke=\"black\" cx=\"988.67\" cy=\"-90\" rx=\"39.07\" ry=\"18\"/>\n",
       "<text text-anchor=\"middle\" x=\"988.67\" y=\"-84.95\" font-family=\"Times,serif\" font-size=\"14.00\">temp_9</text>\n",
       "</g>\n",
       "<!-- sensor_9 -->\n",
       "<g id=\"node20\" class=\"node\">\n",
       "<title>sensor_9</title>\n",
       "<ellipse fill=\"gray\" stroke=\"black\" cx=\"988.67\" cy=\"-18\" rx=\"43.67\" ry=\"18\"/>\n",
       "<text text-anchor=\"middle\" x=\"988.67\" y=\"-12.95\" font-family=\"Times,serif\" font-size=\"14.00\">sensor_9</text>\n",
       "</g>\n",
       "<!-- temp_9&#45;&gt;sensor_9 -->\n",
       "<g id=\"edge10\" class=\"edge\">\n",
       "<title>temp_9&#45;&gt;sensor_9</title>\n",
       "<path fill=\"none\" stroke=\"black\" d=\"M988.67,-71.7C988.67,-64.41 988.67,-55.73 988.67,-47.54\"/>\n",
       "<polygon fill=\"black\" stroke=\"black\" points=\"992.17,-47.62 988.67,-37.62 985.17,-47.62 992.17,-47.62\"/>\n",
       "</g>\n",
       "</g>\n",
       "</svg>\n"
      ],
      "text/plain": [
       "<graphviz.graphs.Digraph at 0x157054e50>"
      ]
     },
     "execution_count": 22,
     "metadata": {},
     "output_type": "execute_result"
    }
   ],
   "source": [
    "#Visualize the model\n",
    "pyro.render_model(model, model_args=(obs, ))"
   ]
  },
  {
   "cell_type": "code",
   "execution_count": 23,
   "metadata": {},
   "outputs": [
    {
     "name": "stdout",
     "output_type": "stream",
     "text": [
      "Step: 0. Loss: 175.31507766246796\n",
      "Step: 250. Loss: 116.75560760498047\n",
      "Step: 500. Loss: 79.60024082660675\n",
      "Step: 750. Loss: 68.30969452857971\n",
      "Step: 1000. Loss: 59.37774693965912\n",
      "Step: 1250. Loss: 53.804972767829895\n",
      "Step: 1500. Loss: 50.922707974910736\n",
      "Step: 1750. Loss: 43.214608907699585\n"
     ]
    },
    {
     "data": {
      "image/png": "[encoded data removed]",
      "text/plain": [
       "<Figure size 640x480 with 1 Axes>"
      ]
     },
     "metadata": {},
     "output_type": "display_data"
    },
    {
     "name": "stdout",
     "output_type": "stream",
     "text": [
      "Inference results:\n",
      "AutoDiagonalNormal.loc Parameter containing:\n",
      "tensor([17.1840, 17.7680, 18.1561, 17.1407, 18.9963, 20.5232, 19.0170, 19.6077,\n",
      "        18.2966, 18.8119], requires_grad=True)\n",
      "AutoDiagonalNormal.scale tensor([0.4823, 0.4798, 0.4845, 0.4792, 0.4705, 0.4788, 0.4712, 0.4685, 0.4755,\n",
      "        0.4790], grad_fn=<SoftplusBackward0>)\n"
     ]
    }
   ],
   "source": [
    "#Run inference\n",
    "svi(model,obs, num_steps=2000, plot=True)"
   ]
  },
  {
   "cell_type": "markdown",
   "metadata": {
    "id": "fjcPTM1PL-0x"
   },
   "source": [
    "\n",
    "---\n",
    "What if we do **not know the mean temperature** (as illustrated in the graphical model below)?\n",
    "<center>\n",
    "<img src=\"https://github.com/PGM-Lab/probai-2021-pyro/blob/main/Day1/Figures/PGM-Tem_sensor4.png?raw=1\" alt=\"Drawing\" width=\"150\">\n",
    "</center>\n",
    "\n",
    "* We can **infer the parameter from the data** by, e.g., using a **maximum likelihood** approach,\n",
    "$$ \\mu_{t} = \\arg\\max_\\mu \\ln p(s_1,\\ldots,s_n|\\mu) = \\arg\\max_\\mu \\prod_i \\int_{t_i} p(s_i|t_i)p(t_i|\\mu) dt_i, $$ \n",
    "where $s_i$ and $t_i$ denote the sensor reading and the real temperature at time $i$. \n",
    "\n",
    "For now we do not consider the **underlying inference problem** We just define the model and let the **PPL's engine** do the work for us. \n",
    "* We use Pyro's parameters (defined as ``pyro.param``), which are free variables we can optimize. \n"
   ]
  },
  {
   "cell_type": "code",
   "execution_count": 24,
   "metadata": {
    "id": "yXEFGMkzL-0x"
   },
   "outputs": [],
   "source": [
    "#The observatons   \n",
    "obs = {'sensor': torch.tensor([18., 18.7, 19.2, 17.8, 20.3, 22.4, 20.3, 21.2, 19.5, 20.1])}\n",
    "\n",
    "def model(obs):\n",
    "    mean_temp = pyro.param('mean_temp', torch.tensor(15.0))\n",
    "    for i in range(obs['sensor'].shape[0]):\n",
    "        temp = pyro.sample(f'temp_{i}', dist.Normal(mean_temp, 2.0))\n",
    "        sensor = pyro.sample(f'sensor_{i}', dist.Normal(temp, 1.0), obs=obs['sensor'][i])"
   ]
  },
  {
   "cell_type": "code",
   "execution_count": 25,
   "metadata": {},
   "outputs": [
    {
     "data": {
      "image/svg+xml": [
       "<?xml version=\"1.0\" encoding=\"UTF-8\" standalone=\"no\"?>\n",
       "<!DOCTYPE svg PUBLIC \"-//W3C//DTD SVG 1.1//EN\"\n",
       " \"http://www.w3.org/Graphics/SVG/1.1/DTD/svg11.dtd\">\n",
       "<!-- Generated by graphviz version 9.0.0 (20230911.1827)\n",
       " -->\n",
       "<!-- Pages: 1 -->\n",
       "<svg width=\"1040pt\" height=\"116pt\"\n",
       " viewBox=\"0.00 0.00 1040.35 116.00\" xmlns=\"http://www.w3.org/2000/svg\" xmlns:xlink=\"http://www.w3.org/1999/xlink\">\n",
       "<g id=\"graph0\" class=\"graph\" transform=\"scale(1 1) rotate(0) translate(4 112)\">\n",
       "<polygon fill=\"white\" stroke=\"none\" points=\"-4,4 -4,-112 1036.35,-112 1036.35,4 -4,4\"/>\n",
       "<!-- temp_0 -->\n",
       "<g id=\"node1\" class=\"node\">\n",
       "<title>temp_0</title>\n",
       "<ellipse fill=\"white\" stroke=\"black\" cx=\"43.67\" cy=\"-90\" rx=\"39.07\" ry=\"18\"/>\n",
       "<text text-anchor=\"middle\" x=\"43.67\" y=\"-84.95\" font-family=\"Times,serif\" font-size=\"14.00\">temp_0</text>\n",
       "</g>\n",
       "<!-- sensor_0 -->\n",
       "<g id=\"node2\" class=\"node\">\n",
       "<title>sensor_0</title>\n",
       "<ellipse fill=\"gray\" stroke=\"black\" cx=\"43.67\" cy=\"-18\" rx=\"43.67\" ry=\"18\"/>\n",
       "<text text-anchor=\"middle\" x=\"43.67\" y=\"-12.95\" font-family=\"Times,serif\" font-size=\"14.00\">sensor_0</text>\n",
       "</g>\n",
       "<!-- temp_0&#45;&gt;sensor_0 -->\n",
       "<g id=\"edge1\" class=\"edge\">\n",
       "<title>temp_0&#45;&gt;sensor_0</title>\n",
       "<path fill=\"none\" stroke=\"black\" d=\"M43.67,-71.7C43.67,-64.41 43.67,-55.73 43.67,-47.54\"/>\n",
       "<polygon fill=\"black\" stroke=\"black\" points=\"47.17,-47.62 43.67,-37.62 40.17,-47.62 47.17,-47.62\"/>\n",
       "</g>\n",
       "<!-- temp_1 -->\n",
       "<g id=\"node3\" class=\"node\">\n",
       "<title>temp_1</title>\n",
       "<ellipse fill=\"white\" stroke=\"black\" cx=\"148.67\" cy=\"-90\" rx=\"39.07\" ry=\"18\"/>\n",
       "<text text-anchor=\"middle\" x=\"148.67\" y=\"-84.95\" font-family=\"Times,serif\" font-size=\"14.00\">temp_1</text>\n",
       "</g>\n",
       "<!-- sensor_1 -->\n",
       "<g id=\"node4\" class=\"node\">\n",
       "<title>sensor_1</title>\n",
       "<ellipse fill=\"gray\" stroke=\"black\" cx=\"148.67\" cy=\"-18\" rx=\"43.67\" ry=\"18\"/>\n",
       "<text text-anchor=\"middle\" x=\"148.67\" y=\"-12.95\" font-family=\"Times,serif\" font-size=\"14.00\">sensor_1</text>\n",
       "</g>\n",
       "<!-- temp_1&#45;&gt;sensor_1 -->\n",
       "<g id=\"edge2\" class=\"edge\">\n",
       "<title>temp_1&#45;&gt;sensor_1</title>\n",
       "<path fill=\"none\" stroke=\"black\" d=\"M148.67,-71.7C148.67,-64.41 148.67,-55.73 148.67,-47.54\"/>\n",
       "<polygon fill=\"black\" stroke=\"black\" points=\"152.17,-47.62 148.67,-37.62 145.17,-47.62 152.17,-47.62\"/>\n",
       "</g>\n",
       "<!-- temp_2 -->\n",
       "<g id=\"node5\" class=\"node\">\n",
       "<title>temp_2</title>\n",
       "<ellipse fill=\"white\" stroke=\"black\" cx=\"253.67\" cy=\"-90\" rx=\"39.07\" ry=\"18\"/>\n",
       "<text text-anchor=\"middle\" x=\"253.67\" y=\"-84.95\" font-family=\"Times,serif\" font-size=\"14.00\">temp_2</text>\n",
       "</g>\n",
       "<!-- sensor_2 -->\n",
       "<g id=\"node6\" class=\"node\">\n",
       "<title>sensor_2</title>\n",
       "<ellipse fill=\"gray\" stroke=\"black\" cx=\"253.67\" cy=\"-18\" rx=\"43.67\" ry=\"18\"/>\n",
       "<text text-anchor=\"middle\" x=\"253.67\" y=\"-12.95\" font-family=\"Times,serif\" font-size=\"14.00\">sensor_2</text>\n",
       "</g>\n",
       "<!-- temp_2&#45;&gt;sensor_2 -->\n",
       "<g id=\"edge3\" class=\"edge\">\n",
       "<title>temp_2&#45;&gt;sensor_2</title>\n",
       "<path fill=\"none\" stroke=\"black\" d=\"M253.67,-71.7C253.67,-64.41 253.67,-55.73 253.67,-47.54\"/>\n",
       "<polygon fill=\"black\" stroke=\"black\" points=\"257.17,-47.62 253.67,-37.62 250.17,-47.62 257.17,-47.62\"/>\n",
       "</g>\n",
       "<!-- temp_3 -->\n",
       "<g id=\"node7\" class=\"node\">\n",
       "<title>temp_3</title>\n",
       "<ellipse fill=\"white\" stroke=\"black\" cx=\"358.67\" cy=\"-90\" rx=\"39.07\" ry=\"18\"/>\n",
       "<text text-anchor=\"middle\" x=\"358.67\" y=\"-84.95\" font-family=\"Times,serif\" font-size=\"14.00\">temp_3</text>\n",
       "</g>\n",
       "<!-- sensor_3 -->\n",
       "<g id=\"node8\" class=\"node\">\n",
       "<title>sensor_3</title>\n",
       "<ellipse fill=\"gray\" stroke=\"black\" cx=\"358.67\" cy=\"-18\" rx=\"43.67\" ry=\"18\"/>\n",
       "<text text-anchor=\"middle\" x=\"358.67\" y=\"-12.95\" font-family=\"Times,serif\" font-size=\"14.00\">sensor_3</text>\n",
       "</g>\n",
       "<!-- temp_3&#45;&gt;sensor_3 -->\n",
       "<g id=\"edge4\" class=\"edge\">\n",
       "<title>temp_3&#45;&gt;sensor_3</title>\n",
       "<path fill=\"none\" stroke=\"black\" d=\"M358.67,-71.7C358.67,-64.41 358.67,-55.73 358.67,-47.54\"/>\n",
       "<polygon fill=\"black\" stroke=\"black\" points=\"362.17,-47.62 358.67,-37.62 355.17,-47.62 362.17,-47.62\"/>\n",
       "</g>\n",
       "<!-- temp_4 -->\n",
       "<g id=\"node9\" class=\"node\">\n",
       "<title>temp_4</title>\n",
       "<ellipse fill=\"white\" stroke=\"black\" cx=\"463.67\" cy=\"-90\" rx=\"39.07\" ry=\"18\"/>\n",
       "<text text-anchor=\"middle\" x=\"463.67\" y=\"-84.95\" font-family=\"Times,serif\" font-size=\"14.00\">temp_4</text>\n",
       "</g>\n",
       "<!-- sensor_4 -->\n",
       "<g id=\"node10\" class=\"node\">\n",
       "<title>sensor_4</title>\n",
       "<ellipse fill=\"gray\" stroke=\"black\" cx=\"463.67\" cy=\"-18\" rx=\"43.67\" ry=\"18\"/>\n",
       "<text text-anchor=\"middle\" x=\"463.67\" y=\"-12.95\" font-family=\"Times,serif\" font-size=\"14.00\">sensor_4</text>\n",
       "</g>\n",
       "<!-- temp_4&#45;&gt;sensor_4 -->\n",
       "<g id=\"edge5\" class=\"edge\">\n",
       "<title>temp_4&#45;&gt;sensor_4</title>\n",
       "<path fill=\"none\" stroke=\"black\" d=\"M463.67,-71.7C463.67,-64.41 463.67,-55.73 463.67,-47.54\"/>\n",
       "<polygon fill=\"black\" stroke=\"black\" points=\"467.17,-47.62 463.67,-37.62 460.17,-47.62 467.17,-47.62\"/>\n",
       "</g>\n",
       "<!-- temp_5 -->\n",
       "<g id=\"node11\" class=\"node\">\n",
       "<title>temp_5</title>\n",
       "<ellipse fill=\"white\" stroke=\"black\" cx=\"568.67\" cy=\"-90\" rx=\"39.07\" ry=\"18\"/>\n",
       "<text text-anchor=\"middle\" x=\"568.67\" y=\"-84.95\" font-family=\"Times,serif\" font-size=\"14.00\">temp_5</text>\n",
       "</g>\n",
       "<!-- sensor_5 -->\n",
       "<g id=\"node12\" class=\"node\">\n",
       "<title>sensor_5</title>\n",
       "<ellipse fill=\"gray\" stroke=\"black\" cx=\"568.67\" cy=\"-18\" rx=\"43.67\" ry=\"18\"/>\n",
       "<text text-anchor=\"middle\" x=\"568.67\" y=\"-12.95\" font-family=\"Times,serif\" font-size=\"14.00\">sensor_5</text>\n",
       "</g>\n",
       "<!-- temp_5&#45;&gt;sensor_5 -->\n",
       "<g id=\"edge6\" class=\"edge\">\n",
       "<title>temp_5&#45;&gt;sensor_5</title>\n",
       "<path fill=\"none\" stroke=\"black\" d=\"M568.67,-71.7C568.67,-64.41 568.67,-55.73 568.67,-47.54\"/>\n",
       "<polygon fill=\"black\" stroke=\"black\" points=\"572.17,-47.62 568.67,-37.62 565.17,-47.62 572.17,-47.62\"/>\n",
       "</g>\n",
       "<!-- temp_6 -->\n",
       "<g id=\"node13\" class=\"node\">\n",
       "<title>temp_6</title>\n",
       "<ellipse fill=\"white\" stroke=\"black\" cx=\"673.67\" cy=\"-90\" rx=\"39.07\" ry=\"18\"/>\n",
       "<text text-anchor=\"middle\" x=\"673.67\" y=\"-84.95\" font-family=\"Times,serif\" font-size=\"14.00\">temp_6</text>\n",
       "</g>\n",
       "<!-- sensor_6 -->\n",
       "<g id=\"node14\" class=\"node\">\n",
       "<title>sensor_6</title>\n",
       "<ellipse fill=\"gray\" stroke=\"black\" cx=\"673.67\" cy=\"-18\" rx=\"43.67\" ry=\"18\"/>\n",
       "<text text-anchor=\"middle\" x=\"673.67\" y=\"-12.95\" font-family=\"Times,serif\" font-size=\"14.00\">sensor_6</text>\n",
       "</g>\n",
       "<!-- temp_6&#45;&gt;sensor_6 -->\n",
       "<g id=\"edge7\" class=\"edge\">\n",
       "<title>temp_6&#45;&gt;sensor_6</title>\n",
       "<path fill=\"none\" stroke=\"black\" d=\"M673.67,-71.7C673.67,-64.41 673.67,-55.73 673.67,-47.54\"/>\n",
       "<polygon fill=\"black\" stroke=\"black\" points=\"677.17,-47.62 673.67,-37.62 670.17,-47.62 677.17,-47.62\"/>\n",
       "</g>\n",
       "<!-- temp_7 -->\n",
       "<g id=\"node15\" class=\"node\">\n",
       "<title>temp_7</title>\n",
       "<ellipse fill=\"white\" stroke=\"black\" cx=\"778.67\" cy=\"-90\" rx=\"39.07\" ry=\"18\"/>\n",
       "<text text-anchor=\"middle\" x=\"778.67\" y=\"-84.95\" font-family=\"Times,serif\" font-size=\"14.00\">temp_7</text>\n",
       "</g>\n",
       "<!-- sensor_7 -->\n",
       "<g id=\"node16\" class=\"node\">\n",
       "<title>sensor_7</title>\n",
       "<ellipse fill=\"gray\" stroke=\"black\" cx=\"778.67\" cy=\"-18\" rx=\"43.67\" ry=\"18\"/>\n",
       "<text text-anchor=\"middle\" x=\"778.67\" y=\"-12.95\" font-family=\"Times,serif\" font-size=\"14.00\">sensor_7</text>\n",
       "</g>\n",
       "<!-- temp_7&#45;&gt;sensor_7 -->\n",
       "<g id=\"edge8\" class=\"edge\">\n",
       "<title>temp_7&#45;&gt;sensor_7</title>\n",
       "<path fill=\"none\" stroke=\"black\" d=\"M778.67,-71.7C778.67,-64.41 778.67,-55.73 778.67,-47.54\"/>\n",
       "<polygon fill=\"black\" stroke=\"black\" points=\"782.17,-47.62 778.67,-37.62 775.17,-47.62 782.17,-47.62\"/>\n",
       "</g>\n",
       "<!-- temp_8 -->\n",
       "<g id=\"node17\" class=\"node\">\n",
       "<title>temp_8</title>\n",
       "<ellipse fill=\"white\" stroke=\"black\" cx=\"883.67\" cy=\"-90\" rx=\"39.07\" ry=\"18\"/>\n",
       "<text text-anchor=\"middle\" x=\"883.67\" y=\"-84.95\" font-family=\"Times,serif\" font-size=\"14.00\">temp_8</text>\n",
       "</g>\n",
       "<!-- sensor_8 -->\n",
       "<g id=\"node18\" class=\"node\">\n",
       "<title>sensor_8</title>\n",
       "<ellipse fill=\"gray\" stroke=\"black\" cx=\"883.67\" cy=\"-18\" rx=\"43.67\" ry=\"18\"/>\n",
       "<text text-anchor=\"middle\" x=\"883.67\" y=\"-12.95\" font-family=\"Times,serif\" font-size=\"14.00\">sensor_8</text>\n",
       "</g>\n",
       "<!-- temp_8&#45;&gt;sensor_8 -->\n",
       "<g id=\"edge9\" class=\"edge\">\n",
       "<title>temp_8&#45;&gt;sensor_8</title>\n",
       "<path fill=\"none\" stroke=\"black\" d=\"M883.67,-71.7C883.67,-64.41 883.67,-55.73 883.67,-47.54\"/>\n",
       "<polygon fill=\"black\" stroke=\"black\" points=\"887.17,-47.62 883.67,-37.62 880.17,-47.62 887.17,-47.62\"/>\n",
       "</g>\n",
       "<!-- temp_9 -->\n",
       "<g id=\"node19\" class=\"node\">\n",
       "<title>temp_9</title>\n",
       "<ellipse fill=\"white\" stroke=\"black\" cx=\"988.67\" cy=\"-90\" rx=\"39.07\" ry=\"18\"/>\n",
       "<text text-anchor=\"middle\" x=\"988.67\" y=\"-84.95\" font-family=\"Times,serif\" font-size=\"14.00\">temp_9</text>\n",
       "</g>\n",
       "<!-- sensor_9 -->\n",
       "<g id=\"node20\" class=\"node\">\n",
       "<title>sensor_9</title>\n",
       "<ellipse fill=\"gray\" stroke=\"black\" cx=\"988.67\" cy=\"-18\" rx=\"43.67\" ry=\"18\"/>\n",
       "<text text-anchor=\"middle\" x=\"988.67\" y=\"-12.95\" font-family=\"Times,serif\" font-size=\"14.00\">sensor_9</text>\n",
       "</g>\n",
       "<!-- temp_9&#45;&gt;sensor_9 -->\n",
       "<g id=\"edge10\" class=\"edge\">\n",
       "<title>temp_9&#45;&gt;sensor_9</title>\n",
       "<path fill=\"none\" stroke=\"black\" d=\"M988.67,-71.7C988.67,-64.41 988.67,-55.73 988.67,-47.54\"/>\n",
       "<polygon fill=\"black\" stroke=\"black\" points=\"992.17,-47.62 988.67,-37.62 985.17,-47.62 992.17,-47.62\"/>\n",
       "</g>\n",
       "</g>\n",
       "</svg>\n"
      ],
      "text/plain": [
       "<graphviz.graphs.Digraph at 0x148baefd0>"
      ]
     },
     "execution_count": 25,
     "metadata": {},
     "output_type": "execute_result"
    }
   ],
   "source": [
    "#Visualize the model\n",
    "pyro.render_model(model, model_args=(obs, ))"
   ]
  },
  {
   "cell_type": "code",
   "execution_count": 26,
   "metadata": {
    "colab": {
     "base_uri": "https://localhost:8080/"
    },
    "id": "GEfOM8zWL-0y",
    "outputId": "3a17d682-efe2-46a3-8bb7-2ac82b75986f"
   },
   "outputs": [
    {
     "name": "stdout",
     "output_type": "stream",
     "text": [
      "Step: 0. Loss: 150.1093373298645\n",
      "Step: 250. Loss: 96.83670103549957\n",
      "Step: 500. Loss: 73.1730786561966\n",
      "Step: 750. Loss: 52.881780326366425\n",
      "Step: 1000. Loss: 41.65035563707352\n",
      "Step: 1250. Loss: 33.841766476631165\n",
      "Step: 1500. Loss: 27.94667959213257\n",
      "Step: 1750. Loss: 28.100461721420288\n",
      "Step: 2000. Loss: 25.488204896450043\n",
      "Step: 2250. Loss: 22.051830053329468\n",
      "Inference results:\n",
      "mean_temp tensor(19.1577, requires_grad=True)\n",
      "AutoDiagonalNormal.loc Parameter containing:\n",
      "tensor([18.0347, 18.5274, 18.9287, 17.8311, 19.7857, 21.4559, 19.7327, 20.5147,\n",
      "        19.1658, 19.6310], requires_grad=True)\n",
      "AutoDiagonalNormal.scale tensor([0.5953, 0.5884, 0.5938, 0.5922, 0.6006, 0.5989, 0.5921, 0.5867, 0.5937,\n",
      "        0.5888], grad_fn=<SoftplusBackward0>)\n",
      "Estimated Mean Temperature (MLE):\n",
      "19.15771484375\n"
     ]
    }
   ],
   "source": [
    "#Run inference\n",
    "svi(model, obs, num_steps=2500, verbose=True)\n",
    "\n",
    "#Print results\n",
    "print(\"Estimated Mean Temperature (MLE):\")\n",
    "mle_mean_temp = pyro.param(\"mean_temp\").item() \n",
    "print(mle_mean_temp)"
   ]
  },
  {
   "cell_type": "markdown",
   "metadata": {
    "id": "tiCwbfJwL-0y"
   },
   "source": [
    "<img src=\"https://github.com/PGM-Lab/probai-2021-pyro/blob/main/Day1/Figures/blue.png\" alt=\"Drawing\" width=2000 height=20>\n",
    "\n",
    "Instead of performing *maximum likelihood* learning, we can perform **Bayesian learning**.\n",
    "* We treat the unknown quantity as a **random variable**.\n",
    "\n",
    "* This model can be graphically represented as follows:\n",
    "\n",
    "<center>\n",
    "<img src=\"https://github.com/PGM-Lab/probai-2021-pyro/blob/main/Day1/Figures/PGM-Tem-Sensor2.png?raw=1\" alt=\"Drawing\" width=\"150\">\n",
    "</center>\n",
    "<img src=\"https://github.com/PGM-Lab/probai-2021-pyro/blob/main/Day1/Figures/blue.png?raw=1\" alt=\"Drawing\" width=2000 height=20>"
   ]
  },
  {
   "cell_type": "code",
   "execution_count": 29,
   "metadata": {
    "id": "CaTdLm6ML-0y"
   },
   "outputs": [],
   "source": [
    "#The observatons   \n",
    "obs = {'sensor': torch.tensor([18., 18.7, 19.2, 17.8, 20.3, 22.4, 20.3, 21.2, 19.5, 20.1])}\n",
    "\n",
    "def model(obs):\n",
    "    mean_temp = pyro.sample('mean_temp', dist.Normal(15.0, 2.0))\n",
    "    for i in range(obs['sensor'].shape[0]):\n",
    "        temp = pyro.sample(f'temp_{i}', dist.Normal(mean_temp, 2.0))\n",
    "        sensor = pyro.sample(f'sensor_{i}', dist.Normal(temp, 1.0), obs=obs['sensor'][i])"
   ]
  },
  {
   "cell_type": "code",
   "execution_count": 30,
   "metadata": {},
   "outputs": [
    {
     "data": {
      "image/svg+xml": [
       "<?xml version=\"1.0\" encoding=\"UTF-8\" standalone=\"no\"?>\n",
       "<!DOCTYPE svg PUBLIC \"-//W3C//DTD SVG 1.1//EN\"\n",
       " \"http://www.w3.org/Graphics/SVG/1.1/DTD/svg11.dtd\">\n",
       "<!-- Generated by graphviz version 9.0.0 (20230911.1827)\n",
       " -->\n",
       "<!-- Pages: 1 -->\n",
       "<svg width=\"1040pt\" height=\"188pt\"\n",
       " viewBox=\"0.00 0.00 1040.35 188.00\" xmlns=\"http://www.w3.org/2000/svg\" xmlns:xlink=\"http://www.w3.org/1999/xlink\">\n",
       "<g id=\"graph0\" class=\"graph\" transform=\"scale(1 1) rotate(0) translate(4 184)\">\n",
       "<polygon fill=\"white\" stroke=\"none\" points=\"-4,4 -4,-184 1036.35,-184 1036.35,4 -4,4\"/>\n",
       "<!-- mean_temp -->\n",
       "<g id=\"node1\" class=\"node\">\n",
       "<title>mean_temp</title>\n",
       "<ellipse fill=\"white\" stroke=\"black\" cx=\"512.67\" cy=\"-162\" rx=\"54.93\" ry=\"18\"/>\n",
       "<text text-anchor=\"middle\" x=\"512.67\" y=\"-156.95\" font-family=\"Times,serif\" font-size=\"14.00\">mean_temp</text>\n",
       "</g>\n",
       "<!-- temp_0 -->\n",
       "<g id=\"node2\" class=\"node\">\n",
       "<title>temp_0</title>\n",
       "<ellipse fill=\"white\" stroke=\"black\" cx=\"47.67\" cy=\"-90\" rx=\"39.07\" ry=\"18\"/>\n",
       "<text text-anchor=\"middle\" x=\"47.67\" y=\"-84.95\" font-family=\"Times,serif\" font-size=\"14.00\">temp_0</text>\n",
       "</g>\n",
       "<!-- mean_temp&#45;&gt;temp_0 -->\n",
       "<g id=\"edge1\" class=\"edge\">\n",
       "<title>mean_temp&#45;&gt;temp_0</title>\n",
       "<path fill=\"none\" stroke=\"black\" d=\"M459.73,-156.86C381.47,-150.12 230.61,-134.78 104.67,-108 99.77,-106.96 94.67,-105.7 89.64,-104.34\"/>\n",
       "<polygon fill=\"black\" stroke=\"black\" points=\"90.83,-101.04 80.26,-101.68 88.92,-107.78 90.83,-101.04\"/>\n",
       "</g>\n",
       "<!-- temp_1 -->\n",
       "<g id=\"node4\" class=\"node\">\n",
       "<title>temp_1</title>\n",
       "<ellipse fill=\"white\" stroke=\"black\" cx=\"152.67\" cy=\"-90\" rx=\"39.07\" ry=\"18\"/>\n",
       "<text text-anchor=\"middle\" x=\"152.67\" y=\"-84.95\" font-family=\"Times,serif\" font-size=\"14.00\">temp_1</text>\n",
       "</g>\n",
       "<!-- mean_temp&#45;&gt;temp_1 -->\n",
       "<g id=\"edge3\" class=\"edge\">\n",
       "<title>mean_temp&#45;&gt;temp_1</title>\n",
       "<path fill=\"none\" stroke=\"black\" d=\"M462.71,-154.09C402.35,-145.32 297.91,-128.8 209.67,-108 204.85,-106.86 199.83,-105.56 194.86,-104.18\"/>\n",
       "<polygon fill=\"black\" stroke=\"black\" points=\"196.19,-100.92 185.61,-101.52 194.25,-107.65 196.19,-100.92\"/>\n",
       "</g>\n",
       "<!-- temp_2 -->\n",
       "<g id=\"node6\" class=\"node\">\n",
       "<title>temp_2</title>\n",
       "<ellipse fill=\"white\" stroke=\"black\" cx=\"257.67\" cy=\"-90\" rx=\"39.07\" ry=\"18\"/>\n",
       "<text text-anchor=\"middle\" x=\"257.67\" y=\"-84.95\" font-family=\"Times,serif\" font-size=\"14.00\">temp_2</text>\n",
       "</g>\n",
       "<!-- mean_temp&#45;&gt;temp_2 -->\n",
       "<g id=\"edge5\" class=\"edge\">\n",
       "<title>mean_temp&#45;&gt;temp_2</title>\n",
       "<path fill=\"none\" stroke=\"black\" d=\"M470.48,-150.07C430.33,-139.59 368.26,-123.16 314.67,-108 310.09,-106.7 305.31,-105.32 300.55,-103.93\"/>\n",
       "<polygon fill=\"black\" stroke=\"black\" points=\"301.62,-100.6 291.04,-101.12 299.63,-107.31 301.62,-100.6\"/>\n",
       "</g>\n",
       "<!-- temp_3 -->\n",
       "<g id=\"node8\" class=\"node\">\n",
       "<title>temp_3</title>\n",
       "<ellipse fill=\"white\" stroke=\"black\" cx=\"362.67\" cy=\"-90\" rx=\"39.07\" ry=\"18\"/>\n",
       "<text text-anchor=\"middle\" x=\"362.67\" y=\"-84.95\" font-family=\"Times,serif\" font-size=\"14.00\">temp_3</text>\n",
       "</g>\n",
       "<!-- mean_temp&#45;&gt;temp_3 -->\n",
       "<g id=\"edge7\" class=\"edge\">\n",
       "<title>mean_temp&#45;&gt;temp_3</title>\n",
       "<path fill=\"none\" stroke=\"black\" d=\"M481.96,-146.67C458.11,-135.54 424.95,-120.06 399.65,-108.25\"/>\n",
       "<polygon fill=\"black\" stroke=\"black\" points=\"401.25,-105.14 390.7,-104.08 398.29,-111.48 401.25,-105.14\"/>\n",
       "</g>\n",
       "<!-- temp_4 -->\n",
       "<g id=\"node10\" class=\"node\">\n",
       "<title>temp_4</title>\n",
       "<ellipse fill=\"white\" stroke=\"black\" cx=\"464.67\" cy=\"-90\" rx=\"39.07\" ry=\"18\"/>\n",
       "<text text-anchor=\"middle\" x=\"464.67\" y=\"-84.95\" font-family=\"Times,serif\" font-size=\"14.00\">temp_4</text>\n",
       "</g>\n",
       "<!-- mean_temp&#45;&gt;temp_4 -->\n",
       "<g id=\"edge9\" class=\"edge\">\n",
       "<title>mean_temp&#45;&gt;temp_4</title>\n",
       "<path fill=\"none\" stroke=\"black\" d=\"M501.05,-144.05C495.43,-135.85 488.56,-125.83 482.31,-116.71\"/>\n",
       "<polygon fill=\"black\" stroke=\"black\" points=\"485.25,-114.82 476.71,-108.56 479.48,-118.78 485.25,-114.82\"/>\n",
       "</g>\n",
       "<!-- temp_5 -->\n",
       "<g id=\"node12\" class=\"node\">\n",
       "<title>temp_5</title>\n",
       "<ellipse fill=\"white\" stroke=\"black\" cx=\"561.67\" cy=\"-90\" rx=\"39.07\" ry=\"18\"/>\n",
       "<text text-anchor=\"middle\" x=\"561.67\" y=\"-84.95\" font-family=\"Times,serif\" font-size=\"14.00\">temp_5</text>\n",
       "</g>\n",
       "<!-- mean_temp&#45;&gt;temp_5 -->\n",
       "<g id=\"edge11\" class=\"edge\">\n",
       "<title>mean_temp&#45;&gt;temp_5</title>\n",
       "<path fill=\"none\" stroke=\"black\" d=\"M524.54,-144.05C530.28,-135.85 537.29,-125.83 543.67,-116.71\"/>\n",
       "<polygon fill=\"black\" stroke=\"black\" points=\"546.52,-118.75 549.39,-108.55 540.79,-114.73 546.52,-118.75\"/>\n",
       "</g>\n",
       "<!-- temp_6 -->\n",
       "<g id=\"node14\" class=\"node\">\n",
       "<title>temp_6</title>\n",
       "<ellipse fill=\"white\" stroke=\"black\" cx=\"660.67\" cy=\"-90\" rx=\"39.07\" ry=\"18\"/>\n",
       "<text text-anchor=\"middle\" x=\"660.67\" y=\"-84.95\" font-family=\"Times,serif\" font-size=\"14.00\">temp_6</text>\n",
       "</g>\n",
       "<!-- mean_temp&#45;&gt;temp_6 -->\n",
       "<g id=\"edge13\" class=\"edge\">\n",
       "<title>mean_temp&#45;&gt;temp_6</title>\n",
       "<path fill=\"none\" stroke=\"black\" d=\"M542.98,-146.67C566.51,-135.54 599.23,-120.06 624.19,-108.25\"/>\n",
       "<polygon fill=\"black\" stroke=\"black\" points=\"625.46,-111.53 633,-104.09 622.47,-105.2 625.46,-111.53\"/>\n",
       "</g>\n",
       "<!-- temp_7 -->\n",
       "<g id=\"node16\" class=\"node\">\n",
       "<title>temp_7</title>\n",
       "<ellipse fill=\"white\" stroke=\"black\" cx=\"762.67\" cy=\"-90\" rx=\"39.07\" ry=\"18\"/>\n",
       "<text text-anchor=\"middle\" x=\"762.67\" y=\"-84.95\" font-family=\"Times,serif\" font-size=\"14.00\">temp_7</text>\n",
       "</g>\n",
       "<!-- mean_temp&#45;&gt;temp_7 -->\n",
       "<g id=\"edge15\" class=\"edge\">\n",
       "<title>mean_temp&#45;&gt;temp_7</title>\n",
       "<path fill=\"none\" stroke=\"black\" d=\"M554.87,-150.12C594.66,-139.74 655.9,-123.44 708.67,-108 712.47,-106.89 716.4,-105.71 720.34,-104.51\"/>\n",
       "<polygon fill=\"black\" stroke=\"black\" points=\"721.37,-107.85 729.88,-101.55 719.3,-101.17 721.37,-107.85\"/>\n",
       "</g>\n",
       "<!-- temp_8 -->\n",
       "<g id=\"node18\" class=\"node\">\n",
       "<title>temp_8</title>\n",
       "<ellipse fill=\"white\" stroke=\"black\" cx=\"869.67\" cy=\"-90\" rx=\"39.07\" ry=\"18\"/>\n",
       "<text text-anchor=\"middle\" x=\"869.67\" y=\"-84.95\" font-family=\"Times,serif\" font-size=\"14.00\">temp_8</text>\n",
       "</g>\n",
       "<!-- mean_temp&#45;&gt;temp_8 -->\n",
       "<g id=\"edge17\" class=\"edge\">\n",
       "<title>mean_temp&#45;&gt;temp_8</title>\n",
       "<path fill=\"none\" stroke=\"black\" d=\"M562.3,-153.8C621.71,-144.81 724.04,-128.13 810.67,-108 815.91,-106.78 821.38,-105.38 826.78,-103.92\"/>\n",
       "<polygon fill=\"black\" stroke=\"black\" points=\"827.54,-107.35 836.22,-101.28 825.65,-100.61 827.54,-107.35\"/>\n",
       "</g>\n",
       "<!-- temp_9 -->\n",
       "<g id=\"node20\" class=\"node\">\n",
       "<title>temp_9</title>\n",
       "<ellipse fill=\"white\" stroke=\"black\" cx=\"987.67\" cy=\"-90\" rx=\"39.07\" ry=\"18\"/>\n",
       "<text text-anchor=\"middle\" x=\"987.67\" y=\"-84.95\" font-family=\"Times,serif\" font-size=\"14.00\">temp_9</text>\n",
       "</g>\n",
       "<!-- mean_temp&#45;&gt;temp_9 -->\n",
       "<g id=\"edge19\" class=\"edge\">\n",
       "<title>mean_temp&#45;&gt;temp_9</title>\n",
       "<path fill=\"none\" stroke=\"black\" d=\"M565.06,-155.97C642.53,-148.13 792.02,-131.41 917.67,-108 926.05,-106.44 934.93,-104.5 943.45,-102.51\"/>\n",
       "<polygon fill=\"black\" stroke=\"black\" points=\"943.99,-105.97 952.89,-100.22 942.35,-99.17 943.99,-105.97\"/>\n",
       "</g>\n",
       "<!-- sensor_0 -->\n",
       "<g id=\"node3\" class=\"node\">\n",
       "<title>sensor_0</title>\n",
       "<ellipse fill=\"gray\" stroke=\"black\" cx=\"43.67\" cy=\"-18\" rx=\"43.67\" ry=\"18\"/>\n",
       "<text text-anchor=\"middle\" x=\"43.67\" y=\"-12.95\" font-family=\"Times,serif\" font-size=\"14.00\">sensor_0</text>\n",
       "</g>\n",
       "<!-- temp_0&#45;&gt;sensor_0 -->\n",
       "<g id=\"edge2\" class=\"edge\">\n",
       "<title>temp_0&#45;&gt;sensor_0</title>\n",
       "<path fill=\"none\" stroke=\"black\" d=\"M46.69,-71.7C46.27,-64.41 45.77,-55.73 45.3,-47.54\"/>\n",
       "<polygon fill=\"black\" stroke=\"black\" points=\"48.8,-47.4 44.74,-37.62 41.81,-47.8 48.8,-47.4\"/>\n",
       "</g>\n",
       "<!-- sensor_1 -->\n",
       "<g id=\"node5\" class=\"node\">\n",
       "<title>sensor_1</title>\n",
       "<ellipse fill=\"gray\" stroke=\"black\" cx=\"148.67\" cy=\"-18\" rx=\"43.67\" ry=\"18\"/>\n",
       "<text text-anchor=\"middle\" x=\"148.67\" y=\"-12.95\" font-family=\"Times,serif\" font-size=\"14.00\">sensor_1</text>\n",
       "</g>\n",
       "<!-- temp_1&#45;&gt;sensor_1 -->\n",
       "<g id=\"edge4\" class=\"edge\">\n",
       "<title>temp_1&#45;&gt;sensor_1</title>\n",
       "<path fill=\"none\" stroke=\"black\" d=\"M151.69,-71.7C151.27,-64.41 150.77,-55.73 150.3,-47.54\"/>\n",
       "<polygon fill=\"black\" stroke=\"black\" points=\"153.8,-47.4 149.74,-37.62 146.81,-47.8 153.8,-47.4\"/>\n",
       "</g>\n",
       "<!-- sensor_2 -->\n",
       "<g id=\"node7\" class=\"node\">\n",
       "<title>sensor_2</title>\n",
       "<ellipse fill=\"gray\" stroke=\"black\" cx=\"253.67\" cy=\"-18\" rx=\"43.67\" ry=\"18\"/>\n",
       "<text text-anchor=\"middle\" x=\"253.67\" y=\"-12.95\" font-family=\"Times,serif\" font-size=\"14.00\">sensor_2</text>\n",
       "</g>\n",
       "<!-- temp_2&#45;&gt;sensor_2 -->\n",
       "<g id=\"edge6\" class=\"edge\">\n",
       "<title>temp_2&#45;&gt;sensor_2</title>\n",
       "<path fill=\"none\" stroke=\"black\" d=\"M256.69,-71.7C256.27,-64.41 255.77,-55.73 255.3,-47.54\"/>\n",
       "<polygon fill=\"black\" stroke=\"black\" points=\"258.8,-47.4 254.74,-37.62 251.81,-47.8 258.8,-47.4\"/>\n",
       "</g>\n",
       "<!-- sensor_3 -->\n",
       "<g id=\"node9\" class=\"node\">\n",
       "<title>sensor_3</title>\n",
       "<ellipse fill=\"gray\" stroke=\"black\" cx=\"358.67\" cy=\"-18\" rx=\"43.67\" ry=\"18\"/>\n",
       "<text text-anchor=\"middle\" x=\"358.67\" y=\"-12.95\" font-family=\"Times,serif\" font-size=\"14.00\">sensor_3</text>\n",
       "</g>\n",
       "<!-- temp_3&#45;&gt;sensor_3 -->\n",
       "<g id=\"edge8\" class=\"edge\">\n",
       "<title>temp_3&#45;&gt;sensor_3</title>\n",
       "<path fill=\"none\" stroke=\"black\" d=\"M361.69,-71.7C361.27,-64.41 360.77,-55.73 360.3,-47.54\"/>\n",
       "<polygon fill=\"black\" stroke=\"black\" points=\"363.8,-47.4 359.74,-37.62 356.81,-47.8 363.8,-47.4\"/>\n",
       "</g>\n",
       "<!-- sensor_4 -->\n",
       "<g id=\"node11\" class=\"node\">\n",
       "<title>sensor_4</title>\n",
       "<ellipse fill=\"gray\" stroke=\"black\" cx=\"463.67\" cy=\"-18\" rx=\"43.67\" ry=\"18\"/>\n",
       "<text text-anchor=\"middle\" x=\"463.67\" y=\"-12.95\" font-family=\"Times,serif\" font-size=\"14.00\">sensor_4</text>\n",
       "</g>\n",
       "<!-- temp_4&#45;&gt;sensor_4 -->\n",
       "<g id=\"edge10\" class=\"edge\">\n",
       "<title>temp_4&#45;&gt;sensor_4</title>\n",
       "<path fill=\"none\" stroke=\"black\" d=\"M464.43,-71.7C464.32,-64.41 464.2,-55.73 464.08,-47.54\"/>\n",
       "<polygon fill=\"black\" stroke=\"black\" points=\"467.58,-47.57 463.94,-37.62 460.58,-47.67 467.58,-47.57\"/>\n",
       "</g>\n",
       "<!-- sensor_5 -->\n",
       "<g id=\"node13\" class=\"node\">\n",
       "<title>sensor_5</title>\n",
       "<ellipse fill=\"gray\" stroke=\"black\" cx=\"568.67\" cy=\"-18\" rx=\"43.67\" ry=\"18\"/>\n",
       "<text text-anchor=\"middle\" x=\"568.67\" y=\"-12.95\" font-family=\"Times,serif\" font-size=\"14.00\">sensor_5</text>\n",
       "</g>\n",
       "<!-- temp_5&#45;&gt;sensor_5 -->\n",
       "<g id=\"edge12\" class=\"edge\">\n",
       "<title>temp_5&#45;&gt;sensor_5</title>\n",
       "<path fill=\"none\" stroke=\"black\" d=\"M563.4,-71.7C564.13,-64.41 565,-55.73 565.82,-47.54\"/>\n",
       "<polygon fill=\"black\" stroke=\"black\" points=\"569.3,-47.91 566.81,-37.61 562.34,-47.21 569.3,-47.91\"/>\n",
       "</g>\n",
       "<!-- sensor_6 -->\n",
       "<g id=\"node15\" class=\"node\">\n",
       "<title>sensor_6</title>\n",
       "<ellipse fill=\"gray\" stroke=\"black\" cx=\"673.67\" cy=\"-18\" rx=\"43.67\" ry=\"18\"/>\n",
       "<text text-anchor=\"middle\" x=\"673.67\" y=\"-12.95\" font-family=\"Times,serif\" font-size=\"14.00\">sensor_6</text>\n",
       "</g>\n",
       "<!-- temp_6&#45;&gt;sensor_6 -->\n",
       "<g id=\"edge14\" class=\"edge\">\n",
       "<title>temp_6&#45;&gt;sensor_6</title>\n",
       "<path fill=\"none\" stroke=\"black\" d=\"M663.89,-71.7C665.26,-64.32 666.89,-55.52 668.43,-47.25\"/>\n",
       "<polygon fill=\"black\" stroke=\"black\" points=\"671.84,-48.06 670.22,-37.59 664.95,-46.79 671.84,-48.06\"/>\n",
       "</g>\n",
       "<!-- sensor_7 -->\n",
       "<g id=\"node17\" class=\"node\">\n",
       "<title>sensor_7</title>\n",
       "<ellipse fill=\"gray\" stroke=\"black\" cx=\"778.67\" cy=\"-18\" rx=\"43.67\" ry=\"18\"/>\n",
       "<text text-anchor=\"middle\" x=\"778.67\" y=\"-12.95\" font-family=\"Times,serif\" font-size=\"14.00\">sensor_7</text>\n",
       "</g>\n",
       "<!-- temp_7&#45;&gt;sensor_7 -->\n",
       "<g id=\"edge16\" class=\"edge\">\n",
       "<title>temp_7&#45;&gt;sensor_7</title>\n",
       "<path fill=\"none\" stroke=\"black\" d=\"M766.63,-71.7C768.32,-64.32 770.33,-55.52 772.22,-47.25\"/>\n",
       "<polygon fill=\"black\" stroke=\"black\" points=\"775.61,-48.11 774.43,-37.58 768.79,-46.55 775.61,-48.11\"/>\n",
       "</g>\n",
       "<!-- sensor_8 -->\n",
       "<g id=\"node19\" class=\"node\">\n",
       "<title>sensor_8</title>\n",
       "<ellipse fill=\"gray\" stroke=\"black\" cx=\"883.67\" cy=\"-18\" rx=\"43.67\" ry=\"18\"/>\n",
       "<text text-anchor=\"middle\" x=\"883.67\" y=\"-12.95\" font-family=\"Times,serif\" font-size=\"14.00\">sensor_8</text>\n",
       "</g>\n",
       "<!-- temp_8&#45;&gt;sensor_8 -->\n",
       "<g id=\"edge18\" class=\"edge\">\n",
       "<title>temp_8&#45;&gt;sensor_8</title>\n",
       "<path fill=\"none\" stroke=\"black\" d=\"M873.13,-71.7C874.61,-64.32 876.37,-55.52 878.02,-47.25\"/>\n",
       "<polygon fill=\"black\" stroke=\"black\" points=\"881.43,-48.08 879.96,-37.59 874.56,-46.71 881.43,-48.08\"/>\n",
       "</g>\n",
       "<!-- sensor_9 -->\n",
       "<g id=\"node21\" class=\"node\">\n",
       "<title>sensor_9</title>\n",
       "<ellipse fill=\"gray\" stroke=\"black\" cx=\"988.67\" cy=\"-18\" rx=\"43.67\" ry=\"18\"/>\n",
       "<text text-anchor=\"middle\" x=\"988.67\" y=\"-12.95\" font-family=\"Times,serif\" font-size=\"14.00\">sensor_9</text>\n",
       "</g>\n",
       "<!-- temp_9&#45;&gt;sensor_9 -->\n",
       "<g id=\"edge20\" class=\"edge\">\n",
       "<title>temp_9&#45;&gt;sensor_9</title>\n",
       "<path fill=\"none\" stroke=\"black\" d=\"M987.92,-71.7C988.03,-64.41 988.15,-55.73 988.27,-47.54\"/>\n",
       "<polygon fill=\"black\" stroke=\"black\" points=\"991.77,-47.67 988.41,-37.62 984.77,-47.57 991.77,-47.67\"/>\n",
       "</g>\n",
       "</g>\n",
       "</svg>\n"
      ],
      "text/plain": [
       "<graphviz.graphs.Digraph at 0x159704150>"
      ]
     },
     "execution_count": 30,
     "metadata": {},
     "output_type": "execute_result"
    }
   ],
   "source": [
    "#Visualize the model\n",
    "pyro.render_model(model, model_args=(obs, ))"
   ]
  },
  {
   "cell_type": "markdown",
   "metadata": {
    "id": "jJfVNZFBL-0y"
   },
   "source": [
    "<img src=\"https://github.com/PGM-Lab/probai-2021-pyro/blob/main/Day1/Figures/blue.png?raw=1\" alt=\"Drawing\" width=2000 height=20>\n",
    "\n",
    "We perform inference over this model (see Slides from Lecture 8):\n",
    "\n",
    " $$ p(\\mu_t | s_1,\\ldots, s_n)=\\frac{p(\\mu_t)\\prod_{i=1}^n \\int p(s_i|t_i)p(t_i|\\mu_t)dt_i }{\\int \\prod_{i=1}^n p(s_i|\\mu_t)p(\\mu_t) d\\mu} $$\n"
   ]
  },
  {
   "cell_type": "markdown",
   "metadata": {},
   "source": [
    "Here we will use an explicitly defined guide, simply to be able to pick out the relevant parameters by name."
   ]
  },
  {
   "cell_type": "code",
   "execution_count": 31,
   "metadata": {},
   "outputs": [],
   "source": [
    "def guide(obs):\n",
    "    mean = pyro.param(\"mean\", torch.mean(obs['sensor']))\n",
    "    scale = pyro.param(\"scale\", torch.tensor(1.), constraint=constraints.positive)\n",
    "    mean_temp = pyro.sample('mean_temp', dist.Normal(mean, scale))\n",
    "    for i in range(obs['sensor'].shape[0]):\n",
    "        mean_i = pyro.param(f'mean_{i}', obs['sensor'][i])\n",
    "        scale_i = pyro.param(f'scale_{i}', torch.tensor(1.), constraint=constraints.positive)\n",
    "        pyro.sample(f'temp_{i}', dist.Normal(mean_i, scale_i))"
   ]
  },
  {
   "cell_type": "code",
   "execution_count": 32,
   "metadata": {
    "colab": {
     "base_uri": "https://localhost:8080/"
    },
    "id": "W0YiqM36L-0z",
    "outputId": "dae46c1e-5583-4c73-9ecf-39efedf730f2"
   },
   "outputs": [
    {
     "name": "stdout",
     "output_type": "stream",
     "text": [
      "Step: 0. Loss: 23.711403965950012\n",
      "Step: 250. Loss: 23.23114514350891\n",
      "Step: 500. Loss: 23.254614114761353\n",
      "Step: 750. Loss: 23.193858742713928\n",
      "P(mean_temp|Sensor=[18., 18.7, 19.2, 17.8, 20.3, 22.4, 20.3, 21.2, 19.5, 20.1]) =\n",
      "Normal(loc: 19.270784378051758, scale: 0.6046163439750671)\n",
      "\n",
      "3.3796792030334473 seconds\n"
     ]
    }
   ],
   "source": [
    "import time\n",
    "        \n",
    "#Run inference\n",
    "start = time.time()\n",
    "svi(model, obs, guide, num_steps=1000, verbose=False)\n",
    "\n",
    "#Print results\n",
    "print(\"P(mean_temp|Sensor=[18., 18.7, 19.2, 17.8, 20.3, 22.4, 20.3, 21.2, 19.5, 20.1]) =\")\n",
    "print(dist.Normal(pyro.param(\"mean\").item(), pyro.param(\"scale\").item()))\n",
    "print(\"\")\n",
    "end = time.time()\n",
    "print(f\"{(end - start)} seconds\")"
   ]
  },
  {
   "cell_type": "markdown",
   "metadata": {
    "id": "YFKoGLcnL-0z"
   },
   "source": [
    "As we also saw in the last lecture, the result of the learning is **not a point estimate**. Instead we have a **posterior distribution**, which captures the **uncertainty** about the estimation."
   ]
  },
  {
   "cell_type": "code",
   "execution_count": 33,
   "metadata": {
    "colab": {
     "base_uri": "https://localhost:8080/",
     "height": 265
    },
    "id": "ES_yHXNKL-0z",
    "outputId": "6ff35c3e-a19b-4936-ba6e-9947c9b237d1"
   },
   "outputs": [
    {
     "data": {
      "image/png": "[encoded data removed]",
      "text/plain": [
       "<Figure size 640x480 with 1 Axes>"
      ]
     },
     "metadata": {},
     "output_type": "display_data"
    }
   ],
   "source": [
    "import numpy as np\n",
    "import scipy.stats as stats\n",
    "\n",
    "mu = pyro.param(\"mean\").item()\n",
    "scale = pyro.param(\"scale\").item()\n",
    "x = np.linspace(mu - 3*scale, mu + 3*scale, 100)\n",
    "plt.plot(x, stats.norm.pdf(x, mu, scale), label='Posterior over $\\mu$')\n",
    "point = mle_mean_temp # Previously calculated above\n",
    "plt.plot([point, point],[0., 1.], label='MLE point estimate of $\\mu$')\n",
    "plt.legend()\n",
    "plt.show()"
   ]
  },
  {
   "cell_type": "markdown",
   "metadata": {
    "id": "1SXUdMtUL-00"
   },
   "source": [
    "<img src=\"https://github.com/PGM-Lab/probai-2021-pyro/blob/main/Day1/Figures/blue.png\" alt=\"Drawing\" width=2000 height=20>\n",
    "\n",
    "\n",
    "### 3.3 The use of ``plate`` construct\n",
    "\n",
    "* Pyro can exploit **conditional independencies and vectorization** to make inference much faster. \n",
    "\n",
    "* This can be done with the construct **``plate``**. \n",
    "\n",
    "* With this construct, we can indicate that the variables $s_i$ and $t_i$ are **conditionally indepdendent** from other variables $s_j$ and $t_j$ given $\\mu_t$. \n",
    "\n",
    "<center>\n",
    "<img src=\"https://github.com/PGM-Lab/probai-2021-pyro/blob/main/Day1/Figures/PGM-Tem-Sensor2.png?raw=1\" alt=\"Drawing\" width=\"150\">\n",
    "</center>"
   ]
  },
  {
   "cell_type": "code",
   "execution_count": 34,
   "metadata": {
    "id": "4LlQKqp4L-00"
   },
   "outputs": [],
   "source": [
    "#The observatons   \n",
    "obs = {'sensor': torch.tensor([18., 18.7, 19.2, 17.8, 20.3, 22.4, 20.3, 21.2, 19.5, 20.1])}\n",
    "\n",
    "def model(obs):\n",
    "    mean_temp = pyro.sample('mean_temp', dist.Normal(15.0, 2.0))\n",
    "    with pyro.plate('a', obs['sensor'].shape[0]):\n",
    "        temp = pyro.sample('temp', dist.Normal(mean_temp, 2.0))\n",
    "        sensor = pyro.sample('sensor', dist.Normal(temp, 1.0), obs=obs['sensor'])"
   ]
  },
  {
   "cell_type": "markdown",
   "metadata": {
    "id": "yAh8vLjLL-00"
   },
   "source": [
    "The ``plate`` construct reflects the standard notational use in graphical models denoting the **repetition of some parts of of the graph**. \n",
    "<center>\n",
    "<img src=\"https://github.com/PGM-Lab/probai-2021-pyro/blob/main/Day1/Figures/PGM-Tem-Sensor3.png?raw=1\" alt=\"Drawing\" width=\"250\">\n",
    "</center>\n",
    "\n",
    "We can here make a distinction between **local** and **global** random variables: \n",
    "\n",
    "* **Local random variables** caputure **specific information** about the $i$-th data sample (i.e. the real temperature at this moment in time).\n",
    "\n",
    "* **Global random variables** capture **common information** about all the data samples (i.e. the average temperature of all data samples). \n",
    "\n",
    "<img src=\"https://github.com/PGM-Lab/probai-2021-pyro/blob/main/Day1/Figures/blue.png?raw=1\" alt=\"Drawing\" width=2000 height=20>\n",
    "\n",
    "\n",
    "Observe how inference in this model is much **faster**. "
   ]
  },
  {
   "cell_type": "code",
   "execution_count": 27,
   "metadata": {
    "cellView": "form",
    "id": "vNC2WW9tL-00"
   },
   "outputs": [],
   "source": [
    "#Define the guide\n",
    "def guide(obs_sensor):\n",
    "    mean = pyro.param(\"mean\", torch.mean(obs['sensor']))\n",
    "    scale = pyro.param(\"scale\", torch.tensor(1.), constraint=constraints.positive)\n",
    "    mean_temp = pyro.sample('mean_temp', dist.Normal(mean, scale))\n",
    "    with pyro.plate('a', obs['sensor'].shape[0]) as i:\n",
    "        mean_i = pyro.param(f'mean_{i}', obs['sensor'][i])\n",
    "        scale_i = pyro.param(f'scale_{i}', torch.tensor(1.), constraint=constraints.positive)\n",
    "        pyro.sample('temp', dist.Normal(mean_i, scale_i))"
   ]
  },
  {
   "cell_type": "code",
   "execution_count": 35,
   "metadata": {
    "colab": {
     "base_uri": "https://localhost:8080/"
    },
    "id": "ASYtP3j0L-01",
    "outputId": "01793daa-19bd-4552-8486-392af3eeb5e6"
   },
   "outputs": [
    {
     "name": "stderr",
     "output_type": "stream",
     "text": [
      "/Users/hecter/miniconda3/lib/python3.11/site-packages/pyro/util.py:288: UserWarning: Found non-auxiliary vars in guide but not model, consider marking these infer={'is_auxiliary': True}:\n",
      "{'temp_1', 'temp_2', 'temp_4', 'temp_9', 'temp_7', 'temp_6', 'temp_5', 'temp_8', 'temp_0', 'temp_3'}\n",
      "  warnings.warn(\n",
      "/Users/hecter/miniconda3/lib/python3.11/site-packages/pyro/util.py:303: UserWarning: Found vars in model but not guide: {'temp'}\n",
      "  warnings.warn(f\"Found vars in model but not guide: {bad_sites}\")\n"
     ]
    },
    {
     "name": "stdout",
     "output_type": "stream",
     "text": [
      "Step: 0. Loss: 39.897047340869904\n",
      "Step: 250. Loss: 117.97981679439545\n",
      "Step: 500. Loss: 63.896224677562714\n",
      "Step: 750. Loss: 39.19509619474411\n",
      "Inference results:\n",
      "mean tensor(19.5948, requires_grad=True)\n",
      "scale tensor(0.3319, grad_fn=<AddBackward0>)\n",
      "mean_0 tensor(18., requires_grad=True)\n",
      "scale_0 tensor(3.0373, grad_fn=<AddBackward0>)\n",
      "mean_1 tensor(18.7000, requires_grad=True)\n",
      "scale_1 tensor(3.0373, grad_fn=<AddBackward0>)\n",
      "mean_2 tensor(19.2000, requires_grad=True)\n",
      "scale_2 tensor(3.0373, grad_fn=<AddBackward0>)\n",
      "mean_3 tensor(17.8000, requires_grad=True)\n",
      "scale_3 tensor(3.0373, grad_fn=<AddBackward0>)\n",
      "mean_4 tensor(20.3000, requires_grad=True)\n",
      "scale_4 tensor(3.0373, grad_fn=<AddBackward0>)\n",
      "mean_5 tensor(22.4000, requires_grad=True)\n",
      "scale_5 tensor(3.0373, grad_fn=<AddBackward0>)\n",
      "mean_6 tensor(20.3000, requires_grad=True)\n",
      "scale_6 tensor(3.0373, grad_fn=<AddBackward0>)\n",
      "mean_7 tensor(21.2000, requires_grad=True)\n",
      "scale_7 tensor(3.0373, grad_fn=<AddBackward0>)\n",
      "mean_8 tensor(19.5000, requires_grad=True)\n",
      "scale_8 tensor(3.0373, grad_fn=<AddBackward0>)\n",
      "mean_9 tensor(20.1000, requires_grad=True)\n",
      "scale_9 tensor(3.0373, grad_fn=<AddBackward0>)\n",
      "P(mean_temp|Sensor=[18., 18.7, 19.2, 17.8, 20.3, 22.4, 20.3, 21.2, 19.5, 20.1]) =\n",
      "Normal(loc: 19.59482765197754, scale: 0.3318632245063782)\n",
      "\n",
      "2.0296387672424316 seconds\n"
     ]
    }
   ],
   "source": [
    "#Run inference\n",
    "start = time.time()\n",
    "svi(model, obs, guide, num_steps=1000)\n",
    "\n",
    "#Print results\n",
    "print(\"P(mean_temp|Sensor=[18., 18.7, 19.2, 17.8, 20.3, 22.4, 20.3, 21.2, 19.5, 20.1]) =\")\n",
    "print(dist.Normal(pyro.param(\"mean\").item(), pyro.param(\"scale\").item()))\n",
    "print(\"\")\n",
    "end = time.time()\n",
    "print(f\"{(end - start)} seconds\")"
   ]
  },
  {
   "cell_type": "markdown",
   "metadata": {},
   "source": [
    "<img src=\"https://github.com/PGM-Lab/probai-2021-pyro/blob/main/Day1/Figures/blue.png?raw=1\" alt=\"Drawing\" width=2000 height=20>\n",
    "\n",
    "\n",
    "### **<span style=\"color:red\">Exercise 2: </span>The role of *prior distributions* in learning**\n",
    "\n",
    "In this case we just want to illustrate how the output of learning depends of the particular prior we introduce in the model. Play with different options and extract conclusions:\n",
    "\n",
    "1. What happens if we change the mean of the prior?\n",
    "2. What happens if we change the scale of the prior?\n",
    "3. What happens to the posterior if the number of data samples deacreases and increases?\n",
    "\n",
    "The code below might be helpful."
   ]
  },
  {
   "cell_type": "code",
   "execution_count": 41,
   "metadata": {
    "colab": {
     "base_uri": "https://localhost:8080/",
     "height": 367
    },
    "id": "5OWLg5tvL-01",
    "outputId": "c6e80f76-72af-41ec-a581-de6c2421fb59"
   },
   "outputs": [
    {
     "name": "stderr",
     "output_type": "stream",
     "text": [
      "/Users/hecter/miniconda3/lib/python3.11/site-packages/pyro/util.py:288: UserWarning: Found non-auxiliary vars in guide but not model, consider marking these infer={'is_auxiliary': True}:\n",
      "{'temp_1', 'temp_2', 'temp_34', 'temp_30', 'temp_37', 'temp_5', 'temp_35', 'temp_13', 'temp_23', 'temp_29', 'temp_36', 'temp_28', 'temp_7', 'temp_16', 'temp_18', 'temp_6', 'temp_32', 'temp_21', 'temp_39', 'temp_25', 'temp_38', 'temp_9', 'temp_11', 'temp_17', 'temp_10', 'temp_24', 'temp_26', 'temp_12', 'temp_22', 'temp_14', 'temp_4', 'temp_20', 'temp_27', 'temp_33', 'temp_31', 'temp_15', 'temp_8', 'temp_19', 'temp_0', 'temp_3'}\n",
      "  warnings.warn(\n"
     ]
    },
    {
     "name": "stdout",
     "output_type": "stream",
     "text": [
      "Step: 0. Loss: 202.1749285000134\n",
      "Step: 250. Loss: 209.2121193696211\n",
      "Step: 500. Loss: 328.4928973089565\n",
      "Step: 750. Loss: 211.47872323815727\n",
      "P(Temperature|Sensor=[15.23 18.79 19.03 13.12 19.66 22.67 16.54 18.05 21.7  16.44 19.52 17.41\n",
      " 17.62 18.14 16.01 20.8  16.63 17.28 16.33 18.53 17.74 22.52 15.37 14.98\n",
      " 15.98 18.76 19.38 17.45 16.92 18.07 22.26 15.59 19.19 17.19 16.15 20.12\n",
      " 21.74 17.39 21.01 17.25]) = \n",
      "Normal(loc: 18.16275978088379, scale: 0.1599196046590805)\n"
     ]
    },
    {
     "data": {
      "image/png": "[encoded data removed]",
      "text/plain": [
       "<Figure size 640x480 with 1 Axes>"
      ]
     },
     "metadata": {},
     "output_type": "display_data"
    }
   ],
   "source": [
    "#The observatons   \n",
    "sample_size = 40\n",
    "obs = {'sensor': torch.tensor(np.random.normal(18,2,sample_size))}\n",
    "\n",
    "def model(obs):\n",
    "    mean_temp = pyro.sample('mean_temp', dist.Normal(40, 10.0))\n",
    "    with pyro.plate('a', obs['sensor'].shape[0]):\n",
    "        temp = pyro.sample('temp', dist.Normal(mean_temp, 2.0))\n",
    "        sensor = pyro.sample('sensor', dist.Normal(temp, 1.0), obs=obs['sensor'])\n",
    "\n",
    "#Run inference\n",
    "svi(model, obs, guide, num_steps=1000, verbose=False)\n",
    "\n",
    "#Print results\n",
    "print(f\"P(Temperature|Sensor={np.array2string(obs['sensor'].numpy(), precision=2)}) = \")\n",
    "print(dist.Normal(pyro.param(\"mean\").item(), pyro.param(\"scale\").item()))\n",
    "\n",
    "x = np.linspace(16, 30, 100)\n",
    "plt.plot(x, stats.norm.pdf(x, pyro.param(\"mean\").item(), pyro.param(\"scale\").item()), label='Posterior')\n",
    "point = 18\n",
    "plt.plot([point, point],[0., 1.], label='Point Estimate')\n",
    "plt.xlim(16,30)\n",
    "plt.legend()\n",
    "plt.show()"
   ]
  },
  {
   "cell_type": "markdown",
   "metadata": {
    "id": "uf7kVC-hL-03"
   },
   "source": [
    "<img src=\"https://github.com/PGM-Lab/probai-2021-pyro/blob/main/Day1/Figures/blue.png?raw=1\" alt=\"Drawing\" width=2000 height=20>\n",
    "\n",
    "\n",
    "# Icecream Shop\n",
    "\n",
    "In this self study session, you will be modeling the sales in an ice cream shop. Below you will find an initial specification, and in the following sections you should elaborate on this initial specificaton.\n",
    "\n",
    "The basis for our model is that \n",
    "* We **record the ice-cream sales and the average temperature of the day** (using a temperature sensor).\n",
    "\n",
    "* We know **temperature affects the sales** of ice-creams.\n",
    "\n",
    "* We want to **precisely model** how temperature affects ice-cream sales.\n",
    "\n",
    "<center>\n",
    "<img src=\"https://github.com/PGM-Lab/probai-2021-pyro/raw/main/Day1/Figures/Ice-cream_shop_-_Florida.jpg\" alt=\"Drawing\" width=300 >\n",
    "</center>\n",
    "\n",
    "Note that the model given below is a extension of the temperature model that we explored during the last lecture.\n"
   ]
  },
  {
   "cell_type": "markdown",
   "metadata": {
    "id": "uv2fWAHxDRxO"
   },
   "source": [
    "<img src=\"https://github.com/PGM-Lab/probai-2021-pyro/blob/main/Day1/Figures/blue.png?raw=1\" alt=\"Drawing\" width=2000 height=20>\n",
    "\n",
    "\n",
    "## Model specification\n",
    "\n",
    "* We have **observations** from temperature and sales:\n",
    ">- The relation between the daily temperature $t_i$ and the measured temperature $s_{t,i}$ will be modeled with a Normal distribution as in the last lecture. \n",
    "* Daily sales $s_i$ are modeled with a <a href=\"https://en.wikipedia.org/wiki/Poisson_distribution\">Poisson distribution</a>, which expresses the probability of a given number of sales per day based on a so-called rate parameter (the mean and variance of the Poisson distribution is also equal to the rate parameeter):\n",
    ">- We assume that the rate of the Poisson distribution **linearly depends of the real temperature**.\n",
    "\n",
    "The figure below gives a formal description of the model:\n",
    "<center>\n",
    "<img src=\"https://github.com/PGM-Lab/probai-2021-pyro/blob/main/Day1/Figures/Ice-Cream-Shop-Model.png?raw=1\" alt=\"Drawing\" width=700>\n",
    "</center>\n",
    "\n"
   ]
  },
  {
   "cell_type": "markdown",
   "metadata": {},
   "source": [
    "### Data"
   ]
  },
  {
   "cell_type": "code",
   "execution_count": 1,
   "metadata": {},
   "outputs": [
    {
     "ename": "NameError",
     "evalue": "name 'torch' is not defined",
     "output_type": "error",
     "traceback": [
      "\u001b[0;31m---------------------------------------------------------------------------\u001b[0m",
      "\u001b[0;31mNameError\u001b[0m                                 Traceback (most recent call last)",
      "Cell \u001b[0;32mIn[1], line 2\u001b[0m\n\u001b[1;32m      1\u001b[0m \u001b[38;5;66;03m#The observatons   \u001b[39;00m\n\u001b[0;32m----> 2\u001b[0m obs \u001b[38;5;241m=\u001b[39m {\u001b[38;5;124m'\u001b[39m\u001b[38;5;124msensor\u001b[39m\u001b[38;5;124m'\u001b[39m: \u001b[43mtorch\u001b[49m\u001b[38;5;241m.\u001b[39mtensor([\u001b[38;5;241m18.\u001b[39m, \u001b[38;5;241m18.7\u001b[39m, \u001b[38;5;241m19.2\u001b[39m, \u001b[38;5;241m17.8\u001b[39m, \u001b[38;5;241m20.3\u001b[39m, \u001b[38;5;241m22.4\u001b[39m, \u001b[38;5;241m20.3\u001b[39m, \u001b[38;5;241m21.2\u001b[39m, \u001b[38;5;241m19.5\u001b[39m, \u001b[38;5;241m20.1\u001b[39m]),\n\u001b[1;32m      3\u001b[0m        \u001b[38;5;124m'\u001b[39m\u001b[38;5;124msales\u001b[39m\u001b[38;5;124m'\u001b[39m: torch\u001b[38;5;241m.\u001b[39mtensor([\u001b[38;5;241m46.\u001b[39m, \u001b[38;5;241m47.\u001b[39m, \u001b[38;5;241m49.\u001b[39m, \u001b[38;5;241m44.\u001b[39m, \u001b[38;5;241m50.\u001b[39m, \u001b[38;5;241m54.\u001b[39m, \u001b[38;5;241m51.\u001b[39m, \u001b[38;5;241m52.\u001b[39m, \u001b[38;5;241m49.\u001b[39m, \u001b[38;5;241m53.\u001b[39m])}\n",
      "\u001b[0;31mNameError\u001b[0m: name 'torch' is not defined"
     ]
    }
   ],
   "source": [
    "#The observatons   \n",
    "obs = {'sensor': torch.tensor([18., 18.7, 19.2, 17.8, 20.3, 22.4, 20.3, 21.2, 19.5, 20.1]),\n",
    "       'sales': torch.tensor([46., 47., 49., 44., 50., 54., 51., 52., 49., 53.])}"
   ]
  },
  {
   "cell_type": "markdown",
   "metadata": {},
   "source": [
    "### Pyro specification of the ice-cream model"
   ]
  },
  {
   "cell_type": "code",
   "execution_count": 43,
   "metadata": {
    "id": "HR8bu27OL-03"
   },
   "outputs": [],
   "source": [
    "def model(obs):\n",
    "    mean_temp = pyro.sample('mean_temp', dist.Normal(15.0, 2.0))\n",
    "    alpha = pyro.sample('alpha', dist.Normal(0.0, 100.0))\n",
    "    beta = pyro.sample('beta', dist.Normal(0.0, 100.0))\n",
    "\n",
    "    with pyro.plate('a', obs['sensor'].shape[0]):\n",
    "        temp = pyro.sample('temp', dist.Normal(mean_temp, 2.0))\n",
    "        sensor = pyro.sample('sensor', dist.Normal(temp, 1.0), obs=obs['sensor'])\n",
    "        rate = torch.max(torch.tensor(0.001), alpha + beta*temp)\n",
    "        sales = pyro.sample('sales', dist.Poisson(rate), obs=obs['sales'])"
   ]
  },
  {
   "cell_type": "code",
   "execution_count": 44,
   "metadata": {},
   "outputs": [
    {
     "data": {
      "image/svg+xml": [
       "<?xml version=\"1.0\" encoding=\"UTF-8\" standalone=\"no\"?>\n",
       "<!DOCTYPE svg PUBLIC \"-//W3C//DTD SVG 1.1//EN\"\n",
       " \"http://www.w3.org/Graphics/SVG/1.1/DTD/svg11.dtd\">\n",
       "<!-- Generated by graphviz version 9.0.0 (20230911.1827)\n",
       " -->\n",
       "<!-- Pages: 1 -->\n",
       "<svg width=\"318pt\" height=\"229pt\"\n",
       " viewBox=\"0.00 0.00 318.00 228.50\" xmlns=\"http://www.w3.org/2000/svg\" xmlns:xlink=\"http://www.w3.org/1999/xlink\">\n",
       "<g id=\"graph0\" class=\"graph\" transform=\"scale(1 1) rotate(0) translate(4 224.5)\">\n",
       "<polygon fill=\"white\" stroke=\"none\" points=\"-4,4 -4,-224.5 314,-224.5 314,4 -4,4\"/>\n",
       "<g id=\"clust1\" class=\"cluster\">\n",
       "<title>cluster_a</title>\n",
       "<polygon fill=\"none\" stroke=\"black\" points=\"8,-8 8,-156.5 168,-156.5 168,-8 8,-8\"/>\n",
       "<text text-anchor=\"middle\" x=\"157\" y=\"-15.2\" font-family=\"Times,serif\" font-size=\"14.00\">a</text>\n",
       "</g>\n",
       "<!-- mean_temp -->\n",
       "<g id=\"node1\" class=\"node\">\n",
       "<title>mean_temp</title>\n",
       "<ellipse fill=\"white\" stroke=\"black\" cx=\"89\" cy=\"-202.5\" rx=\"54.93\" ry=\"18\"/>\n",
       "<text text-anchor=\"middle\" x=\"89\" y=\"-197.45\" font-family=\"Times,serif\" font-size=\"14.00\">mean_temp</text>\n",
       "</g>\n",
       "<!-- temp -->\n",
       "<g id=\"node4\" class=\"node\">\n",
       "<title>temp</title>\n",
       "<ellipse fill=\"white\" stroke=\"black\" cx=\"89\" cy=\"-130.5\" rx=\"29.86\" ry=\"18\"/>\n",
       "<text text-anchor=\"middle\" x=\"89\" y=\"-125.45\" font-family=\"Times,serif\" font-size=\"14.00\">temp</text>\n",
       "</g>\n",
       "<!-- mean_temp&#45;&gt;temp -->\n",
       "<g id=\"edge1\" class=\"edge\">\n",
       "<title>mean_temp&#45;&gt;temp</title>\n",
       "<path fill=\"none\" stroke=\"black\" d=\"M89,-184.2C89,-176.91 89,-168.23 89,-160.04\"/>\n",
       "<polygon fill=\"black\" stroke=\"black\" points=\"92.5,-160.12 89,-150.12 85.5,-160.12 92.5,-160.12\"/>\n",
       "</g>\n",
       "<!-- alpha -->\n",
       "<g id=\"node2\" class=\"node\">\n",
       "<title>alpha</title>\n",
       "<ellipse fill=\"white\" stroke=\"black\" cx=\"207\" cy=\"-130.5\" rx=\"30.88\" ry=\"18\"/>\n",
       "<text text-anchor=\"middle\" x=\"207\" y=\"-125.45\" font-family=\"Times,serif\" font-size=\"14.00\">alpha</text>\n",
       "</g>\n",
       "<!-- sales -->\n",
       "<g id=\"node6\" class=\"node\">\n",
       "<title>sales</title>\n",
       "<ellipse fill=\"gray\" stroke=\"black\" cx=\"131\" cy=\"-58.5\" rx=\"28.83\" ry=\"18\"/>\n",
       "<text text-anchor=\"middle\" x=\"131\" y=\"-53.45\" font-family=\"Times,serif\" font-size=\"14.00\">sales</text>\n",
       "</g>\n",
       "<!-- alpha&#45;&gt;sales -->\n",
       "<g id=\"edge3\" class=\"edge\">\n",
       "<title>alpha&#45;&gt;sales</title>\n",
       "<path fill=\"none\" stroke=\"black\" d=\"M190.88,-114.65C180.47,-105.06 166.72,-92.4 155.03,-81.63\"/>\n",
       "<polygon fill=\"black\" stroke=\"black\" points=\"157.41,-79.07 147.69,-74.87 152.67,-84.22 157.41,-79.07\"/>\n",
       "</g>\n",
       "<!-- beta -->\n",
       "<g id=\"node3\" class=\"node\">\n",
       "<title>beta</title>\n",
       "<ellipse fill=\"white\" stroke=\"black\" cx=\"283\" cy=\"-130.5\" rx=\"27\" ry=\"18\"/>\n",
       "<text text-anchor=\"middle\" x=\"283\" y=\"-125.45\" font-family=\"Times,serif\" font-size=\"14.00\">beta</text>\n",
       "</g>\n",
       "<!-- beta&#45;&gt;sales -->\n",
       "<g id=\"edge4\" class=\"edge\">\n",
       "<title>beta&#45;&gt;sales</title>\n",
       "<path fill=\"none\" stroke=\"black\" d=\"M261.32,-119.21C256.6,-116.98 251.64,-114.65 247,-112.5 219.09,-99.53 187.29,-85.03 164.06,-74.47\"/>\n",
       "<polygon fill=\"black\" stroke=\"black\" points=\"165.64,-71.35 155.09,-70.4 162.75,-77.72 165.64,-71.35\"/>\n",
       "</g>\n",
       "<!-- sensor -->\n",
       "<g id=\"node5\" class=\"node\">\n",
       "<title>sensor</title>\n",
       "<ellipse fill=\"gray\" stroke=\"black\" cx=\"50\" cy=\"-58.5\" rx=\"34.46\" ry=\"18\"/>\n",
       "<text text-anchor=\"middle\" x=\"50\" y=\"-53.45\" font-family=\"Times,serif\" font-size=\"14.00\">sensor</text>\n",
       "</g>\n",
       "<!-- temp&#45;&gt;sensor -->\n",
       "<g id=\"edge2\" class=\"edge\">\n",
       "<title>temp&#45;&gt;sensor</title>\n",
       "<path fill=\"none\" stroke=\"black\" d=\"M79.76,-112.91C75.24,-104.8 69.7,-94.85 64.62,-85.75\"/>\n",
       "<polygon fill=\"black\" stroke=\"black\" points=\"67.84,-84.32 59.91,-77.29 61.72,-87.73 67.84,-84.32\"/>\n",
       "</g>\n",
       "<!-- temp&#45;&gt;sales -->\n",
       "<g id=\"edge5\" class=\"edge\">\n",
       "<title>temp&#45;&gt;sales</title>\n",
       "<path fill=\"none\" stroke=\"black\" d=\"M98.74,-113.26C103.72,-104.96 109.91,-94.65 115.52,-85.29\"/>\n",
       "<polygon fill=\"black\" stroke=\"black\" points=\"118.39,-87.32 120.53,-76.95 112.39,-83.72 118.39,-87.32\"/>\n",
       "</g>\n",
       "</g>\n",
       "</svg>\n"
      ],
      "text/plain": [
       "<graphviz.graphs.Digraph at 0x110db6350>"
      ]
     },
     "execution_count": 44,
     "metadata": {},
     "output_type": "execute_result"
    }
   ],
   "source": [
    "#Visualize the model\n",
    "pyro.render_model(model, model_args=(obs, ))"
   ]
  },
  {
   "cell_type": "markdown",
   "metadata": {
    "id": "gT34C5CpDmPZ"
   },
   "source": [
    "<img src=\"https://github.com/PGM-Lab/probai-2021-pyro/blob/main/Day1/Figures/blue.png?raw=1\" alt=\"Drawing\" width=2000 height=20>\n"
   ]
  },
  {
   "cell_type": "markdown",
   "metadata": {},
   "source": [
    "## Auxiliary functions needed for inference and learning\n",
    "Like before we also need an some auxiliary functions to take care of inference. We haven't disucsssed the details of these yet, so just skim this part for now."
   ]
  },
  {
   "cell_type": "code",
   "execution_count": 45,
   "metadata": {
    "cellView": "form",
    "id": "nkOSF-WlL-03"
   },
   "outputs": [],
   "source": [
    "#Define the guide\n",
    "def guide(obs):\n",
    "    mean = pyro.param(\"mean\", torch.mean(obs['sensor']))\n",
    "    scale = pyro.param(\"scale\", torch.tensor(1.), constraint=constraints.positive)\n",
    "    mean_temp = pyro.sample('mean_temp', dist.Normal(mean, scale))\n",
    "\n",
    "    alpha_mean = pyro.param(\"alpha_mean\", torch.mean(obs['sensor']))\n",
    "    alpha_scale = pyro.param(\"alpha_scale\", torch.tensor(1.), constraint=constraints.positive)\n",
    "    alpha = pyro.sample('alpha', dist.Normal(alpha_mean, alpha_scale))\n",
    "\n",
    "    beta_mean = pyro.param(\"beta_mean\", torch.tensor(1.0))\n",
    "    beta_scale = pyro.param(\"beta_scale\", torch.tensor(1.), constraint=constraints.positive)\n",
    "    beta = pyro.sample('beta', dist.Normal(beta_mean, beta_scale))\n",
    "\n",
    "    with pyro.plate('a', obs['sensor'].shape[0]) as i:\n",
    "        mean_i = pyro.param(f'mean_{i}', obs['sensor'][i])\n",
    "        scale_i = pyro.param(f'scale_{i}', torch.tensor(1.), constraint=constraints.positive)\n",
    "        temp = pyro.sample('temp', dist.Normal(mean_i, scale_i))"
   ]
  },
  {
   "cell_type": "code",
   "execution_count": 46,
   "metadata": {},
   "outputs": [],
   "source": [
    "from torch.distributions import constraints\n",
    "from pyro.optim import SGD\n",
    "from pyro.infer import Trace_ELBO\n",
    "import matplotlib.pyplot as plt\n",
    "from pyro.contrib.autoguide import AutoDiagonalNormal\n",
    "\n",
    "\n",
    "def svi(temperature_model, obs, guide=None, num_steps = 5000, plot = False, verbose=True):\n",
    "    pyro.clear_param_store()\n",
    "    \n",
    "    if guide is None:\n",
    "        guide = AutoDiagonalNormal(model)\n",
    "    \n",
    "    svi = pyro.infer.SVI(model=temperature_model,\n",
    "                         guide=guide,\n",
    "                         optim=SGD({\"lr\": 0.001, \"momentum\":0.1}),\n",
    "                         loss=Trace_ELBO())\n",
    "\n",
    "    losses, a,b  = [], [], []\n",
    "    \n",
    "    for t in range(num_steps):\n",
    "        losses.append(svi.step(obs))\n",
    "        if t%250==0:\n",
    "            print('Step: '+str(t)+'. Loss: ' +str(losses[-1]))\n",
    "            \n",
    "\n",
    "    if (plot):\n",
    "        plt.plot(losses)\n",
    "        plt.title(\"ELBO\")\n",
    "        plt.xlabel(\"step\")\n",
    "        plt.ylabel(\"loss\")\n",
    "        plt.show()\n",
    "        \n",
    "    if verbose:\n",
    "        print(\"Inference results:\")\n",
    "        for name, value in pyro.get_param_store().items():\n",
    "            print(name, pyro.param(name))"
   ]
  },
  {
   "cell_type": "markdown",
   "metadata": {},
   "source": [
    "## Learning and inference\n",
    "\n",
    "Let's take our model out for a test run"
   ]
  },
  {
   "cell_type": "code",
   "execution_count": 47,
   "metadata": {
    "colab": {
     "base_uri": "https://localhost:8080/"
    },
    "id": "gmaOTBYAL-03",
    "outputId": "7a6bd327-e423-4a9b-8cc0-96fa95cdaf9c"
   },
   "outputs": [
    {
     "name": "stdout",
     "output_type": "stream",
     "text": [
      "Step: 0. Loss: 176.243015229702\n",
      "Step: 250. Loss: 62.81940758228302\n",
      "Step: 500. Loss: 62.021078526973724\n",
      "Step: 750. Loss: 62.4243597984314\n",
      "Posterior temperature mean\n",
      "Normal(loc: 19.31369972229004, scale: 0.6283314228057861)\n",
      "\n",
      "Posterior alpha\n",
      "Normal(loc: 19.771299362182617, scale: 1.8280093669891357)\n",
      "\n",
      "Posterior beta\n",
      "Normal(loc: 1.4687271118164062, scale: 0.11980149149894714)\n"
     ]
    }
   ],
   "source": [
    "#Run inference\n",
    "svi(model, obs, guide, num_steps=1000, verbose=False)\n",
    "\n",
    "#Print results    \n",
    "print(\"Posterior temperature mean\")\n",
    "print(dist.Normal(pyro.param(\"mean\").item(), pyro.param(\"scale\").item()))\n",
    "print(\"\")\n",
    "print(\"Posterior alpha\")\n",
    "print(dist.Normal(pyro.param(\"alpha_mean\").item(), pyro.param(\"alpha_scale\").item()))\n",
    "print(\"\")\n",
    "print(\"Posterior beta\")\n",
    "print(dist.Normal(pyro.param(\"beta_mean\").item(), pyro.param(\"beta_scale\").item()))"
   ]
  },
  {
   "cell_type": "markdown",
   "metadata": {},
   "source": [
    "<img src=\"https://github.com/PGM-Lab/probai-2021-pyro/blob/main/Day1/Figures/blue.png?raw=1\" alt=\"Drawing\" width=2000 height=20>\n",
    "\n",
    "\n",
    "### <span style=\"color:red\">Exercise 1: Analyze the model above </span> \n",
    "* Consider the model specification together with the posterior distributions over the model parameters. Do the these distributions appear reasonabale to you considering the model and the data that you have supplied?"
   ]
  },
  {
   "cell_type": "markdown",
   "metadata": {},
   "source": [
    "<center>\n",
    "<img src=\"https://github.com/PGM-Lab/probai-2021-pyro/blob/main/Day1/Figures/Ice-Cream-Shop-Model.png?raw=1\" alt=\"Drawing\" width=600>\n",
    "</center>"
   ]
  },
  {
   "cell_type": "markdown",
   "metadata": {},
   "source": [
    "Posterior distribution in bayesian parameter learning:\n",
    "$$\n",
    "p(\\theta \\mid D) = \\dfrac{p(\\theta)p(D \\mid \\theta)}{p(D)}\n",
    "$$\n",
    "where\n",
    "* $p(\\theta)$ is the prior distribution\n",
    "* $p(D \\mid \\theta)$ is the likelihood function of observed data $D$ given parameters $\\theta$\n",
    "* $p(D)$ is the marginal likelihood (or evidence) under all posible configurations of $\\theta$"
   ]
  },
  {
   "cell_type": "markdown",
   "metadata": {},
   "source": [
    "**Data**:\n",
    "* Sensor ($s_{t,i}$): 18., 18.7, 19.2, 17.8, 20.3, 22.4, 20.3, 21.2, 19.5, 20.1\n",
    "* Sales ($s_i$): 46., 47., 49., 44., 50., 54., 51., 52., 49., 53."
   ]
  },
  {
   "cell_type": "markdown",
   "metadata": {},
   "source": [
    "Results:\n",
    "* $\\mu_t \\sim \\mathcal{N}(19.31, 0.63)$\n",
    "* $\\alpha \\sim \\mathcal{N}(19.77, 1.83)$\n",
    "* $\\beta \\sim \\mathcal{N}(1.46, 0.11)$\n",
    "\n",
    "Inferences:\n",
    "* The prior of $\\mu_t$ is given as $\\mathcal{N}(15,2)$ and the observed sensor measurements lie in the range $[17.8, 22.4]$. The sensor observations are generally higher than the prior mean. This tendency is reflected in the likelihood function and consequently reflected in the posterior, providing reasonable grounds for a posterior mean of 19.31.    \n",
    "* The posterior for $\\alpha$ variable, which represents the base rate of ice-cream sales independent of temperature, is centered around 19.77. Given that the prior distribution had $\\mu = 0$ and $\\sigma = 100$, and all sales observations lies in a relatively narrow range [$44, 54$], it will cause the likelihood function to shift towards these observations.\n",
    "* The posterior for $\\beta$, which captures the linear dependency of sales on the real temperature, centers around 1.47. This suggests that for each unit increase of temperature, the sales increases with an average of 1.47. "
   ]
  },
  {
   "cell_type": "markdown",
   "metadata": {
    "id": "4ulfx96AL-04"
   },
   "source": [
    "<img src=\"https://github.com/PGM-Lab/probai-2021-pyro/blob/main/Day1/Figures/blue.png?raw=1\" alt=\"Drawing\" width=2000 height=20>\n",
    "\n",
    "\n",
    "### <span style=\"color:red\">Exercise 2: Introduce Humidity in the Icecream shop model </span> \n",
    "\n",
    "In this exercise you should extend the model above to also account for the daily humidity $h_i$:\n",
    "* Assume we also have a bunch of daily humidity sensor measurements $s_{h,i}$.\n",
    "* Assume the **sales are also linearly influenced by the humidity**.\n",
    "\n",
    "Extend the model above in order to integrate these new pieces of information.\n",
    "\n",
    "The figure below gives a formal description of the model:\n",
    "<center>\n",
    "<img src=\"https://github.com/PGM-Lab/probai-2021-pyro/blob/main/Day1/Figures/Ice-Cream-Shop-Model-Humidity.png?raw=1\" alt=\"Drawing\" width=1000>\n",
    "</center>\n",
    "\n",
    "\n"
   ]
  },
  {
   "cell_type": "code",
   "execution_count": 50,
   "metadata": {
    "id": "8UxOUxuTL-04"
   },
   "outputs": [],
   "source": [
    "#The observatons   \n",
    "obs = {'sensor': torch.tensor([18., 18.7, 19.2, 17.8, 20.3, 22.4, 20.3, 21.2, 19.5, 20.1]),\n",
    "       'sales': torch.tensor([46., 47., 49., 44., 50., 54., 51., 52., 49., 53.]),\n",
    "       'sensor_humidity': torch.tensor([82.8, 87.6, 69.1, 74.2, 80.3, 94.2, 91.2, 92.2, 99.1, 93.2])}\n",
    "\n",
    "\n",
    "def model(obs):\n",
    "    mean_temp = pyro.sample('mean_temp', dist.Normal(15.0, 2.0))\n",
    "    \n",
    "    # Introduce a random variable \"mean_humidity\"\n",
    "    mean_humidity = pyro.sample('mean_humidity', dist.Normal(80.0, 5.0))\n",
    "    \n",
    "    alpha = pyro.sample('alpha', dist.Normal(0.0, 100.0))\n",
    "    beta = pyro.sample('beta', dist.Normal(0.0, 100.0))\n",
    "    \n",
    "    # Introduce a coefficient for the humidity \"gamma\"\n",
    "    gamma = pyro.param(\"gamma\", dist.Normal(0.0, 100.0))\n",
    "\n",
    "    with pyro.plate('a', obs['sensor'].shape[0]):\n",
    "        temp = pyro.sample('temp', dist.Normal(mean_temp, 2.0))\n",
    "        sensor = pyro.sample('sensor', dist.Normal(temp, 1.0), obs=obs['sensor'])\n",
    "        \n",
    "        # Add the 'humidity' variable and the 'sensor_humidity' variable\n",
    "        humidity = pyro.sample('humidity', dist.Normal(mean_humidity, 2.0))\n",
    "        sensor_humidity = pyro.sample('sensor_humidity', dist.Normal(humidity, 1.0), obs=obs['sensor_humidity']) \n",
    "        \n",
    "        # Add the linear dependency for the rate with respect to temp and humidity\n",
    "        rate = torch.max(torch.tensor(0.001), alpha + beta*temp + gamma*humidity)\n",
    "        sales = pyro.sample('sales', dist.Poisson(rate), obs=obs['sales'])"
   ]
  },
  {
   "cell_type": "code",
   "execution_count": 52,
   "metadata": {},
   "outputs": [
    {
     "data": {
      "image/svg+xml": [
       "<?xml version=\"1.0\" encoding=\"UTF-8\" standalone=\"no\"?>\n",
       "<!DOCTYPE svg PUBLIC \"-//W3C//DTD SVG 1.1//EN\"\n",
       " \"http://www.w3.org/Graphics/SVG/1.1/DTD/svg11.dtd\">\n",
       "<!-- Generated by graphviz version 9.0.0 (20230911.1827)\n",
       " -->\n",
       "<!-- Pages: 1 -->\n",
       "<svg width=\"578pt\" height=\"229pt\"\n",
       " viewBox=\"0.00 0.00 577.88 228.50\" xmlns=\"http://www.w3.org/2000/svg\" xmlns:xlink=\"http://www.w3.org/1999/xlink\">\n",
       "<g id=\"graph0\" class=\"graph\" transform=\"scale(1 1) rotate(0) translate(4 224.5)\">\n",
       "<polygon fill=\"white\" stroke=\"none\" points=\"-4,4 -4,-224.5 573.88,-224.5 573.88,4 -4,4\"/>\n",
       "<g id=\"clust1\" class=\"cluster\">\n",
       "<title>cluster_a</title>\n",
       "<polygon fill=\"none\" stroke=\"black\" points=\"8,-8 8,-156.5 332,-156.5 332,-8 8,-8\"/>\n",
       "<text text-anchor=\"middle\" x=\"321\" y=\"-15.2\" font-family=\"Times,serif\" font-size=\"14.00\">a</text>\n",
       "</g>\n",
       "<!-- mean_temp -->\n",
       "<g id=\"node1\" class=\"node\">\n",
       "<title>mean_temp</title>\n",
       "<ellipse fill=\"white\" stroke=\"black\" cx=\"71\" cy=\"-202.5\" rx=\"54.93\" ry=\"18\"/>\n",
       "<text text-anchor=\"middle\" x=\"71\" y=\"-197.45\" font-family=\"Times,serif\" font-size=\"14.00\">mean_temp</text>\n",
       "</g>\n",
       "<!-- temp -->\n",
       "<g id=\"node6\" class=\"node\">\n",
       "<title>temp</title>\n",
       "<ellipse fill=\"white\" stroke=\"black\" cx=\"71\" cy=\"-130.5\" rx=\"29.86\" ry=\"18\"/>\n",
       "<text text-anchor=\"middle\" x=\"71\" y=\"-125.45\" font-family=\"Times,serif\" font-size=\"14.00\">temp</text>\n",
       "</g>\n",
       "<!-- mean_temp&#45;&gt;temp -->\n",
       "<g id=\"edge1\" class=\"edge\">\n",
       "<title>mean_temp&#45;&gt;temp</title>\n",
       "<path fill=\"none\" stroke=\"black\" d=\"M71,-184.2C71,-176.91 71,-168.23 71,-160.04\"/>\n",
       "<polygon fill=\"black\" stroke=\"black\" points=\"74.5,-160.12 71,-150.12 67.5,-160.12 74.5,-160.12\"/>\n",
       "</g>\n",
       "<!-- mean_humidity -->\n",
       "<g id=\"node2\" class=\"node\">\n",
       "<title>mean_humidity</title>\n",
       "<ellipse fill=\"white\" stroke=\"black\" cx=\"256\" cy=\"-202.5\" rx=\"69.78\" ry=\"18\"/>\n",
       "<text text-anchor=\"middle\" x=\"256\" y=\"-197.45\" font-family=\"Times,serif\" font-size=\"14.00\">mean_humidity</text>\n",
       "</g>\n",
       "<!-- humidity -->\n",
       "<g id=\"node8\" class=\"node\">\n",
       "<title>humidity</title>\n",
       "<ellipse fill=\"white\" stroke=\"black\" cx=\"256\" cy=\"-130.5\" rx=\"44.7\" ry=\"18\"/>\n",
       "<text text-anchor=\"middle\" x=\"256\" y=\"-125.45\" font-family=\"Times,serif\" font-size=\"14.00\">humidity</text>\n",
       "</g>\n",
       "<!-- mean_humidity&#45;&gt;humidity -->\n",
       "<g id=\"edge3\" class=\"edge\">\n",
       "<title>mean_humidity&#45;&gt;humidity</title>\n",
       "<path fill=\"none\" stroke=\"black\" d=\"M256,-184.2C256,-176.91 256,-168.23 256,-160.04\"/>\n",
       "<polygon fill=\"black\" stroke=\"black\" points=\"259.5,-160.12 256,-150.12 252.5,-160.12 259.5,-160.12\"/>\n",
       "</g>\n",
       "<!-- alpha -->\n",
       "<g id=\"node3\" class=\"node\">\n",
       "<title>alpha</title>\n",
       "<ellipse fill=\"white\" stroke=\"black\" cx=\"539\" cy=\"-130.5\" rx=\"30.88\" ry=\"18\"/>\n",
       "<text text-anchor=\"middle\" x=\"539\" y=\"-125.45\" font-family=\"Times,serif\" font-size=\"14.00\">alpha</text>\n",
       "</g>\n",
       "<!-- sales -->\n",
       "<g id=\"node10\" class=\"node\">\n",
       "<title>sales</title>\n",
       "<ellipse fill=\"gray\" stroke=\"black\" cx=\"295\" cy=\"-58.5\" rx=\"28.83\" ry=\"18\"/>\n",
       "<text text-anchor=\"middle\" x=\"295\" y=\"-53.45\" font-family=\"Times,serif\" font-size=\"14.00\">sales</text>\n",
       "</g>\n",
       "<!-- alpha&#45;&gt;sales -->\n",
       "<g id=\"edge5\" class=\"edge\">\n",
       "<title>alpha&#45;&gt;sales</title>\n",
       "<path fill=\"none\" stroke=\"black\" d=\"M515.11,-118.67C509.86,-116.48 504.29,-114.3 499,-112.5 442.28,-93.2 374.67,-76.91 333.3,-67.67\"/>\n",
       "<polygon fill=\"black\" stroke=\"black\" points=\"334.1,-64.26 323.58,-65.53 332.59,-71.1 334.1,-64.26\"/>\n",
       "</g>\n",
       "<!-- beta -->\n",
       "<g id=\"node4\" class=\"node\">\n",
       "<title>beta</title>\n",
       "<ellipse fill=\"white\" stroke=\"black\" cx=\"367\" cy=\"-130.5\" rx=\"27\" ry=\"18\"/>\n",
       "<text text-anchor=\"middle\" x=\"367\" y=\"-125.45\" font-family=\"Times,serif\" font-size=\"14.00\">beta</text>\n",
       "</g>\n",
       "<!-- beta&#45;&gt;sales -->\n",
       "<g id=\"edge6\" class=\"edge\">\n",
       "<title>beta&#45;&gt;sales</title>\n",
       "<path fill=\"none\" stroke=\"black\" d=\"M352.08,-115C342.23,-105.42 329.14,-92.69 317.97,-81.84\"/>\n",
       "<polygon fill=\"black\" stroke=\"black\" points=\"320.59,-79.5 310.98,-75.04 315.71,-84.52 320.59,-79.5\"/>\n",
       "</g>\n",
       "<!-- gamma -->\n",
       "<g id=\"node5\" class=\"node\">\n",
       "<title>gamma</title>\n",
       "<ellipse fill=\"white\" stroke=\"black\" cx=\"451\" cy=\"-130.5\" rx=\"39.07\" ry=\"18\"/>\n",
       "<text text-anchor=\"middle\" x=\"451\" y=\"-125.45\" font-family=\"Times,serif\" font-size=\"14.00\">gamma</text>\n",
       "</g>\n",
       "<!-- gamma&#45;&gt;sales -->\n",
       "<g id=\"edge9\" class=\"edge\">\n",
       "<title>gamma&#45;&gt;sales</title>\n",
       "<path fill=\"none\" stroke=\"black\" d=\"M423.83,-117.31C397.2,-105.36 356.57,-87.13 328.08,-74.34\"/>\n",
       "<polygon fill=\"black\" stroke=\"black\" points=\"329.75,-71.26 319.19,-70.35 326.88,-77.64 329.75,-71.26\"/>\n",
       "</g>\n",
       "<!-- sensor -->\n",
       "<g id=\"node7\" class=\"node\">\n",
       "<title>sensor</title>\n",
       "<ellipse fill=\"gray\" stroke=\"black\" cx=\"50\" cy=\"-58.5\" rx=\"34.46\" ry=\"18\"/>\n",
       "<text text-anchor=\"middle\" x=\"50\" y=\"-53.45\" font-family=\"Times,serif\" font-size=\"14.00\">sensor</text>\n",
       "</g>\n",
       "<!-- temp&#45;&gt;sensor -->\n",
       "<g id=\"edge2\" class=\"edge\">\n",
       "<title>temp&#45;&gt;sensor</title>\n",
       "<path fill=\"none\" stroke=\"black\" d=\"M65.92,-112.55C63.68,-105.1 60.99,-96.14 58.47,-87.72\"/>\n",
       "<polygon fill=\"black\" stroke=\"black\" points=\"61.84,-86.8 55.62,-78.23 55.14,-88.81 61.84,-86.8\"/>\n",
       "</g>\n",
       "<!-- temp&#45;&gt;sales -->\n",
       "<g id=\"edge7\" class=\"edge\">\n",
       "<title>temp&#45;&gt;sales</title>\n",
       "<path fill=\"none\" stroke=\"black\" d=\"M98.5,-122.98C135.14,-113.99 201.79,-96.6 257,-76.5 258.77,-75.85 260.58,-75.16 262.4,-74.44\"/>\n",
       "<polygon fill=\"black\" stroke=\"black\" points=\"263.46,-77.79 271.32,-70.69 260.74,-71.34 263.46,-77.79\"/>\n",
       "</g>\n",
       "<!-- sensor_humidity -->\n",
       "<g id=\"node9\" class=\"node\">\n",
       "<title>sensor_humidity</title>\n",
       "<ellipse fill=\"gray\" stroke=\"black\" cx=\"175\" cy=\"-58.5\" rx=\"72.85\" ry=\"18\"/>\n",
       "<text text-anchor=\"middle\" x=\"175\" y=\"-53.45\" font-family=\"Times,serif\" font-size=\"14.00\">sensor_humidity</text>\n",
       "</g>\n",
       "<!-- humidity&#45;&gt;sensor_humidity -->\n",
       "<g id=\"edge4\" class=\"edge\">\n",
       "<title>humidity&#45;&gt;sensor_humidity</title>\n",
       "<path fill=\"none\" stroke=\"black\" d=\"M237.62,-113.62C227.35,-104.74 214.35,-93.51 202.86,-83.58\"/>\n",
       "<polygon fill=\"black\" stroke=\"black\" points=\"205.44,-81.18 195.58,-77.29 200.86,-86.47 205.44,-81.18\"/>\n",
       "</g>\n",
       "<!-- humidity&#45;&gt;sales -->\n",
       "<g id=\"edge8\" class=\"edge\">\n",
       "<title>humidity&#45;&gt;sales</title>\n",
       "<path fill=\"none\" stroke=\"black\" d=\"M265.44,-112.55C269.91,-104.53 275.36,-94.76 280.35,-85.8\"/>\n",
       "<polygon fill=\"black\" stroke=\"black\" points=\"283.37,-87.57 285.18,-77.13 277.25,-84.16 283.37,-87.57\"/>\n",
       "</g>\n",
       "</g>\n",
       "</svg>\n"
      ],
      "text/plain": [
       "<graphviz.graphs.Digraph at 0x159ba0e10>"
      ]
     },
     "execution_count": 52,
     "metadata": {},
     "output_type": "execute_result"
    }
   ],
   "source": [
    "#Visualize the model\n",
    "pyro.render_model(model, model_args=(obs, ))"
   ]
  },
  {
   "cell_type": "markdown",
   "metadata": {
    "id": "wC7ceQTkHrrg"
   },
   "source": [
    "<img src=\"https://github.com/PGM-Lab/probai-2021-pyro/blob/main/Day1/Figures/blue.png?raw=1\" alt=\"Drawing\" width=2000 height=20>\n",
    "\n",
    "Again we need a guide for performing inference (you need not worry about the details of this part)"
   ]
  },
  {
   "cell_type": "code",
   "execution_count": 53,
   "metadata": {
    "cellView": "form",
    "id": "zyR9EXz2L-04"
   },
   "outputs": [],
   "source": [
    "#@title\n",
    "#Auxiliary Guide Code\n",
    "def guide(obs):\n",
    "    mean = pyro.param(\"mean\", torch.mean(obs['sensor']))\n",
    "    scale = pyro.param(\"scale\", torch.tensor(1.), constraint=constraints.positive)\n",
    "    mean_temp = pyro.sample('mean_temp', dist.Normal(mean, scale))\n",
    "\n",
    "    meanH = pyro.param(\"meanH\", torch.mean(obs['sensor_humidity']))\n",
    "    scaleH = pyro.param(\"scaleH\", torch.tensor(1.), constraint=constraints.positive)\n",
    "    mean_humidity = pyro.sample('mean_humidity', dist.Normal(meanH, scaleH))\n",
    "\n",
    "\n",
    "    alpha_mean = pyro.param(\"alpha_mean\", torch.mean(obs['sensor']), constraint=constraints.positive)\n",
    "    alpha_scale = pyro.param(\"alpha_scale\", torch.tensor(1.), constraint=constraints.positive)\n",
    "    alpha = pyro.sample('alpha', dist.Normal(alpha_mean, alpha_scale))\n",
    "\n",
    "    beta_mean = pyro.param(\"beta_mean\", torch.tensor(1.0), constraint=constraints.positive)\n",
    "    beta_scale = pyro.param(\"beta_scale\", torch.tensor(1.), constraint=constraints.positive)\n",
    "    beta = pyro.sample('beta', dist.Normal(beta_mean, beta_scale))\n",
    "\n",
    "    gamma_mean = pyro.param(\"gamma_mean\", torch.tensor(1.0), constraint=constraints.positive)\n",
    "    gamma_scale = pyro.param(\"gamma_scale\", torch.tensor(1.), constraint=constraints.positive)\n",
    "    gamma = pyro.sample('gamma', dist.Normal(gamma_mean, gamma_scale))\n",
    "\n",
    "    with pyro.plate('a', obs['sensor'].shape[0]) as i:\n",
    "        mean_i = pyro.param('mean_i', obs['sensor'][i])\n",
    "        scale_i = pyro.param('scale_i', torch.tensor(1.), constraint=constraints.positive)\n",
    "        temp = pyro.sample('temp', dist.Normal(mean_i, scale_i))\n",
    "        meanH_i = pyro.param('meanH_i', obs['sensor_humidity'][i])\n",
    "        scaleH_i = pyro.param('scaleH_i', torch.tensor(1.), constraint=constraints.positive)\n",
    "        humidity = pyro.sample('humidity', dist.Normal(meanH_i, scaleH_i))"
   ]
  },
  {
   "cell_type": "code",
   "execution_count": 54,
   "metadata": {
    "colab": {
     "base_uri": "https://localhost:8080/"
    },
    "id": "NvIXRoVeL-05",
    "outputId": "d8287eee-ad25-4cf7-dcf8-ef7917a920ab"
   },
   "outputs": [
    {
     "name": "stdout",
     "output_type": "stream",
     "text": [
      "Step: 0. Loss: 189.13246154785156\n",
      "Step: 250. Loss: 180.05716663599014\n",
      "Step: 500. Loss: 180.16740810871124\n",
      "Step: 750. Loss: 174.83463406562805\n",
      "Inference results:\n",
      "mean tensor(19.2505, requires_grad=True)\n",
      "scale tensor(0.5960, grad_fn=<AddBackward0>)\n",
      "meanH tensor(86.2691, requires_grad=True)\n",
      "scaleH tensor(0.6793, grad_fn=<AddBackward0>)\n",
      "alpha_mean tensor(14.7744, grad_fn=<AddBackward0>)\n",
      "alpha_scale tensor(1.8915, grad_fn=<AddBackward0>)\n",
      "beta_mean tensor(0.8156, grad_fn=<AddBackward0>)\n",
      "beta_scale tensor(0.1119, grad_fn=<AddBackward0>)\n",
      "gamma_mean tensor(0.2069, grad_fn=<AddBackward0>)\n",
      "gamma_scale tensor(0.0259, grad_fn=<AddBackward0>)\n",
      "mean_i tensor([18.1944, 18.7596, 19.2982, 18.0206, 20.1741, 21.9628, 20.1707, 20.9292,\n",
      "        19.4445, 20.0206], requires_grad=True)\n",
      "scale_i tensor(0.8988, grad_fn=<AddBackward0>)\n",
      "meanH_i tensor([83.3389, 87.4115, 71.6890, 76.0178, 81.2163, 92.9914, 90.4789, 91.3281,\n",
      "        97.1388, 92.1565], requires_grad=True)\n",
      "scaleH_i tensor(0.9022, grad_fn=<AddBackward0>)\n",
      "Posterior Temperature Mean\n",
      "Normal(loc: 19.25052261352539, scale: 0.5959876775741577)\n",
      "\n",
      "Posterior Humidity Mean\n",
      "Normal(loc: 86.26909637451172, scale: 0.6792859435081482)\n",
      "\n",
      "Posterior Alpha\n",
      "Normal(loc: 14.774402618408203, scale: 1.8914929628372192)\n",
      "\n",
      "Posterior Beta\n",
      "Normal(loc: 0.8155562281608582, scale: 0.11193536967039108)\n",
      "\n",
      "Posterior Gamma\n",
      "Normal(loc: 0.20693059265613556, scale: 0.025906171649694443)\n"
     ]
    }
   ],
   "source": [
    "#Run inference\n",
    "svi(model, obs, guide, num_steps=1000)\n",
    "\n",
    "#Print results    \n",
    "print(\"Posterior Temperature Mean\")\n",
    "print(dist.Normal(pyro.param(\"mean\").item(), pyro.param(\"scale\").item()))\n",
    "print(\"\")\n",
    "print(\"Posterior Humidity Mean\")\n",
    "print(dist.Normal(pyro.param(\"meanH\").item(), pyro.param(\"scaleH\").item()))\n",
    "print(\"\")\n",
    "print(\"Posterior Alpha\")\n",
    "print(dist.Normal(pyro.param(\"alpha_mean\").item(), pyro.param(\"alpha_scale\").item()))\n",
    "print(\"\")\n",
    "print(\"Posterior Beta\")\n",
    "print(dist.Normal(pyro.param(\"beta_mean\").item(), pyro.param(\"beta_scale\").item()))\n",
    "print(\"\")\n",
    "print(\"Posterior Gamma\")\n",
    "print(dist.Normal(pyro.param(\"gamma_mean\").item(), pyro.param(\"gamma_scale\").item()))"
   ]
  },
  {
   "cell_type": "markdown",
   "metadata": {
    "id": "NCld6GJGL-05"
   },
   "source": [
    "<img src=\"https://github.com/PGM-Lab/probai-2021-pyro/blob/main/Day1/Figures/blue.png?raw=1\" alt=\"Drawing\" width=2000 height=20>\n",
    "\n",
    "# 5.  **Temporal Models**\n",
    "\n",
    "If we expect that there might a temporal dependency between the variables, we can capture this in the model specification.\n",
    "\n",
    "Let us assume that there is a **temporal dependency** between the variables.\n",
    "\n",
    "* E.g. the current real temperature must be similar to the real temperature in the previous time step.\n",
    "\n",
    "This temporal dependency can be modeled using a **for-loop** in Pyro as illustrated in the graphical representation.\n",
    "\n",
    "\n",
    "<img src=\"https://github.com/PGM-Lab/probai-2021-pyro/raw/main/Day1/Figures/tempmodel-temporal-III.png\" alt=\"Drawing\" style=\"width: 350px;\" >\n",
    "\n",
    "\n",
    "Observe how this temporal model shares commonalities with the temporal models that we discussed a couple of lectures a go. "
   ]
  },
  {
   "cell_type": "code",
   "execution_count": 55,
   "metadata": {
    "id": "dSzU0cWeL-05"
   },
   "outputs": [],
   "source": [
    "#The observatons   \n",
    "obs = {'sensor': torch.tensor([18., 18.7, 19.2, 17.8, 20.3, 22.4, 20.3, 21.2, 19.5, 20.1])}\n",
    "\n",
    "def model(obs):\n",
    "    mean_temp = pyro.sample('mean_temp', dist.Normal(15.0, 2.0))\n",
    "    for i in range(obs['sensor'].shape[0]):\n",
    "        if i==0:\n",
    "            temp = pyro.sample(f'temp_{i}', dist.Normal(mean_temp, 2.0))\n",
    "        else:\n",
    "            temp = pyro.sample(f'temp_{i}', dist.Normal(prev_temp, 2.0))\n",
    "        sensor = pyro.sample(f'sensor_{i}', dist.Normal(temp, 1.0), obs=obs['sensor'][i])\n",
    "        prev_temp = temp"
   ]
  },
  {
   "cell_type": "code",
   "execution_count": 56,
   "metadata": {},
   "outputs": [
    {
     "data": {
      "image/svg+xml": [
       "<?xml version=\"1.0\" encoding=\"UTF-8\" standalone=\"no\"?>\n",
       "<!DOCTYPE svg PUBLIC \"-//W3C//DTD SVG 1.1//EN\"\n",
       " \"http://www.w3.org/Graphics/SVG/1.1/DTD/svg11.dtd\">\n",
       "<!-- Generated by graphviz version 9.0.0 (20230911.1827)\n",
       " -->\n",
       "<!-- Pages: 1 -->\n",
       "<svg width=\"604pt\" height=\"836pt\"\n",
       " viewBox=\"0.00 0.00 604.35 836.00\" xmlns=\"http://www.w3.org/2000/svg\" xmlns:xlink=\"http://www.w3.org/1999/xlink\">\n",
       "<g id=\"graph0\" class=\"graph\" transform=\"scale(1 1) rotate(0) translate(4 832)\">\n",
       "<polygon fill=\"white\" stroke=\"none\" points=\"-4,4 -4,-832 600.35,-832 600.35,4 -4,4\"/>\n",
       "<!-- mean_temp -->\n",
       "<g id=\"node1\" class=\"node\">\n",
       "<title>mean_temp</title>\n",
       "<ellipse fill=\"white\" stroke=\"black\" cx=\"93.67\" cy=\"-810\" rx=\"54.93\" ry=\"18\"/>\n",
       "<text text-anchor=\"middle\" x=\"93.67\" y=\"-804.95\" font-family=\"Times,serif\" font-size=\"14.00\">mean_temp</text>\n",
       "</g>\n",
       "<!-- temp_0 -->\n",
       "<g id=\"node2\" class=\"node\">\n",
       "<title>temp_0</title>\n",
       "<ellipse fill=\"white\" stroke=\"black\" cx=\"93.67\" cy=\"-738\" rx=\"39.07\" ry=\"18\"/>\n",
       "<text text-anchor=\"middle\" x=\"93.67\" y=\"-732.95\" font-family=\"Times,serif\" font-size=\"14.00\">temp_0</text>\n",
       "</g>\n",
       "<!-- mean_temp&#45;&gt;temp_0 -->\n",
       "<g id=\"edge1\" class=\"edge\">\n",
       "<title>mean_temp&#45;&gt;temp_0</title>\n",
       "<path fill=\"none\" stroke=\"black\" d=\"M93.67,-791.7C93.67,-784.41 93.67,-775.73 93.67,-767.54\"/>\n",
       "<polygon fill=\"black\" stroke=\"black\" points=\"97.17,-767.62 93.67,-757.62 90.17,-767.62 97.17,-767.62\"/>\n",
       "</g>\n",
       "<!-- sensor_0 -->\n",
       "<g id=\"node3\" class=\"node\">\n",
       "<title>sensor_0</title>\n",
       "<ellipse fill=\"gray\" stroke=\"black\" cx=\"43.67\" cy=\"-666\" rx=\"43.67\" ry=\"18\"/>\n",
       "<text text-anchor=\"middle\" x=\"43.67\" y=\"-660.95\" font-family=\"Times,serif\" font-size=\"14.00\">sensor_0</text>\n",
       "</g>\n",
       "<!-- temp_0&#45;&gt;sensor_0 -->\n",
       "<g id=\"edge2\" class=\"edge\">\n",
       "<title>temp_0&#45;&gt;sensor_0</title>\n",
       "<path fill=\"none\" stroke=\"black\" d=\"M81.82,-720.41C75.91,-712.13 68.62,-701.92 62,-692.66\"/>\n",
       "<polygon fill=\"black\" stroke=\"black\" points=\"64.98,-690.8 56.32,-684.7 59.28,-694.87 64.98,-690.8\"/>\n",
       "</g>\n",
       "<!-- temp_1 -->\n",
       "<g id=\"node4\" class=\"node\">\n",
       "<title>temp_1</title>\n",
       "<ellipse fill=\"white\" stroke=\"black\" cx=\"144.67\" cy=\"-666\" rx=\"39.07\" ry=\"18\"/>\n",
       "<text text-anchor=\"middle\" x=\"144.67\" y=\"-660.95\" font-family=\"Times,serif\" font-size=\"14.00\">temp_1</text>\n",
       "</g>\n",
       "<!-- temp_0&#45;&gt;temp_1 -->\n",
       "<g id=\"edge3\" class=\"edge\">\n",
       "<title>temp_0&#45;&gt;temp_1</title>\n",
       "<path fill=\"none\" stroke=\"black\" d=\"M105.76,-720.41C111.79,-712.13 119.23,-701.92 125.98,-692.66\"/>\n",
       "<polygon fill=\"black\" stroke=\"black\" points=\"128.72,-694.84 131.78,-684.69 123.07,-690.71 128.72,-694.84\"/>\n",
       "</g>\n",
       "<!-- sensor_1 -->\n",
       "<g id=\"node5\" class=\"node\">\n",
       "<title>sensor_1</title>\n",
       "<ellipse fill=\"gray\" stroke=\"black\" cx=\"94.67\" cy=\"-594\" rx=\"43.67\" ry=\"18\"/>\n",
       "<text text-anchor=\"middle\" x=\"94.67\" y=\"-588.95\" font-family=\"Times,serif\" font-size=\"14.00\">sensor_1</text>\n",
       "</g>\n",
       "<!-- temp_1&#45;&gt;sensor_1 -->\n",
       "<g id=\"edge4\" class=\"edge\">\n",
       "<title>temp_1&#45;&gt;sensor_1</title>\n",
       "<path fill=\"none\" stroke=\"black\" d=\"M132.82,-648.41C126.91,-640.13 119.62,-629.92 113,-620.66\"/>\n",
       "<polygon fill=\"black\" stroke=\"black\" points=\"115.98,-618.8 107.32,-612.7 110.28,-622.87 115.98,-618.8\"/>\n",
       "</g>\n",
       "<!-- temp_2 -->\n",
       "<g id=\"node6\" class=\"node\">\n",
       "<title>temp_2</title>\n",
       "<ellipse fill=\"white\" stroke=\"black\" cx=\"195.67\" cy=\"-594\" rx=\"39.07\" ry=\"18\"/>\n",
       "<text text-anchor=\"middle\" x=\"195.67\" y=\"-588.95\" font-family=\"Times,serif\" font-size=\"14.00\">temp_2</text>\n",
       "</g>\n",
       "<!-- temp_1&#45;&gt;temp_2 -->\n",
       "<g id=\"edge5\" class=\"edge\">\n",
       "<title>temp_1&#45;&gt;temp_2</title>\n",
       "<path fill=\"none\" stroke=\"black\" d=\"M156.76,-648.41C162.79,-640.13 170.23,-629.92 176.98,-620.66\"/>\n",
       "<polygon fill=\"black\" stroke=\"black\" points=\"179.72,-622.84 182.78,-612.69 174.07,-618.71 179.72,-622.84\"/>\n",
       "</g>\n",
       "<!-- sensor_2 -->\n",
       "<g id=\"node7\" class=\"node\">\n",
       "<title>sensor_2</title>\n",
       "<ellipse fill=\"gray\" stroke=\"black\" cx=\"145.67\" cy=\"-522\" rx=\"43.67\" ry=\"18\"/>\n",
       "<text text-anchor=\"middle\" x=\"145.67\" y=\"-516.95\" font-family=\"Times,serif\" font-size=\"14.00\">sensor_2</text>\n",
       "</g>\n",
       "<!-- temp_2&#45;&gt;sensor_2 -->\n",
       "<g id=\"edge6\" class=\"edge\">\n",
       "<title>temp_2&#45;&gt;sensor_2</title>\n",
       "<path fill=\"none\" stroke=\"black\" d=\"M183.82,-576.41C177.91,-568.13 170.62,-557.92 164,-548.66\"/>\n",
       "<polygon fill=\"black\" stroke=\"black\" points=\"166.98,-546.8 158.32,-540.7 161.28,-550.87 166.98,-546.8\"/>\n",
       "</g>\n",
       "<!-- temp_3 -->\n",
       "<g id=\"node8\" class=\"node\">\n",
       "<title>temp_3</title>\n",
       "<ellipse fill=\"white\" stroke=\"black\" cx=\"246.67\" cy=\"-522\" rx=\"39.07\" ry=\"18\"/>\n",
       "<text text-anchor=\"middle\" x=\"246.67\" y=\"-516.95\" font-family=\"Times,serif\" font-size=\"14.00\">temp_3</text>\n",
       "</g>\n",
       "<!-- temp_2&#45;&gt;temp_3 -->\n",
       "<g id=\"edge7\" class=\"edge\">\n",
       "<title>temp_2&#45;&gt;temp_3</title>\n",
       "<path fill=\"none\" stroke=\"black\" d=\"M207.76,-576.41C213.79,-568.13 221.23,-557.92 227.98,-548.66\"/>\n",
       "<polygon fill=\"black\" stroke=\"black\" points=\"230.72,-550.84 233.78,-540.69 225.07,-546.71 230.72,-550.84\"/>\n",
       "</g>\n",
       "<!-- sensor_3 -->\n",
       "<g id=\"node9\" class=\"node\">\n",
       "<title>sensor_3</title>\n",
       "<ellipse fill=\"gray\" stroke=\"black\" cx=\"196.67\" cy=\"-450\" rx=\"43.67\" ry=\"18\"/>\n",
       "<text text-anchor=\"middle\" x=\"196.67\" y=\"-444.95\" font-family=\"Times,serif\" font-size=\"14.00\">sensor_3</text>\n",
       "</g>\n",
       "<!-- temp_3&#45;&gt;sensor_3 -->\n",
       "<g id=\"edge8\" class=\"edge\">\n",
       "<title>temp_3&#45;&gt;sensor_3</title>\n",
       "<path fill=\"none\" stroke=\"black\" d=\"M234.82,-504.41C228.91,-496.13 221.62,-485.92 215,-476.66\"/>\n",
       "<polygon fill=\"black\" stroke=\"black\" points=\"217.98,-474.8 209.32,-468.7 212.28,-478.87 217.98,-474.8\"/>\n",
       "</g>\n",
       "<!-- temp_4 -->\n",
       "<g id=\"node10\" class=\"node\">\n",
       "<title>temp_4</title>\n",
       "<ellipse fill=\"white\" stroke=\"black\" cx=\"297.67\" cy=\"-450\" rx=\"39.07\" ry=\"18\"/>\n",
       "<text text-anchor=\"middle\" x=\"297.67\" y=\"-444.95\" font-family=\"Times,serif\" font-size=\"14.00\">temp_4</text>\n",
       "</g>\n",
       "<!-- temp_3&#45;&gt;temp_4 -->\n",
       "<g id=\"edge9\" class=\"edge\">\n",
       "<title>temp_3&#45;&gt;temp_4</title>\n",
       "<path fill=\"none\" stroke=\"black\" d=\"M258.76,-504.41C264.79,-496.13 272.23,-485.92 278.98,-476.66\"/>\n",
       "<polygon fill=\"black\" stroke=\"black\" points=\"281.72,-478.84 284.78,-468.69 276.07,-474.71 281.72,-478.84\"/>\n",
       "</g>\n",
       "<!-- sensor_4 -->\n",
       "<g id=\"node11\" class=\"node\">\n",
       "<title>sensor_4</title>\n",
       "<ellipse fill=\"gray\" stroke=\"black\" cx=\"247.67\" cy=\"-378\" rx=\"43.67\" ry=\"18\"/>\n",
       "<text text-anchor=\"middle\" x=\"247.67\" y=\"-372.95\" font-family=\"Times,serif\" font-size=\"14.00\">sensor_4</text>\n",
       "</g>\n",
       "<!-- temp_4&#45;&gt;sensor_4 -->\n",
       "<g id=\"edge10\" class=\"edge\">\n",
       "<title>temp_4&#45;&gt;sensor_4</title>\n",
       "<path fill=\"none\" stroke=\"black\" d=\"M285.82,-432.41C279.91,-424.13 272.62,-413.92 266,-404.66\"/>\n",
       "<polygon fill=\"black\" stroke=\"black\" points=\"268.98,-402.8 260.32,-396.7 263.28,-406.87 268.98,-402.8\"/>\n",
       "</g>\n",
       "<!-- temp_5 -->\n",
       "<g id=\"node12\" class=\"node\">\n",
       "<title>temp_5</title>\n",
       "<ellipse fill=\"white\" stroke=\"black\" cx=\"348.67\" cy=\"-378\" rx=\"39.07\" ry=\"18\"/>\n",
       "<text text-anchor=\"middle\" x=\"348.67\" y=\"-372.95\" font-family=\"Times,serif\" font-size=\"14.00\">temp_5</text>\n",
       "</g>\n",
       "<!-- temp_4&#45;&gt;temp_5 -->\n",
       "<g id=\"edge11\" class=\"edge\">\n",
       "<title>temp_4&#45;&gt;temp_5</title>\n",
       "<path fill=\"none\" stroke=\"black\" d=\"M309.76,-432.41C315.79,-424.13 323.23,-413.92 329.98,-404.66\"/>\n",
       "<polygon fill=\"black\" stroke=\"black\" points=\"332.72,-406.84 335.78,-396.69 327.07,-402.71 332.72,-406.84\"/>\n",
       "</g>\n",
       "<!-- sensor_5 -->\n",
       "<g id=\"node13\" class=\"node\">\n",
       "<title>sensor_5</title>\n",
       "<ellipse fill=\"gray\" stroke=\"black\" cx=\"298.67\" cy=\"-306\" rx=\"43.67\" ry=\"18\"/>\n",
       "<text text-anchor=\"middle\" x=\"298.67\" y=\"-300.95\" font-family=\"Times,serif\" font-size=\"14.00\">sensor_5</text>\n",
       "</g>\n",
       "<!-- temp_5&#45;&gt;sensor_5 -->\n",
       "<g id=\"edge12\" class=\"edge\">\n",
       "<title>temp_5&#45;&gt;sensor_5</title>\n",
       "<path fill=\"none\" stroke=\"black\" d=\"M336.82,-360.41C330.91,-352.13 323.62,-341.92 317,-332.66\"/>\n",
       "<polygon fill=\"black\" stroke=\"black\" points=\"319.98,-330.8 311.32,-324.7 314.28,-334.87 319.98,-330.8\"/>\n",
       "</g>\n",
       "<!-- temp_6 -->\n",
       "<g id=\"node14\" class=\"node\">\n",
       "<title>temp_6</title>\n",
       "<ellipse fill=\"white\" stroke=\"black\" cx=\"399.67\" cy=\"-306\" rx=\"39.07\" ry=\"18\"/>\n",
       "<text text-anchor=\"middle\" x=\"399.67\" y=\"-300.95\" font-family=\"Times,serif\" font-size=\"14.00\">temp_6</text>\n",
       "</g>\n",
       "<!-- temp_5&#45;&gt;temp_6 -->\n",
       "<g id=\"edge13\" class=\"edge\">\n",
       "<title>temp_5&#45;&gt;temp_6</title>\n",
       "<path fill=\"none\" stroke=\"black\" d=\"M360.76,-360.41C366.79,-352.13 374.23,-341.92 380.98,-332.66\"/>\n",
       "<polygon fill=\"black\" stroke=\"black\" points=\"383.72,-334.84 386.78,-324.69 378.07,-330.71 383.72,-334.84\"/>\n",
       "</g>\n",
       "<!-- sensor_6 -->\n",
       "<g id=\"node15\" class=\"node\">\n",
       "<title>sensor_6</title>\n",
       "<ellipse fill=\"gray\" stroke=\"black\" cx=\"349.67\" cy=\"-234\" rx=\"43.67\" ry=\"18\"/>\n",
       "<text text-anchor=\"middle\" x=\"349.67\" y=\"-228.95\" font-family=\"Times,serif\" font-size=\"14.00\">sensor_6</text>\n",
       "</g>\n",
       "<!-- temp_6&#45;&gt;sensor_6 -->\n",
       "<g id=\"edge14\" class=\"edge\">\n",
       "<title>temp_6&#45;&gt;sensor_6</title>\n",
       "<path fill=\"none\" stroke=\"black\" d=\"M387.82,-288.41C381.91,-280.13 374.62,-269.92 368,-260.66\"/>\n",
       "<polygon fill=\"black\" stroke=\"black\" points=\"370.98,-258.8 362.32,-252.7 365.28,-262.87 370.98,-258.8\"/>\n",
       "</g>\n",
       "<!-- temp_7 -->\n",
       "<g id=\"node16\" class=\"node\">\n",
       "<title>temp_7</title>\n",
       "<ellipse fill=\"white\" stroke=\"black\" cx=\"450.67\" cy=\"-234\" rx=\"39.07\" ry=\"18\"/>\n",
       "<text text-anchor=\"middle\" x=\"450.67\" y=\"-228.95\" font-family=\"Times,serif\" font-size=\"14.00\">temp_7</text>\n",
       "</g>\n",
       "<!-- temp_6&#45;&gt;temp_7 -->\n",
       "<g id=\"edge15\" class=\"edge\">\n",
       "<title>temp_6&#45;&gt;temp_7</title>\n",
       "<path fill=\"none\" stroke=\"black\" d=\"M411.76,-288.41C417.79,-280.13 425.23,-269.92 431.98,-260.66\"/>\n",
       "<polygon fill=\"black\" stroke=\"black\" points=\"434.72,-262.84 437.78,-252.69 429.07,-258.71 434.72,-262.84\"/>\n",
       "</g>\n",
       "<!-- sensor_7 -->\n",
       "<g id=\"node17\" class=\"node\">\n",
       "<title>sensor_7</title>\n",
       "<ellipse fill=\"gray\" stroke=\"black\" cx=\"400.67\" cy=\"-162\" rx=\"43.67\" ry=\"18\"/>\n",
       "<text text-anchor=\"middle\" x=\"400.67\" y=\"-156.95\" font-family=\"Times,serif\" font-size=\"14.00\">sensor_7</text>\n",
       "</g>\n",
       "<!-- temp_7&#45;&gt;sensor_7 -->\n",
       "<g id=\"edge16\" class=\"edge\">\n",
       "<title>temp_7&#45;&gt;sensor_7</title>\n",
       "<path fill=\"none\" stroke=\"black\" d=\"M438.82,-216.41C432.91,-208.13 425.62,-197.92 419,-188.66\"/>\n",
       "<polygon fill=\"black\" stroke=\"black\" points=\"421.98,-186.8 413.32,-180.7 416.28,-190.87 421.98,-186.8\"/>\n",
       "</g>\n",
       "<!-- temp_8 -->\n",
       "<g id=\"node18\" class=\"node\">\n",
       "<title>temp_8</title>\n",
       "<ellipse fill=\"white\" stroke=\"black\" cx=\"501.67\" cy=\"-162\" rx=\"39.07\" ry=\"18\"/>\n",
       "<text text-anchor=\"middle\" x=\"501.67\" y=\"-156.95\" font-family=\"Times,serif\" font-size=\"14.00\">temp_8</text>\n",
       "</g>\n",
       "<!-- temp_7&#45;&gt;temp_8 -->\n",
       "<g id=\"edge17\" class=\"edge\">\n",
       "<title>temp_7&#45;&gt;temp_8</title>\n",
       "<path fill=\"none\" stroke=\"black\" d=\"M462.76,-216.41C468.79,-208.13 476.23,-197.92 482.98,-188.66\"/>\n",
       "<polygon fill=\"black\" stroke=\"black\" points=\"485.72,-190.84 488.78,-180.69 480.07,-186.71 485.72,-190.84\"/>\n",
       "</g>\n",
       "<!-- sensor_8 -->\n",
       "<g id=\"node19\" class=\"node\">\n",
       "<title>sensor_8</title>\n",
       "<ellipse fill=\"gray\" stroke=\"black\" cx=\"451.67\" cy=\"-90\" rx=\"43.67\" ry=\"18\"/>\n",
       "<text text-anchor=\"middle\" x=\"451.67\" y=\"-84.95\" font-family=\"Times,serif\" font-size=\"14.00\">sensor_8</text>\n",
       "</g>\n",
       "<!-- temp_8&#45;&gt;sensor_8 -->\n",
       "<g id=\"edge18\" class=\"edge\">\n",
       "<title>temp_8&#45;&gt;sensor_8</title>\n",
       "<path fill=\"none\" stroke=\"black\" d=\"M489.82,-144.41C483.91,-136.13 476.62,-125.92 470,-116.66\"/>\n",
       "<polygon fill=\"black\" stroke=\"black\" points=\"472.98,-114.8 464.32,-108.7 467.28,-118.87 472.98,-114.8\"/>\n",
       "</g>\n",
       "<!-- temp_9 -->\n",
       "<g id=\"node20\" class=\"node\">\n",
       "<title>temp_9</title>\n",
       "<ellipse fill=\"white\" stroke=\"black\" cx=\"552.67\" cy=\"-90\" rx=\"39.07\" ry=\"18\"/>\n",
       "<text text-anchor=\"middle\" x=\"552.67\" y=\"-84.95\" font-family=\"Times,serif\" font-size=\"14.00\">temp_9</text>\n",
       "</g>\n",
       "<!-- temp_8&#45;&gt;temp_9 -->\n",
       "<g id=\"edge19\" class=\"edge\">\n",
       "<title>temp_8&#45;&gt;temp_9</title>\n",
       "<path fill=\"none\" stroke=\"black\" d=\"M513.76,-144.41C519.79,-136.13 527.23,-125.92 533.98,-116.66\"/>\n",
       "<polygon fill=\"black\" stroke=\"black\" points=\"536.72,-118.84 539.78,-108.69 531.07,-114.71 536.72,-118.84\"/>\n",
       "</g>\n",
       "<!-- sensor_9 -->\n",
       "<g id=\"node21\" class=\"node\">\n",
       "<title>sensor_9</title>\n",
       "<ellipse fill=\"gray\" stroke=\"black\" cx=\"552.67\" cy=\"-18\" rx=\"43.67\" ry=\"18\"/>\n",
       "<text text-anchor=\"middle\" x=\"552.67\" y=\"-12.95\" font-family=\"Times,serif\" font-size=\"14.00\">sensor_9</text>\n",
       "</g>\n",
       "<!-- temp_9&#45;&gt;sensor_9 -->\n",
       "<g id=\"edge20\" class=\"edge\">\n",
       "<title>temp_9&#45;&gt;sensor_9</title>\n",
       "<path fill=\"none\" stroke=\"black\" d=\"M552.67,-71.7C552.67,-64.41 552.67,-55.73 552.67,-47.54\"/>\n",
       "<polygon fill=\"black\" stroke=\"black\" points=\"556.17,-47.62 552.67,-37.62 549.17,-47.62 556.17,-47.62\"/>\n",
       "</g>\n",
       "</g>\n",
       "</svg>\n"
      ],
      "text/plain": [
       "<graphviz.graphs.Digraph at 0x16884ce50>"
      ]
     },
     "execution_count": 56,
     "metadata": {},
     "output_type": "execute_result"
    }
   ],
   "source": [
    "#Visualize the model\n",
    "pyro.render_model(model, model_args=(obs, ))"
   ]
  },
  {
   "cell_type": "markdown",
   "metadata": {
    "id": "EAnXvUqpJCm1"
   },
   "source": [
    "<img src=\"https://github.com/PGM-Lab/probai-2021-pyro/blob/main/Day1/Figures/blue.png?raw=1\" alt=\"Drawing\" width=2000 height=20>\n",
    "\n",
    "Again we need a guide for performing inference (you need not worry about the details of this part)"
   ]
  },
  {
   "cell_type": "code",
   "execution_count": 57,
   "metadata": {
    "cellView": "form",
    "id": "7XaW4rKXL-05"
   },
   "outputs": [],
   "source": [
    "#@title\n",
    "#Define the guide\n",
    "def guide(obs):\n",
    "    mean = pyro.param(\"mean\", torch.mean(obs['sensor']))\n",
    "    scale = pyro.param(\"scale\", torch.tensor(1.), constraint=constraints.positive)\n",
    "    mean_temp = pyro.sample('mean_temp', dist.Normal(mean, scale))\n",
    "    for i in range(obs['sensor'].shape[0]):\n",
    "        mean_i = pyro.param(f'mean_{i}', obs['sensor'][i])\n",
    "        scale_i = pyro.param(f'scale_{i}', torch.tensor(1.), constraint=constraints.positive)\n",
    "        temp = pyro.sample(f'temp_{i}', dist.Normal(mean_i, scale_i))"
   ]
  },
  {
   "cell_type": "code",
   "execution_count": 58,
   "metadata": {
    "colab": {
     "base_uri": "https://localhost:8080/"
    },
    "id": "XWBFc6w3L-06",
    "outputId": "95a134d4-da55-4aa6-9cab-3e17a03f8ad5"
   },
   "outputs": [
    {
     "name": "stdout",
     "output_type": "stream",
     "text": [
      "Step: 0. Loss: 24.113531351089478\n",
      "Step: 250. Loss: 25.55078136920929\n",
      "Step: 500. Loss: 23.75535774230957\n",
      "Step: 750. Loss: 20.855915904045105\n",
      "Inference results:\n",
      "mean tensor(18.4163, requires_grad=True)\n",
      "scale tensor(1.3416, grad_fn=<AddBackward0>)\n",
      "mean_0 tensor(18.3390, requires_grad=True)\n",
      "scale_0 tensor(0.8296, grad_fn=<AddBackward0>)\n",
      "mean_1 tensor(18.6136, requires_grad=True)\n",
      "scale_1 tensor(0.7969, grad_fn=<AddBackward0>)\n",
      "mean_2 tensor(18.9385, requires_grad=True)\n",
      "scale_2 tensor(0.8485, grad_fn=<AddBackward0>)\n",
      "mean_3 tensor(18.5485, requires_grad=True)\n",
      "scale_3 tensor(0.8698, grad_fn=<AddBackward0>)\n",
      "mean_4 tensor(20.1656, requires_grad=True)\n",
      "scale_4 tensor(0.8063, grad_fn=<AddBackward0>)\n",
      "mean_5 tensor(21.5606, requires_grad=True)\n",
      "scale_5 tensor(0.8458, grad_fn=<AddBackward0>)\n",
      "mean_6 tensor(20.8045, requires_grad=True)\n",
      "scale_6 tensor(0.8076, grad_fn=<AddBackward0>)\n",
      "mean_7 tensor(20.6884, requires_grad=True)\n",
      "scale_7 tensor(0.8328, grad_fn=<AddBackward0>)\n",
      "mean_8 tensor(19.9905, requires_grad=True)\n",
      "scale_8 tensor(0.8187, grad_fn=<AddBackward0>)\n",
      "mean_9 tensor(20.0189, requires_grad=True)\n",
      "scale_9 tensor(0.9162, grad_fn=<AddBackward0>)\n",
      "Finished\n"
     ]
    }
   ],
   "source": [
    "import time\n",
    "        \n",
    "#Run inference\n",
    "svi(model, obs, guide=guide, num_steps=1000)\n",
    "\n",
    "smooth_temp=[]\n",
    "for i in range(obs['sensor'].shape[0]):\n",
    "    smooth_temp.append(pyro.param(f'mean_{i}').item())\n",
    "\n",
    "print('Finished')"
   ]
  },
  {
   "cell_type": "markdown",
   "metadata": {
    "id": "OJHqOj3VL-06"
   },
   "source": [
    "We can now plot the **observered measurements** of the temperature **against** the inferred **real temperature**.\n",
    "\n",
    "* By querying the **local hidden** we can **smooth** the temperature.\n",
    "\n",
    "* The **recovered temperature** is much less noisy than the measured one. "
   ]
  },
  {
   "cell_type": "code",
   "execution_count": 89,
   "metadata": {
    "colab": {
     "base_uri": "https://localhost:8080/",
     "height": 283
    },
    "id": "cesOfH6UL-06",
    "outputId": "6c29c1dc-7b66-4476-f572-fcab827cb85d"
   },
   "outputs": [
    {
     "data": {
      "text/plain": [
       "<matplotlib.legend.Legend at 0x28fe7bf50>"
      ]
     },
     "execution_count": 89,
     "metadata": {},
     "output_type": "execute_result"
    },
    {
     "data": {
      "image/png": "[encoded data removed]",
      "text/plain": [
       "<Figure size 640x480 with 1 Axes>"
      ]
     },
     "metadata": {},
     "output_type": "display_data"
    }
   ],
   "source": [
    "import matplotlib.pyplot as plt\n",
    "plt.plot([18., 18.7, 19.2, 17.8, 20.3, 22.4, 20.3, 21.2, 19.5, 20.1], label='Sensor Temp')\n",
    "plt.plot(smooth_temp, label='Smooth Temp')\n",
    "plt.legend()"
   ]
  },
  {
   "cell_type": "markdown",
   "metadata": {
    "id": "yRDQWC-vL-06"
   },
   "source": [
    "<img src=\"https://github.com/PGM-Lab/probai-2021-pyro/blob/main/Day1/Figures/blue.png?raw=1\" alt=\"Drawing\" width=2000 height=20>\n",
    "\n",
    "### <span style=\"color:red\">Exercise 3:  Temporal Extension of the Iceacream shop model </span> \n",
    "\n",
    "Assume that:\n",
    "* temperature depends of the **temperature in the previous day**.\n",
    "* humidity depends of the **humidity in the previous day**.\n",
    "* sales depends on the **current temperature and humidity**.\n",
    "\n",
    "Use the following **graphical representation for reference**.\n",
    "\n",
    "<img src=\"https://github.com/PGM-Lab/probai-2021-pyro/raw/main/Day1/Figures/icecream-model-temporal.png\" alt=\"Drawing\" width=800 >\n",
    "\n",
    "Note that the plate representation has to be coded in Pyro using a **``for-loop``**."
   ]
  },
  {
   "cell_type": "code",
   "execution_count": 64,
   "metadata": {
    "id": "GevI9bcjL-07"
   },
   "outputs": [],
   "source": [
    "#The observatons   \n",
    "obs = {'sensor': torch.tensor([18., 18.7, 19.2, 17.8, 20.3, 22.4, 20.3, 21.2, 19.5, 20.1]),\n",
    "       'sales': torch.tensor([46., 47., 49., 44., 50., 54., 51., 52., 49., 53.]),\n",
    "       'sensor_humidity': torch.tensor([82.8, 87.6, 69.1, 74.2, 80.3, 94.2, 91.2, 92.2, 99.1, 93.2])}\n",
    "\n",
    "def model(obs):\n",
    "    mean_temp = pyro.sample('mean_temp', dist.Normal(15.0, 2.0))\n",
    "    # Introduce a random variable \"mean_humidity\"\n",
    "    mean_humidity = pyro.sample('mean_humidity', dist.Normal(80.0, 5.0))\n",
    "\n",
    "    alpha = pyro.sample('alpha', dist.Normal(0.0, 100.0))\n",
    "    beta = pyro.sample('beta', dist.Normal(0.0, 100.0))\n",
    "    # Introduce a coefficient for the humidity \"gamma\"\n",
    "    gamma = pyro.sample('gamma', dist.Normal(0.0, 100.0))\n",
    "    \n",
    "    for i in range(obs['sensor'].shape[0]):\n",
    "        if i==0:\n",
    "            temp = pyro.sample(f'temp_{i}', dist.Normal(mean_temp, 2.0))\n",
    "            # Introduce the 'humidity' variable at time 0.\n",
    "            humidity = pyro.sample(f'humidity_{i}', dist.Normal(mean_humidity, 2.0))\n",
    "        else:\n",
    "            temp = pyro.sample(f'temp_{i}', dist.Normal(prev_temp, 2.0))\n",
    "            # Introduce the f'humidity_{i}' variable defining the transition\n",
    "            humidity = pyro.sample(f'humidity_{i}', dist.Normal(prev_temp, 2.0))\n",
    "        \n",
    "        sensor = pyro.sample(f'sensor_{i}', dist.Normal(temp, 1.0), obs=obs['sensor'][i])\n",
    "        # Introduce the f'sensor_humidity_{i}' variable. \n",
    "        sensor_humidity = pyro.sample(f'sensor_humidity_{i}', dist.Normal(humidity, 1.0), obs=obs['sensor_humidity'][i])\n",
    "        \n",
    "        # Add the linear dependency for the rate with respect to temp and humidity (keep torch.max to avoid numerical stability issues)\n",
    "        rate = torch.max(torch.tensor(0.001), alpha + beta*temp + gamma*humidity)\n",
    "        sales = pyro.sample(f'sales_{i}', dist.Poisson(rate), obs=obs['sales'][i])\n",
    "\n",
    "        prev_temp = temp\n",
    "        # Keep humidity for the next time step. \n",
    "        prev_humidity = humidity\n"
   ]
  },
  {
   "cell_type": "markdown",
   "metadata": {
    "id": "BOo487l4L3L1"
   },
   "source": [
    "<img src=\"https://github.com/PGM-Lab/probai-2021-pyro/blob/main/Day1/Figures/blue.png?raw=1\" alt=\"Drawing\" width=2000 height=20>\n",
    "\n",
    "\n",
    "Again we need a guide for performing inference (you need not worry about the details of this part)"
   ]
  },
  {
   "cell_type": "code",
   "execution_count": 66,
   "metadata": {
    "id": "izRFQ0T3L-07"
   },
   "outputs": [],
   "source": [
    "#@title\n",
    "#Define the guide\n",
    "def guide(obs):\n",
    "    mean = pyro.param(\"mean\", torch.mean(obs['sensor']))\n",
    "    scale = pyro.param(\"scale\", torch.tensor(1.), constraint=constraints.greater_than(0.01))\n",
    "    mean_temp = pyro.sample('mean_temp', dist.Normal(mean, scale))\n",
    "\n",
    "    meanH = pyro.param(\"meanH\", torch.mean(obs['sensor_humidity']), constraint=constraints.positive)\n",
    "    scaleH = pyro.param(\"scaleH\", torch.tensor(1.), constraint=constraints.greater_than(0.01))\n",
    "    humidity_mean = pyro.sample('mean_humidity', dist.Normal(meanH, scaleH))\n",
    "\n",
    "\n",
    "    alpha_mean = pyro.param(\"alpha_mean\", torch.mean(obs['sensor']))\n",
    "    alpha_scale = pyro.param(\"alpha_scale\", torch.tensor(1.), constraint=constraints.greater_than(0.01))\n",
    "    alpha = pyro.sample('alpha', dist.Normal(alpha_mean, alpha_scale))\n",
    "\n",
    "    beta_mean = pyro.param(\"beta_mean\", torch.tensor(0.0))\n",
    "    beta_scale = pyro.param(\"beta_scale\", torch.tensor(1.), constraint=constraints.greater_than(0.01))\n",
    "    beta = pyro.sample('beta', dist.Normal(beta_mean, beta_scale))\n",
    "\n",
    "    gamma_mean = pyro.param(\"gamma_mean\", torch.tensor(0.0))\n",
    "    gamma_scale = pyro.param(\"gamma_scale\", torch.tensor(1.), constraint=constraints.greater_than(0.01))\n",
    "    gamma = pyro.sample('gamma', dist.Normal(gamma_mean, gamma_scale))\n",
    "\n",
    "    for i in range(obs['sensor'].shape[0]):\n",
    "        mean_i = pyro.param(f'mean_{i}', obs['sensor'][i])\n",
    "        scale_i = pyro.param(f'scale_{i}', torch.tensor(1.), constraint=constraints.greater_than(0.01))\n",
    "        temp = pyro.sample(f'temp_{i}', dist.Normal(mean_i, scale_i))\n",
    "        meanH_i = pyro.param(f'meanH_{i}', obs['sensor_humidity'][i])\n",
    "        scaleH_i = pyro.param(f'scaleH_{i}', torch.tensor(1.), constraint=constraints.greater_than(0.01))\n",
    "        humidity_i = pyro.sample(f'humidity_{i}', dist.Normal(meanH_i, scaleH_i))"
   ]
  },
  {
   "cell_type": "code",
   "execution_count": 67,
   "metadata": {
    "colab": {
     "base_uri": "https://localhost:8080/"
    },
    "id": "tMWwy2UNL-07",
    "outputId": "ea74d3c1-275a-453f-8397-3830e3158d65"
   },
   "outputs": [
    {
     "name": "stdout",
     "output_type": "stream",
     "text": [
      "Step: 0. Loss: 5736.260266900063\n",
      "Step: 250. Loss: 3970.5341209173203\n",
      "Step: 500. Loss: 3137.552879691124\n",
      "Step: 750. Loss: 2368.019625067711\n",
      "Step: 1000. Loss: 1873.9200805425644\n",
      "Step: 1250. Loss: 1454.896331757307\n",
      "Step: 1500. Loss: 1196.1288295984268\n",
      "Step: 1750. Loss: 935.2762633562088\n",
      "Inference results:\n",
      "mean tensor(22.0550, requires_grad=True)\n",
      "scale tensor(1.3262, grad_fn=<AddBackward0>)\n",
      "meanH tensor(85.5826, grad_fn=<AddBackward0>)\n",
      "scaleH tensor(1.8105, grad_fn=<AddBackward0>)\n",
      "alpha_mean tensor(19.8108, requires_grad=True)\n",
      "alpha_scale tensor(2.0699, grad_fn=<AddBackward0>)\n",
      "beta_mean tensor(0.3339, requires_grad=True)\n",
      "beta_scale tensor(0.0597, grad_fn=<AddBackward0>)\n",
      "gamma_mean tensor(0.3488, requires_grad=True)\n",
      "gamma_scale tensor(0.0328, grad_fn=<AddBackward0>)\n",
      "mean_0 tensor(36.4538, requires_grad=True)\n",
      "scale_0 tensor(0.7157, grad_fn=<AddBackward0>)\n",
      "meanH_0 tensor(82.2152, requires_grad=True)\n",
      "scaleH_0 tensor(0.9139, grad_fn=<AddBackward0>)\n",
      "mean_1 tensor(36.3095, requires_grad=True)\n",
      "scale_1 tensor(0.7713, grad_fn=<AddBackward0>)\n",
      "meanH_1 tensor(63.2330, requires_grad=True)\n",
      "scaleH_1 tensor(0.9713, grad_fn=<AddBackward0>)\n",
      "mean_2 tensor(37.6097, requires_grad=True)\n",
      "scale_2 tensor(0.8126, grad_fn=<AddBackward0>)\n",
      "meanH_2 tensor(52.3453, requires_grad=True)\n",
      "scaleH_2 tensor(0.8834, grad_fn=<AddBackward0>)\n",
      "mean_3 tensor(39.9239, requires_grad=True)\n",
      "scale_3 tensor(0.6952, grad_fn=<AddBackward0>)\n",
      "meanH_3 tensor(55.6221, requires_grad=True)\n",
      "scaleH_3 tensor(0.9189, grad_fn=<AddBackward0>)\n",
      "mean_4 tensor(43.9403, requires_grad=True)\n",
      "scale_4 tensor(0.7093, grad_fn=<AddBackward0>)\n",
      "meanH_4 tensor(59.5579, requires_grad=True)\n",
      "scaleH_4 tensor(0.7937, grad_fn=<AddBackward0>)\n",
      "mean_5 tensor(44.7666, requires_grad=True)\n",
      "scale_5 tensor(0.7576, grad_fn=<AddBackward0>)\n",
      "meanH_5 tensor(69.1192, requires_grad=True)\n",
      "scaleH_5 tensor(0.8944, grad_fn=<AddBackward0>)\n",
      "mean_6 tensor(45.0032, requires_grad=True)\n",
      "scale_6 tensor(0.6921, grad_fn=<AddBackward0>)\n",
      "meanH_6 tensor(67.8936, requires_grad=True)\n",
      "scaleH_6 tensor(1.0023, grad_fn=<AddBackward0>)\n",
      "mean_7 tensor(45.4897, requires_grad=True)\n",
      "scale_7 tensor(0.7345, grad_fn=<AddBackward0>)\n",
      "meanH_7 tensor(68.2625, requires_grad=True)\n",
      "scaleH_7 tensor(0.8482, grad_fn=<AddBackward0>)\n",
      "mean_8 tensor(40.6983, requires_grad=True)\n",
      "scale_8 tensor(0.8305, grad_fn=<AddBackward0>)\n",
      "meanH_8 tensor(72.4643, requires_grad=True)\n",
      "scaleH_8 tensor(0.8379, grad_fn=<AddBackward0>)\n",
      "mean_9 tensor(25.9466, requires_grad=True)\n",
      "scale_9 tensor(0.8828, grad_fn=<AddBackward0>)\n",
      "meanH_9 tensor(67.7673, requires_grad=True)\n",
      "scaleH_9 tensor(0.7341, grad_fn=<AddBackward0>)\n",
      "Finished\n"
     ]
    }
   ],
   "source": [
    "import time\n",
    "        \n",
    "#Run inference\n",
    "svi(model, obs, guide, num_steps=2000)\n",
    "\n",
    "smooth_temp=[]\n",
    "smooth_humidity=[]\n",
    "\n",
    "for i in range(obs['sensor'].shape[0]):\n",
    "    smooth_temp.append(pyro.param(f'mean_{i}').item())\n",
    "    smooth_humidity.append(pyro.param(f'meanH_{i}').item())\n",
    "\n",
    "print('Finished')"
   ]
  },
  {
   "cell_type": "markdown",
   "metadata": {
    "id": "LosM2wXBMAFX"
   },
   "source": [
    "<img src=\"https://github.com/PGM-Lab/probai-2021-pyro/blob/main/Day1/Figures/blue.png?raw=1\" alt=\"Drawing\" width=2000 height=20>\n",
    "\n",
    "Again, we can plot the observered measurements of the temperature against the **inferred real temperature** by our model. The **recovered temperature** is much less noisy than the real one."
   ]
  },
  {
   "cell_type": "code",
   "execution_count": 68,
   "metadata": {
    "colab": {
     "base_uri": "https://localhost:8080/",
     "height": 282
    },
    "id": "7kr1dbx-L-07",
    "outputId": "7e4e5df6-d9da-4a94-a87e-18f4899b1119"
   },
   "outputs": [
    {
     "data": {
      "text/plain": [
       "<matplotlib.legend.Legend at 0x169252390>"
      ]
     },
     "execution_count": 68,
     "metadata": {},
     "output_type": "execute_result"
    },
    {
     "data": {
      "image/png": "[encoded data removed]",
      "text/plain": [
       "<Figure size 640x480 with 1 Axes>"
      ]
     },
     "metadata": {},
     "output_type": "display_data"
    }
   ],
   "source": [
    "plt.plot([18., 18.7, 19.2, 17.8, 20.3, 22.4, 20.3, 21.2, 19.5, 20.1], label='Sensor Temp')\n",
    "plt.plot(smooth_temp, label='Smooth Temp')\n",
    "plt.legend()"
   ]
  },
  {
   "cell_type": "markdown",
   "metadata": {
    "id": "QStTTd9nN56M"
   },
   "source": [
    "We can also plot the observered measurements of the humidity against the **inferred real humidity** by our model. The **recovered humidity** is much less noisy than the real one."
   ]
  },
  {
   "cell_type": "code",
   "execution_count": 69,
   "metadata": {
    "colab": {
     "base_uri": "https://localhost:8080/",
     "height": 282
    },
    "id": "WD7n3v9oL-08",
    "outputId": "552faaeb-89bd-4766-e80e-cb330d78e51d"
   },
   "outputs": [
    {
     "data": {
      "text/plain": [
       "<matplotlib.legend.Legend at 0x1694cdad0>"
      ]
     },
     "execution_count": 69,
     "metadata": {},
     "output_type": "execute_result"
    },
    {
     "data": {
      "image/png": "[encoded data removed]",
      "text/plain": [
       "<Figure size 640x480 with 1 Axes>"
      ]
     },
     "metadata": {},
     "output_type": "display_data"
    }
   ],
   "source": [
    "humidity = torch.tensor([82.8, 87.6, 69.1, 74.2, 80.3, 94.2, 91.2, 92.2, 99.1, 93.2])\n",
    "plt.plot(humidity.detach().numpy(), label='Sensor Humidity')\n",
    "plt.plot(smooth_humidity, label='Smooth Humidity')\n",
    "plt.legend()"
   ]
  },
  {
   "cell_type": "markdown",
   "metadata": {
    "id": "858lPsjJOTJd"
   },
   "source": [
    "<img src=\"https://github.com/PGM-Lab/probai-2021-pyro/blob/main/Day1/Figures/blue.png?raw=1\" alt=\"Drawing\" width=2000 height=20>\n"
   ]
  }
 ],
 "metadata": {
  "colab": {
   "include_colab_link": true,
   "name": "solutions_PPLs_Intro.ipynb",
   "provenance": []
  },
  "kernelspec": {
   "display_name": "jupyter_kernel",
   "language": "python",
   "name": "jupyter_kernel"
  },
  "language_info": {
   "codemirror_mode": {
    "name": "ipython",
    "version": 3
   },
   "file_extension": ".py",
   "mimetype": "text/x-python",
   "name": "python",
   "nbconvert_exporter": "python",
   "pygments_lexer": "ipython3",
   "version": "3.11.4"
  }
 },
 "nbformat": 4,
 "nbformat_minor": 4
}
